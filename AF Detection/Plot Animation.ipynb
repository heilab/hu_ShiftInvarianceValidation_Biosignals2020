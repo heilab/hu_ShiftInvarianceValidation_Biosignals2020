{
 "cells": [
  {
   "cell_type": "code",
   "execution_count": 11,
   "metadata": {},
   "outputs": [],
   "source": [
    "import os\n",
    "import wfdb\n",
    "import pickle\n",
    "import pandas as pd\n",
    "import numpy as np\n",
    "from keras.utils import to_categorical\n",
    "from tqdm import tqdm_notebook\n",
    "from sklearn.preprocessing import MinMaxScaler\n",
    "import matplotlib.pyplot as plt\n",
    "from keras.models import load_model\n",
    "import matplotlib.animation as animation\n",
    "np.set_printoptions(suppress=True)\n",
    "from utils import BlurPooling1D,generate_marker\n",
    "from keras.utils import CustomObjectScope\n",
    "%matplotlib inline"
   ]
  },
  {
   "cell_type": "code",
   "execution_count": 12,
   "metadata": {},
   "outputs": [],
   "source": [
    "dataset_root = \"./dataset_RRI/\"\n",
    "win_len = 100\n",
    "min_norm,max_norm = 47,651"
   ]
  },
  {
   "cell_type": "code",
   "execution_count": 13,
   "metadata": {},
   "outputs": [],
   "source": [
    "test_keys_dict = {0: ['08434', '04746', '07162'], \n",
    "              1: ['08219', '07162', '05091'], \n",
    "              2: ['07879', '07162', '08455'], \n",
    "              3: ['05261', '06453', '07162'], \n",
    "              4: ['07162', '04043', '08405']}\n",
    "\n",
    "\n",
    "cross_change_dict = {\n",
    "    0:3,\n",
    "    1:1,\n",
    "    2:4,\n",
    "    3:2,\n",
    "    4:0\n",
    "}"
   ]
  },
  {
   "cell_type": "markdown",
   "metadata": {},
   "source": [
    "## load results"
   ]
  },
  {
   "cell_type": "code",
   "execution_count": 39,
   "metadata": {},
   "outputs": [],
   "source": [
    "result_roots = [\"./Result_CNN_pool1/\",\"./Result_CNN_pool2/\"]\n",
    "result_files = []\n",
    "for result_root in result_roots:\n",
    "    result_dirs = [os.path.join(result_root,i) for i in os.listdir(result_root) if \"results\" in i]\n",
    "    for result_dir in result_dirs:\n",
    "        result_file = os.path.join(result_dir,\"new_result.csv\")\n",
    "        if os.path.exists(result_file):\n",
    "            result_files.append(result_file)\n",
    "result_files.sort()\n",
    "dfs = []\n",
    "for file in result_files:\n",
    "    df = pd.read_csv(file)\n",
    "    df = df.drop(['_'],axis=1)\n",
    "    pool_type = list(df[\"pool_type\"])[0]\n",
    "    if pool_type == \"maxblur-\":\n",
    "        df[\"pool_type\"] = [\"avg\" for i in range(len(df))]\n",
    "        pool_type = \"avg\"\n",
    "    df[\"marker\"] = [generate_marker(pool_type) for i in range(len(df))]\n",
    "    dfs.append(df)\n",
    "result_df = pd.concat(dfs)"
   ]
  },
  {
   "cell_type": "code",
   "execution_count": 41,
   "metadata": {},
   "outputs": [
    {
     "data": {
      "text/html": [
       "<div>\n",
       "<style scoped>\n",
       "    .dataframe tbody tr th:only-of-type {\n",
       "        vertical-align: middle;\n",
       "    }\n",
       "\n",
       "    .dataframe tbody tr th {\n",
       "        vertical-align: top;\n",
       "    }\n",
       "\n",
       "    .dataframe thead th {\n",
       "        text-align: right;\n",
       "    }\n",
       "</style>\n",
       "<table border=\"1\" class=\"dataframe\">\n",
       "  <thead>\n",
       "    <tr style=\"text-align: right;\">\n",
       "      <th></th>\n",
       "      <th>idx</th>\n",
       "      <th>pool_factor</th>\n",
       "      <th>pool_type</th>\n",
       "      <th>cross_idx</th>\n",
       "      <th>repeat_idx</th>\n",
       "      <th>loss</th>\n",
       "      <th>accuracy</th>\n",
       "      <th>consis_b</th>\n",
       "      <th>consis_ub</th>\n",
       "      <th>consis_n</th>\n",
       "      <th>consis_a</th>\n",
       "      <th>consis_a_s</th>\n",
       "      <th>marker</th>\n",
       "    </tr>\n",
       "  </thead>\n",
       "  <tbody>\n",
       "    <tr>\n",
       "      <td>0</td>\n",
       "      <td>2</td>\n",
       "      <td>1</td>\n",
       "      <td>max</td>\n",
       "      <td>0</td>\n",
       "      <td>1</td>\n",
       "      <td>1.267224</td>\n",
       "      <td>0.831081</td>\n",
       "      <td>0.797629</td>\n",
       "      <td>0.772520</td>\n",
       "      <td>0.772447</td>\n",
       "      <td>0.772534</td>\n",
       "      <td>0.822811</td>\n",
       "      <td>$M$</td>\n",
       "    </tr>\n",
       "    <tr>\n",
       "      <td>1</td>\n",
       "      <td>14</td>\n",
       "      <td>1</td>\n",
       "      <td>max</td>\n",
       "      <td>1</td>\n",
       "      <td>3</td>\n",
       "      <td>1.258857</td>\n",
       "      <td>0.772727</td>\n",
       "      <td>0.740067</td>\n",
       "      <td>0.845580</td>\n",
       "      <td>0.535488</td>\n",
       "      <td>0.905061</td>\n",
       "      <td>0.944646</td>\n",
       "      <td>$M$</td>\n",
       "    </tr>\n",
       "    <tr>\n",
       "      <td>2</td>\n",
       "      <td>24</td>\n",
       "      <td>1</td>\n",
       "      <td>max</td>\n",
       "      <td>2</td>\n",
       "      <td>3</td>\n",
       "      <td>0.452523</td>\n",
       "      <td>0.893333</td>\n",
       "      <td>0.861284</td>\n",
       "      <td>0.737744</td>\n",
       "      <td>0.988930</td>\n",
       "      <td>0.690847</td>\n",
       "      <td>0.733638</td>\n",
       "      <td>$M$</td>\n",
       "    </tr>\n",
       "    <tr>\n",
       "      <td>3</td>\n",
       "      <td>32</td>\n",
       "      <td>1</td>\n",
       "      <td>max</td>\n",
       "      <td>3</td>\n",
       "      <td>1</td>\n",
       "      <td>0.100253</td>\n",
       "      <td>0.952055</td>\n",
       "      <td>0.943946</td>\n",
       "      <td>0.914907</td>\n",
       "      <td>0.979087</td>\n",
       "      <td>0.903252</td>\n",
       "      <td>0.908806</td>\n",
       "      <td>$M$</td>\n",
       "    </tr>\n",
       "    <tr>\n",
       "      <td>4</td>\n",
       "      <td>42</td>\n",
       "      <td>1</td>\n",
       "      <td>max</td>\n",
       "      <td>4</td>\n",
       "      <td>1</td>\n",
       "      <td>0.490812</td>\n",
       "      <td>0.856164</td>\n",
       "      <td>0.830203</td>\n",
       "      <td>0.701976</td>\n",
       "      <td>0.890881</td>\n",
       "      <td>0.667674</td>\n",
       "      <td>0.769526</td>\n",
       "      <td>$M$</td>\n",
       "    </tr>\n",
       "    <tr>\n",
       "      <td>...</td>\n",
       "      <td>...</td>\n",
       "      <td>...</td>\n",
       "      <td>...</td>\n",
       "      <td>...</td>\n",
       "      <td>...</td>\n",
       "      <td>...</td>\n",
       "      <td>...</td>\n",
       "      <td>...</td>\n",
       "      <td>...</td>\n",
       "      <td>...</td>\n",
       "      <td>...</td>\n",
       "      <td>...</td>\n",
       "      <td>...</td>\n",
       "    </tr>\n",
       "    <tr>\n",
       "      <td>0</td>\n",
       "      <td>9</td>\n",
       "      <td>2</td>\n",
       "      <td>maxblur-7</td>\n",
       "      <td>0</td>\n",
       "      <td>8</td>\n",
       "      <td>0.532511</td>\n",
       "      <td>0.871622</td>\n",
       "      <td>0.844276</td>\n",
       "      <td>0.837642</td>\n",
       "      <td>0.862654</td>\n",
       "      <td>0.833036</td>\n",
       "      <td>0.825898</td>\n",
       "      <td>*</td>\n",
       "    </tr>\n",
       "    <tr>\n",
       "      <td>1</td>\n",
       "      <td>11</td>\n",
       "      <td>2</td>\n",
       "      <td>maxblur-7</td>\n",
       "      <td>1</td>\n",
       "      <td>0</td>\n",
       "      <td>1.384909</td>\n",
       "      <td>0.616883</td>\n",
       "      <td>0.605522</td>\n",
       "      <td>0.601964</td>\n",
       "      <td>0.704916</td>\n",
       "      <td>0.582216</td>\n",
       "      <td>0.506128</td>\n",
       "      <td>*</td>\n",
       "    </tr>\n",
       "    <tr>\n",
       "      <td>2</td>\n",
       "      <td>27</td>\n",
       "      <td>2</td>\n",
       "      <td>maxblur-7</td>\n",
       "      <td>2</td>\n",
       "      <td>6</td>\n",
       "      <td>0.044630</td>\n",
       "      <td>0.986667</td>\n",
       "      <td>0.990729</td>\n",
       "      <td>0.969022</td>\n",
       "      <td>1.000000</td>\n",
       "      <td>0.963239</td>\n",
       "      <td>0.981458</td>\n",
       "      <td>*</td>\n",
       "    </tr>\n",
       "    <tr>\n",
       "      <td>3</td>\n",
       "      <td>32</td>\n",
       "      <td>2</td>\n",
       "      <td>maxblur-7</td>\n",
       "      <td>3</td>\n",
       "      <td>1</td>\n",
       "      <td>0.225429</td>\n",
       "      <td>0.910959</td>\n",
       "      <td>0.914924</td>\n",
       "      <td>0.865101</td>\n",
       "      <td>1.000000</td>\n",
       "      <td>0.840606</td>\n",
       "      <td>0.829848</td>\n",
       "      <td>*</td>\n",
       "    </tr>\n",
       "    <tr>\n",
       "      <td>4</td>\n",
       "      <td>46</td>\n",
       "      <td>2</td>\n",
       "      <td>maxblur-7</td>\n",
       "      <td>4</td>\n",
       "      <td>5</td>\n",
       "      <td>0.291872</td>\n",
       "      <td>0.883562</td>\n",
       "      <td>0.886399</td>\n",
       "      <td>0.921225</td>\n",
       "      <td>0.881633</td>\n",
       "      <td>0.928415</td>\n",
       "      <td>0.891165</td>\n",
       "      <td>*</td>\n",
       "    </tr>\n",
       "  </tbody>\n",
       "</table>\n",
       "<p>70 rows × 13 columns</p>\n",
       "</div>"
      ],
      "text/plain": [
       "    idx  pool_factor  pool_type  cross_idx  repeat_idx      loss  accuracy  \\\n",
       "0     2            1        max          0           1  1.267224  0.831081   \n",
       "1    14            1        max          1           3  1.258857  0.772727   \n",
       "2    24            1        max          2           3  0.452523  0.893333   \n",
       "3    32            1        max          3           1  0.100253  0.952055   \n",
       "4    42            1        max          4           1  0.490812  0.856164   \n",
       "..  ...          ...        ...        ...         ...       ...       ...   \n",
       "0     9            2  maxblur-7          0           8  0.532511  0.871622   \n",
       "1    11            2  maxblur-7          1           0  1.384909  0.616883   \n",
       "2    27            2  maxblur-7          2           6  0.044630  0.986667   \n",
       "3    32            2  maxblur-7          3           1  0.225429  0.910959   \n",
       "4    46            2  maxblur-7          4           5  0.291872  0.883562   \n",
       "\n",
       "    consis_b  consis_ub  consis_n  consis_a  consis_a_s marker  \n",
       "0   0.797629   0.772520  0.772447  0.772534    0.822811    $M$  \n",
       "1   0.740067   0.845580  0.535488  0.905061    0.944646    $M$  \n",
       "2   0.861284   0.737744  0.988930  0.690847    0.733638    $M$  \n",
       "3   0.943946   0.914907  0.979087  0.903252    0.908806    $M$  \n",
       "4   0.830203   0.701976  0.890881  0.667674    0.769526    $M$  \n",
       "..       ...        ...       ...       ...         ...    ...  \n",
       "0   0.844276   0.837642  0.862654  0.833036    0.825898      *  \n",
       "1   0.605522   0.601964  0.704916  0.582216    0.506128      *  \n",
       "2   0.990729   0.969022  1.000000  0.963239    0.981458      *  \n",
       "3   0.914924   0.865101  1.000000  0.840606    0.829848      *  \n",
       "4   0.886399   0.921225  0.881633  0.928415    0.891165      *  \n",
       "\n",
       "[70 rows x 13 columns]"
      ]
     },
     "execution_count": 41,
     "metadata": {},
     "output_type": "execute_result"
    }
   ],
   "source": [
    "result_df"
   ]
  },
  {
   "cell_type": "code",
   "execution_count": 42,
   "metadata": {},
   "outputs": [],
   "source": [
    "def int2label(label):\n",
    "    if label==0:\n",
    "        return \"Normal\"\n",
    "    elif label==1:\n",
    "        return \"AF\"\n"
   ]
  },
  {
   "cell_type": "code",
   "execution_count": 43,
   "metadata": {},
   "outputs": [],
   "source": [
    "def update(i, confidence,confidences,segments,label,offset,ax1,ax2):\n",
    "    if i !=0:\n",
    "        ax1.cla()\n",
    "        ax2.cla()\n",
    "    c = confidence[i]\n",
    "    segment = segments[i]\n",
    "    if c<0.5:\n",
    "        color = \"red\"\n",
    "    elif c<0.7:\n",
    "        color = \"yellow\"\n",
    "    else:\n",
    "        color = \"green\"\n",
    "    ax1.plot([i+j+offset for j in range(win_len)],segment,color=\"b\")\n",
    "    ax1.set_ylim(0,1)\n",
    "    ax1.set_xlabel(\"RRI Index\",fontsize=15)\n",
    "    ax1.set_ylabel(\"Normalized RRI value\",fontsize=15)\n",
    "    ax1.set_title(\"Label:\"+int2label(label),fontsize=15)\n",
    "    ax2.bar(range(1, 2), c, color=color, align='center')\n",
    "    ax2.set_title(\"Confidence of predict true label\",fontsize=15)\n",
    "    ax2.set_xticklabels([])\n",
    "    ax2.set_ylim(0,1)\n",
    "    "
   ]
  },
  {
   "cell_type": "code",
   "execution_count": 44,
   "metadata": {},
   "outputs": [],
   "source": [
    "def plot_animation(seg_idx,segments,label,confidence,confidences,save_path):\n",
    "    fig,(ax1,ax2) = plt.subplots(1,2,figsize=(15,5)) #figure objectを取得\n",
    "    ax3 = ax2.twinx()\n",
    "    ax3.boxplot(confidences)\n",
    "    ax3.set_ylim(ax2.get_ylim())\n",
    "    ax3.set_yticklabels([])\n",
    "    ani = animation.FuncAnimation(fig, update, \n",
    "                                  fargs = (confidence,confidences,segments,label,seg_idx,ax1,ax2), \n",
    "                                  interval = win_len,frames=win_len-1)\n",
    "    ani.save(save_path, writer = 'ffmpeg')\n",
    "    plt.close()\n",
    "    "
   ]
  },
  {
   "cell_type": "code",
   "execution_count": 45,
   "metadata": {},
   "outputs": [],
   "source": [
    "def plot_anim_warp(X,seg_idx,label,confidences,model,save_path):\n",
    "    continue_seg = np.concatenate( [X[seg_idx],X[seg_idx+1]],axis=0)\n",
    "    sliding_win_start = 1\n",
    "    sliding_win_end = sliding_win_start+win_len\n",
    "    step = 1\n",
    "    slided_data = []\n",
    "    while(sliding_win_end<len(continue_seg)):\n",
    "        data = continue_seg[sliding_win_start:sliding_win_end]\n",
    "        slided_data.append(data)\n",
    "        sliding_win_start += step\n",
    "        sliding_win_end += step\n",
    "    slided_data = np.array(slided_data)\n",
    "    slided_data = (slided_data - min_norm)/(max_norm-min_norm)\n",
    "    logits = model.predict(np.expand_dims(slided_data,axis=2))\n",
    "    confidence = logits[:,label]\n",
    "    plot_animation(seg_idx,slided_data,label,confidence,confidences,save_path)\n",
    "\n",
    "def calc_confidence_once(X,label,seg_idx,model):\n",
    "    continue_seg = np.concatenate( [X[seg_idx],X[seg_idx+1]],axis=0)\n",
    "    sliding_win_start = 1\n",
    "    sliding_win_end = sliding_win_start+win_len\n",
    "    step = 1\n",
    "    consistency_list = [] \n",
    "    slided_data = []\n",
    "    while(sliding_win_end<len(continue_seg)):\n",
    "        data = continue_seg[sliding_win_start:sliding_win_end]\n",
    "        slided_data.append(data)\n",
    "        sliding_win_start += step\n",
    "        sliding_win_end += step\n",
    "    slided_data = np.array(slided_data)\n",
    "    slided_data = (slided_data - min_norm)/(max_norm-min_norm)\n",
    "    logits = model.predict(np.expand_dims(slided_data,axis=2))\n",
    "    return logits[:,label]\n",
    "\n",
    "def calc_confidences(X,y,start,end,model):\n",
    "    confidencs = []\n",
    "    if len(X)==1:\n",
    "        print(\"Can not sliding because X only have 1 segment \")\n",
    "    for seg_idx in range(len(X)-1):\n",
    "        seg = X[seg_idx]\n",
    "        next_seg = X[seg_idx+1]\n",
    "        seg_end = end[seg_idx]\n",
    "        next_seg_start = start[seg_idx+1]\n",
    "        label = np.argmax(y[seg_idx])\n",
    "        next_label = np.argmax(y[seg_idx+1])\n",
    "        if not (seg_end == next_seg_start and label==next_label):continue\n",
    "        confidencs.append(calc_confidence_once(X,label,seg_idx,model))\n",
    "    confidencs = np.concatenate(confidencs,axis=0)\n",
    "    return confidencs"
   ]
  },
  {
   "cell_type": "code",
   "execution_count": 46,
   "metadata": {},
   "outputs": [],
   "source": [
    "def load_data(key):\n",
    "    with open(os.path.join(dataset_root,key+\".pickle\"),\"rb\") as f:\n",
    "        dataset = pickle.load(f)\n",
    "    X = dataset[\"X\"]\n",
    "    y = to_categorical(dataset[\"y\"],2)\n",
    "    start = dataset[\"start\"]\n",
    "    end = dataset[\"end\"]\n",
    "    return X,y,start,end"
   ]
  },
  {
   "cell_type": "code",
   "execution_count": null,
   "metadata": {},
   "outputs": [],
   "source": []
  },
  {
   "cell_type": "markdown",
   "metadata": {},
   "source": [
    "## Load all dataset"
   ]
  },
  {
   "cell_type": "code",
   "execution_count": 47,
   "metadata": {},
   "outputs": [],
   "source": [
    "X_test_cross = {}\n",
    "y_test_cross = {}\n",
    "for i in range(5):\n",
    "    with open(os.path.join(\"./dataset_RRI/\",\"dataset-cross\"+str(i)+\".pickle\"),\"rb\") as f:\n",
    "        dataset=pickle.load(f)\n",
    "    X_test_cross[i] = dataset[\"X_test\"]\n",
    "    y_test_cross[i] = dataset[\"y_test\"]"
   ]
  },
  {
   "cell_type": "markdown",
   "metadata": {},
   "source": [
    "## Plot sample animation"
   ]
  },
  {
   "cell_type": "code",
   "execution_count": 48,
   "metadata": {},
   "outputs": [
    {
     "name": "stdout",
     "output_type": "stream",
     "text": [
      "load ./Result_CNN_pool2/results_max/models/24-model.h5\n"
     ]
    },
    {
     "data": {
      "application/vnd.jupyter.widget-view+json": {
       "model_id": "559d66c7a0e647e697ea3ffdf2d667ab",
       "version_major": 2,
       "version_minor": 0
      },
      "text/plain": [
       "HBox(children=(IntProgress(value=0, max=10), HTML(value='')))"
      ]
     },
     "metadata": {},
     "output_type": "display_data"
    },
    {
     "name": "stdout",
     "output_type": "stream",
     "text": [
      "\n",
      "load ./Result_CNN_pool2/results_maxblur-7/models/27-model.h5\n"
     ]
    },
    {
     "data": {
      "application/vnd.jupyter.widget-view+json": {
       "model_id": "a0b469a713ab40e893391539496db9de",
       "version_major": 2,
       "version_minor": 0
      },
      "text/plain": [
       "HBox(children=(IntProgress(value=0, max=10), HTML(value='')))"
      ]
     },
     "metadata": {},
     "output_type": "display_data"
    },
    {
     "name": "stdout",
     "output_type": "stream",
     "text": [
      "\n",
      "load ./Result_CNN_pool2/results_max/models/24-model.h5\n"
     ]
    },
    {
     "data": {
      "application/vnd.jupyter.widget-view+json": {
       "model_id": "9b9bb4f8df854c3d983d81ab73df0486",
       "version_major": 2,
       "version_minor": 0
      },
      "text/plain": [
       "HBox(children=(IntProgress(value=0, max=10), HTML(value='')))"
      ]
     },
     "metadata": {},
     "output_type": "display_data"
    },
    {
     "name": "stdout",
     "output_type": "stream",
     "text": [
      "\n",
      "load ./Result_CNN_pool2/results_maxblur-7/models/27-model.h5\n"
     ]
    },
    {
     "data": {
      "application/vnd.jupyter.widget-view+json": {
       "model_id": "9f60740ca718411a8a2f590d7a42e0f5",
       "version_major": 2,
       "version_minor": 0
      },
      "text/plain": [
       "HBox(children=(IntProgress(value=0, max=10), HTML(value='')))"
      ]
     },
     "metadata": {},
     "output_type": "display_data"
    },
    {
     "name": "stdout",
     "output_type": "stream",
     "text": [
      "\n",
      "load ./Result_CNN_pool2/results_max/models/24-model.h5\n"
     ]
    },
    {
     "data": {
      "application/vnd.jupyter.widget-view+json": {
       "model_id": "51e29716bad54137982a2a8cb10b782f",
       "version_major": 2,
       "version_minor": 0
      },
      "text/plain": [
       "HBox(children=(IntProgress(value=0, max=10), HTML(value='')))"
      ]
     },
     "metadata": {},
     "output_type": "display_data"
    },
    {
     "name": "stdout",
     "output_type": "stream",
     "text": [
      "\n",
      "load ./Result_CNN_pool2/results_maxblur-7/models/27-model.h5\n"
     ]
    },
    {
     "data": {
      "application/vnd.jupyter.widget-view+json": {
       "model_id": "cb15e5e1a4e2498da9014b5d7d9d068a",
       "version_major": 2,
       "version_minor": 0
      },
      "text/plain": [
       "HBox(children=(IntProgress(value=0, max=10), HTML(value='')))"
      ]
     },
     "metadata": {},
     "output_type": "display_data"
    },
    {
     "name": "stdout",
     "output_type": "stream",
     "text": [
      "\n"
     ]
    }
   ],
   "source": [
    "pool_factor = 2\n",
    "cross_idx = 2\n",
    "\n",
    "pool_types = [\"max\",\"maxblur-7\"]\n",
    "save_dir = \"anims\"\n",
    "result_root = \"./Result_CNN_pool\"+str(pool_factor)\n",
    "\n",
    "data_cross_idx = cross_change_dict[cross_idx]\n",
    "test_keys = test_keys_dict[data_cross_idx]\n",
    "\n",
    "\n",
    "num = 10\n",
    "\n",
    "for test_key in test_keys:\n",
    "    X,y,start,end = load_data(test_key)\n",
    "    rand_indicies = [np.random.randint(len(X)-1) for i in range(num)]   \n",
    "\n",
    "    confidence_dict = {}\n",
    "    for pool_type in pool_types: \n",
    "        row = result_df[(result_df.pool_factor==pool_factor)&(result_df.pool_type==pool_type)&(result_df.cross_idx==cross_idx)]\n",
    "        idx = int(row[\"idx\"])\n",
    "        true_acc = float(row[\"accuracy\"])\n",
    "\n",
    "        model_path = os.path.join(os.path.join(result_root,\"results_\"+pool_type),\n",
    "                                  os.path.join(\"models\",str(idx)+\"-model.h5\"))\n",
    "        with CustomObjectScope({'BlurPooling1D': BlurPooling1D}):\n",
    "            model = load_model(model_path)\n",
    "        print(\"load\",model_path)\n",
    "        \n",
    "        confidencs = calc_confidences(X,y,start,end,model)\n",
    "        for rand_idx in tqdm_notebook(rand_indicies):              \n",
    "            label = np.argmax(y,axis=1)[rand_idx]\n",
    "            next_label = np.argmax(y,axis=1)[rand_idx+1]\n",
    "            assert(label == next_label)\n",
    "            save_path = os.path.join(save_dir,\"k\"+test_key+\"_\"+pool_type+\"_\"+str(rand_idx)+\".mp4\")\n",
    "            plot_anim_warp(X,rand_idx,label,confidencs,model,save_path)\n",
    "        '''\n",
    "        continue_seg = np.concatenate( [X[rand_idx],X[rand_idx+1]],axis=0)\n",
    "        sliding_win_start = 1\n",
    "        sliding_win_end = sliding_win_start+win_len\n",
    "        step = 1\n",
    "        slided_data = []\n",
    "        while(sliding_win_end<len(continue_seg)):\n",
    "            data = continue_seg[sliding_win_start:sliding_win_end]\n",
    "            slided_data.append(data)\n",
    "            sliding_win_start += step\n",
    "            sliding_win_end += step\n",
    "        slided_data = np.array(slided_data)\n",
    "        slided_data = (slided_data - min_norm)/(max_norm-min_norm)\n",
    "        logits = model.predict(np.expand_dims(slided_data,axis=2))\n",
    "        confidence = logits[:,label]\n",
    "        confidence_dict[pool_type] = confidence\n",
    "        '''"
   ]
  },
  {
   "cell_type": "code",
   "execution_count": null,
   "metadata": {},
   "outputs": [],
   "source": []
  },
  {
   "cell_type": "code",
   "execution_count": null,
   "metadata": {},
   "outputs": [],
   "source": []
  },
  {
   "cell_type": "code",
   "execution_count": 54,
   "metadata": {},
   "outputs": [
    {
     "name": "stdout",
     "output_type": "stream",
     "text": [
      "load ./Result_CNN_pool2/results_max/models/24-model.h5\n",
      "load ./Result_CNN_pool2/results_maxblur-7/models/27-model.h5\n"
     ]
    }
   ],
   "source": [
    "pool_factor = 2\n",
    "cross_idx = 2\n",
    "pool_types = [\"max\",\"maxblur-7\"]\n",
    "save_dir = \"anims\"\n",
    "result_root = \"./Result_CNN_pool\"+str(pool_factor)\n",
    "\n",
    "data_cross_idx = cross_change_dict[cross_idx]\n",
    "test_keys = test_keys_dict[data_cross_idx]\n",
    "\n",
    "rand_idx = 123\n",
    "test_key = \"07162\"\n",
    "X,y,start,end = load_data(test_key)\n",
    "\n",
    "confidence_dict = {}\n",
    "for pool_type in pool_types: \n",
    "    row = result_df[(result_df.pool_factor==pool_factor)&(result_df.pool_type==pool_type)&(result_df.cross_idx==cross_idx)]\n",
    "    idx = int(row[\"idx\"])\n",
    "    true_acc = float(row[\"accuracy\"])\n",
    "\n",
    "    model_path = os.path.join(os.path.join(result_root,\"results_\"+pool_type),\n",
    "                              os.path.join(\"models\",str(idx)+\"-model.h5\"))\n",
    "    with CustomObjectScope({'BlurPooling1D': BlurPooling1D}):\n",
    "        model = load_model(model_path)\n",
    "    print(\"load\",model_path)\n",
    "\n",
    "    confidencs = calc_confidences(X,y,start,end,model)\n",
    "\n",
    "    label = np.argmax(y,axis=1)[rand_idx]\n",
    "    next_label = np.argmax(y,axis=1)[rand_idx+1]\n",
    "    assert(label == next_label)\n",
    "    continue_seg = np.concatenate( [X[rand_idx],X[rand_idx+1]],axis=0)\n",
    "    sliding_win_start = 1\n",
    "    sliding_win_end = sliding_win_start+win_len\n",
    "    step = 1\n",
    "    slided_data = []\n",
    "    while(sliding_win_end<len(continue_seg)):\n",
    "        data = continue_seg[sliding_win_start:sliding_win_end]\n",
    "        slided_data.append(data)\n",
    "        sliding_win_start += step\n",
    "        sliding_win_end += step\n",
    "    slided_data = np.array(slided_data)\n",
    "    slided_data = (slided_data - min_norm)/(max_norm-min_norm)\n",
    "    logits = model.predict(np.expand_dims(slided_data,axis=2))\n",
    "    confidence = logits[:,label]\n",
    "    confidence_dict[pool_type] = confidence"
   ]
  },
  {
   "cell_type": "code",
   "execution_count": 55,
   "metadata": {},
   "outputs": [
    {
     "data": {
      "text/plain": [
       "<matplotlib.legend.Legend at 0x163a715c0>"
      ]
     },
     "execution_count": 55,
     "metadata": {},
     "output_type": "execute_result"
    },
    {
     "data": {
      "image/png": "[encoded data removed]",
      "text/plain": [
       "<Figure size 1440x360 with 1 Axes>"
      ]
     },
     "metadata": {
      "needs_background": "light"
     },
     "output_type": "display_data"
    }
   ],
   "source": [
    "plt.figure(figsize=(20,5))\n",
    "for pool_type in pool_types:\n",
    "    confidence = confidence_dict[pool_type]\n",
    "    plt.plot(confidence,label=pool_type)\n",
    "    plt.scatter(x=list(range(99)),y=confidence,marker=\"o\",c=\"\",edgecolors=\"k\",s=100)\n",
    "plt.legend(fontsize=20)\n",
    "plt.xticks(fontsize=20)\n",
    "plt.yticks(fontsize=20)\n",
    "plt.ylabel(\"Confidence\",fontsize=20)\n",
    "plt.xlabel(\"Shift offset\",fontsize=20)\n",
    "plt.legend(loc=\"lower left\",fontsize=20)"
   ]
  },
  {
   "cell_type": "code",
   "execution_count": null,
   "metadata": {},
   "outputs": [],
   "source": []
  },
  {
   "cell_type": "code",
   "execution_count": null,
   "metadata": {},
   "outputs": [],
   "source": []
  },
  {
   "cell_type": "code",
   "execution_count": null,
   "metadata": {},
   "outputs": [],
   "source": []
  }
 ],
 "metadata": {
  "kernelspec": {
   "display_name": "Python 3",
   "language": "python",
   "name": "python3"
  },
  "language_info": {
   "codemirror_mode": {
    "name": "ipython",
    "version": 3
   },
   "file_extension": ".py",
   "mimetype": "text/x-python",
   "name": "python",
   "nbconvert_exporter": "python",
   "pygments_lexer": "ipython3",
   "version": "3.6.6"
  }
 },
 "nbformat": 4,
 "nbformat_minor": 2
}
