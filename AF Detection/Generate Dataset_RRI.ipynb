{
 "cells": [
  {
   "cell_type": "code",
   "execution_count": 2,
   "metadata": {},
   "outputs": [],
   "source": [
    "import os\n",
    "import wfdb\n",
    "import pickle\n",
    "import pandas as pd\n",
    "import numpy as np\n",
    "from itertools import combinations\n",
    "from keras.utils import to_categorical\n",
    "from tqdm import tqdm_notebook\n",
    "from sklearn.preprocessing import MinMaxScaler\n",
    "import matplotlib.pyplot as plt\n",
    "import seaborn as sns\n",
    "np.set_printoptions(suppress=True)\n",
    "%matplotlib inline"
   ]
  },
  {
   "cell_type": "code",
   "execution_count": 3,
   "metadata": {},
   "outputs": [],
   "source": [
    "data_root = \"./data/\"\n",
    "fs = 250\n",
    "win_len = 100 #Each segment contains 100 RR-interval\n",
    "note_list = ['00735','03665','04043','04936','05091','06453','08378','08405','08434','08455']"
   ]
  },
  {
   "cell_type": "code",
   "execution_count": 4,
   "metadata": {},
   "outputs": [
    {
     "name": "stdout",
     "output_type": "stream",
     "text": [
      "There are 23 records\n"
     ]
    }
   ],
   "source": [
    "keys = []\n",
    "for i in os.listdir(data_root):\n",
    "    if not \".dat\" in i:continue\n",
    "    key = i.split(\".\")[0]\n",
    "    #if key not in note_list:\n",
    "    keys.append(key)\n",
    "print(\"There are\",len(keys),\"records\")"
   ]
  },
  {
   "cell_type": "markdown",
   "metadata": {},
   "source": [
    "## Make RRI dataset "
   ]
  },
  {
   "cell_type": "code",
   "execution_count": 5,
   "metadata": {},
   "outputs": [],
   "source": [
    "# ## other useful functions\n",
    "def find_nearest_idx(array, value):\n",
    "    array = np.asarray(array)\n",
    "    idx = (np.abs(array - value)).argmin()\n",
    "    return idx"
   ]
  },
  {
   "cell_type": "code",
   "execution_count": 6,
   "metadata": {},
   "outputs": [],
   "source": [
    "def find_label(rri_start,rri_end,ann_label_idx,ann_labels):\n",
    "    start_label = ann_labels[ find_nearest_idx(ann_label_idx,rri_start) ] \n",
    "    end_label = ann_labels[ find_nearest_idx(ann_label_idx,rri_start) ] \n",
    "    if start_label != end_label:\n",
    "        return None\n",
    "    return start_label[1:]"
   ]
  },
  {
   "cell_type": "code",
   "execution_count": 20,
   "metadata": {},
   "outputs": [],
   "source": [
    "def Generate_RRI_dataset(key):\n",
    "    signals,fields = wfdb.rdsamp(os.path.join(data_root,key))\n",
    "    ann_RRI = wfdb.rdann(os.path.join(data_root,key),extension=\"qrs\").sample\n",
    "    ann_label_index = wfdb.rdann(os.path.join(data_root,key),extension=\"atr\").sample\n",
    "    ann_labels = wfdb.rdann(os.path.join(data_root,key),extension=\"atr\").aux_note\n",
    "    \n",
    "    last_rri_idx = ann_RRI[0]\n",
    "    records = []\n",
    "    RRI_list = []\n",
    "    label_list = []\n",
    "    for rri_idx in ann_RRI[1:]:\n",
    "        rri_value = rri_idx-last_rri_idx\n",
    "        last_rri_idx = rri_idx\n",
    "        label = find_label(last_rri_idx,rri_idx,ann_label_index,ann_labels)\n",
    "        RRI_list.append(rri_value)\n",
    "        label_list.append(label)\n",
    "    \n",
    "    start = 0\n",
    "    end = start + win_len\n",
    "    X = []\n",
    "    y = []\n",
    "    start_list=[]\n",
    "    end_list = []\n",
    "    \n",
    "    num_seg = int(len(RRI_list)/win_len)\n",
    "    for i in range(num_seg):\n",
    "        RRI_segment = RRI_list[start:end]\n",
    "        labels = label_list[start:end]\n",
    "        if (np.max(RRI_segment) > 1000):\n",
    "            print(\"abnormal RRI segment\")\n",
    "            continue\n",
    "        if(len(set(labels))==1 and labels[0]==\"N\"):\n",
    "            global_label = 0\n",
    "        elif (len(set(labels))==1 and labels[0]==\"AFIB\"):\n",
    "            global_label = 1\n",
    "        else:\n",
    "            print(\"not all labels are AF or N\")\n",
    "            continue\n",
    "        X.append(RRI_segment)\n",
    "        y.append(global_label)\n",
    "        start_list.append(start)\n",
    "        end_list.append(end)\n",
    "        start += win_len\n",
    "        end = start + win_len\n",
    "        \n",
    "    X = np.array(X)\n",
    "    y = np.array(y)\n",
    "    print(key,X.shape,y.shape)\n",
    "    return X,y,start_list,end_list"
   ]
  },
  {
   "cell_type": "code",
   "execution_count": 8,
   "metadata": {},
   "outputs": [],
   "source": [
    "def make_balanced_and_shuffle(X,y,num_calss=2):\n",
    "    one_hot_y = to_categorical(y,4)\n",
    "    \n",
    "    num_each_class = np.sum(one_hot_y,axis=0)\n",
    "    num = int(min(num_each_class[0],num_each_class[1]))\n",
    "    \n",
    "    balanced_X = []\n",
    "    balanced_y = []\n",
    "    for class_idx in range(num_calss):\n",
    "        indices = np.where(y==class_idx)\n",
    "        selected_X = X[indices]\n",
    "        selected_y = y[indices]\n",
    "        balanced_X.append( selected_X[:num] )\n",
    "        balanced_y.append( selected_y[:num])\n",
    "    X = np.concatenate(balanced_X,axis=0)\n",
    "    y = np.concatenate(balanced_y,axis=0)\n",
    "    rand_index = np.random.permutation(len(X))\n",
    "    X = X[rand_index]\n",
    "    y = to_categorical(y[rand_index],num_classes=num_calss)\n",
    "    return X,y"
   ]
  },
  {
   "cell_type": "code",
   "execution_count": 9,
   "metadata": {},
   "outputs": [],
   "source": [
    "def normalizaiton(X_train,X_test):\n",
    "    max_v = np.max(X_train)\n",
    "    min_v = np.min(X_train)\n",
    "    X_train = (X_train - min_v) / (max_v-min_v)\n",
    "    X_test = (X_test - min_v) / (max_v-min_v)\n",
    "    return X_train,X_test"
   ]
  },
  {
   "cell_type": "code",
   "execution_count": 10,
   "metadata": {},
   "outputs": [],
   "source": [
    "cross = 5\n",
    "num_keys_every_cross = int(len(keys)/cross)\n",
    "save_dir = \"./dataset_RRI\""
   ]
  },
  {
   "cell_type": "code",
   "execution_count": 12,
   "metadata": {},
   "outputs": [
    {
     "data": {
      "application/vnd.jupyter.widget-view+json": {
       "model_id": "881d7389ce164f3fb6696a3e6d9581ac",
       "version_major": 2,
       "version_minor": 0
      },
      "text/plain": [
       "HBox(children=(IntProgress(value=0, max=23), HTML(value='')))"
      ]
     },
     "metadata": {},
     "output_type": "display_data"
    },
    {
     "name": "stdout",
     "output_type": "stream",
     "text": [
      "08434 (50, 100) (50,)\n",
      "08378 (14, 100) (14,)\n",
      "08219 (44, 100) (44,)\n",
      "06426 (14, 100) (14,)\n",
      "05261 (55, 100) (55,)\n",
      "04746 (23, 100) (23,)\n",
      "07879 (1, 100) (1,)\n",
      "06453 (19, 100) (19,)\n",
      "04126 (0,) (0,)\n",
      "07162 (392, 100) (392,)\n",
      "08455 (72, 100) (72,)\n",
      "04043 (9, 100) (9,)\n",
      "04908 (40, 100) (40,)\n",
      "04048 (12, 100) (12,)\n",
      "04936 (9, 100) (9,)\n",
      "05091 (33, 100) (33,)\n",
      "06995 (43, 100) (43,)\n",
      "08215 (48, 100) (48,)\n",
      "08405 (66, 100) (66,)\n",
      "05121 (43, 100) (43,)\n",
      "04015 (3, 100) (3,)\n",
      "07859 (494, 100) (494,)\n",
      "07910 (14, 100) (14,)\n",
      "\n"
     ]
    }
   ],
   "source": [
    "if not os.path.exists(save_dir):\n",
    "    os.mkdir(save_dir)\n",
    "for key in tqdm_notebook(keys):\n",
    "    save_path = os.path.join(save_dir,key+\".pickle\")\n",
    "    X,y,start,end = Generate_RRI_dataset(key)\n",
    "    if len(X)==0:continue\n",
    "    dataset = {\"X\":X,\"y\":y,\"start\":start,\"end\":end}\n",
    "    with open(save_path,\"wb\") as f:\n",
    "        pickle.dump(file=f,obj=dataset)"
   ]
  },
  {
   "cell_type": "markdown",
   "metadata": {},
   "source": [
    "## Choose Proper test keys"
   ]
  },
  {
   "cell_type": "code",
   "execution_count": 23,
   "metadata": {},
   "outputs": [
    {
     "name": "stdout",
     "output_type": "stream",
     "text": [
      "22\n"
     ]
    }
   ],
   "source": [
    "keys = [i.split(\".\")[0] for i in os.listdir(save_dir) if \".pickle\" in i and \"cross\" not in i]\n",
    "print(len(keys))"
   ]
  },
  {
   "cell_type": "code",
   "execution_count": 24,
   "metadata": {},
   "outputs": [],
   "source": [
    "label_num_dict = {}\n",
    "for key in keys:\n",
    "    load_path = os.path.join(save_dir,key+\".pickle\")\n",
    "    if not os.path.exists(load_path):continue\n",
    "    with open(load_path,\"rb\") as f:\n",
    "        dataset=pickle.load(f)\n",
    "    y = to_categorical(dataset[\"y\"],num_classes=2)\n",
    "    label_num_dict[key] = np.sum(y,axis=0)"
   ]
  },
  {
   "cell_type": "code",
   "execution_count": 25,
   "metadata": {
    "scrolled": true
   },
   "outputs": [],
   "source": [
    "for test_key_idx in list(combinations(range(len(keys)), 3)):\n",
    "    test_set_num = np.array([0.,0.])\n",
    "    train_set_num = np.array([0.,0.])\n",
    "    for i,key in enumerate(keys):\n",
    "        if i in test_key_idx:\n",
    "            test_set_num += label_num_dict[key]\n",
    "        else:\n",
    "            train_set_num += label_num_dict[key]\n",
    "    if np.min(test_set_num)>125 and np.min(train_set_num)>2500:\n",
    "        print(test_key_idx,test_set_num,train_set_num)\n",
    "    "
   ]
  },
  {
   "cell_type": "code",
   "execution_count": 26,
   "metadata": {},
   "outputs": [],
   "source": [
    "test_key_indices = [\n",
    "    (2,4,12),\n",
    "    (3,9,11),\n",
    "    (9,12,17),\n",
    "    (6,16,17),\n",
    "    (2,18,19)\n",
    "]"
   ]
  },
  {
   "cell_type": "code",
   "execution_count": 27,
   "metadata": {},
   "outputs": [
    {
     "name": "stdout",
     "output_type": "stream",
     "text": [
      "{0: ['08378', '08219', '04936'], 1: ['08215', '04043', '08455'], 2: ['04043', '04936', '04908'], 3: ['07162', '05091', '04908'], 4: ['08378', '06995', '05261']}\n"
     ]
    }
   ],
   "source": [
    "cross_valid_keys={}\n",
    "for i in range(len(test_key_indices)):\n",
    "    test_keys = []\n",
    "    indices = test_key_indices[i]\n",
    "    for idx in indices:\n",
    "        test_keys.append(keys[idx])\n",
    "    cross_valid_keys[i] = test_keys\n",
    "print(cross_valid_keys)"
   ]
  },
  {
   "cell_type": "markdown",
   "metadata": {},
   "source": [
    "## already know test keys"
   ]
  },
  {
   "cell_type": "code",
   "execution_count": 28,
   "metadata": {},
   "outputs": [],
   "source": [
    "cross_valid_keys = {\n",
    "    0:['08434', '04746', '07162'],\n",
    "    1:['08219', '07162', '05091'],\n",
    "    2:['07879', '07162', '08455'],\n",
    "    3:['05261', '06453', '07162'],\n",
    "    4:['07162', '04043', '08405']\n",
    "}"
   ]
  },
  {
   "cell_type": "markdown",
   "metadata": {},
   "source": [
    "## Generate 5-cross dataset"
   ]
  },
  {
   "cell_type": "code",
   "execution_count": 29,
   "metadata": {},
   "outputs": [],
   "source": [
    "def load_dataset(key):\n",
    "    load_path = os.path.join(save_dir,key+\".pickle\")\n",
    "    with open(load_path,\"rb\") as f:\n",
    "        dataset=pickle.load(f)\n",
    "    return dataset[\"X\"],dataset[\"y\"]"
   ]
  },
  {
   "cell_type": "code",
   "execution_count": 30,
   "metadata": {},
   "outputs": [
    {
     "name": "stdout",
     "output_type": "stream",
     "text": [
      "['08434', '04746', '07162']\n",
      "X_train: (964, 100, 1)\n",
      "y_train: (964, 2)\n",
      "X_test: (146, 100, 1)\n",
      "y_test: (146, 2)\n",
      "\n",
      "\n",
      "['08219', '07162', '05091']\n",
      "X_train: (956, 100, 1)\n",
      "y_train: (956, 2)\n",
      "X_test: (154, 100, 1)\n",
      "y_test: (154, 2)\n",
      "\n",
      "\n",
      "['07879', '07162', '08455']\n",
      "X_train: (964, 100, 1)\n",
      "y_train: (964, 2)\n",
      "X_test: (146, 100, 1)\n",
      "y_test: (146, 2)\n",
      "\n",
      "\n",
      "['05261', '06453', '07162']\n",
      "X_train: (962, 100, 1)\n",
      "y_train: (962, 2)\n",
      "X_test: (148, 100, 1)\n",
      "y_test: (148, 2)\n",
      "\n",
      "\n",
      "['07162', '04043', '08405']\n",
      "X_train: (960, 100, 1)\n",
      "y_train: (960, 2)\n",
      "X_test: (150, 100, 1)\n",
      "y_test: (150, 2)\n",
      "\n",
      "\n"
     ]
    }
   ],
   "source": [
    "for cross_idx in range(cross):\n",
    "    test_keys = cross_valid_keys[cross_idx]\n",
    "    save_path = os.path.join(save_dir,\"dataset-cross\"+str(cross_idx)+\".pickle\")\n",
    "    print(test_keys)\n",
    "    X_train = []\n",
    "    X_test = []\n",
    "    y_train = []\n",
    "    y_test = []\n",
    "    for key in keys:\n",
    "        X,y = load_dataset(key)\n",
    "        if(len(X)==0):continue\n",
    "        if key in test_keys:\n",
    "            X_test.append(X)\n",
    "            y_test.append(y)\n",
    "        else:\n",
    "            X_train.append(X)\n",
    "            y_train.append(y)\n",
    "    \n",
    "    X_train = np.expand_dims(np.concatenate(X_train,axis=0),axis=2)\n",
    "    y_train = np.concatenate(y_train,axis=0)\n",
    "    X_test = np.expand_dims(np.concatenate(X_test,axis=0),axis=2)\n",
    "    y_test = np.concatenate(y_test,axis=0)\n",
    "    \n",
    "    \n",
    "    X_train,y_train = make_balanced_and_shuffle(X_train,y_train)\n",
    "    X_test,y_test = make_balanced_and_shuffle(X_test,y_test)    \n",
    "    X_train,X_test = normalizaiton(X_train,X_test)\n",
    "    \n",
    "    print(\"X_train:\",X_train.shape)\n",
    "    print(\"y_train:\",y_train.shape)\n",
    "    print(\"X_test:\",X_test.shape)\n",
    "    print(\"y_test:\",y_test.shape)\n",
    "    print(\"\\n\")\n",
    "    dataset = {\"test_key\":test_keys,\"X_train\":X_train,\"y_trian\":y_train,\"X_test\":X_test,\"y_test\":y_test}\n",
    "    with open(save_path,\"wb\") as f:\n",
    "        pickle.dump(obj=dataset,file=f)"
   ]
  },
  {
   "cell_type": "code",
   "execution_count": 31,
   "metadata": {},
   "outputs": [
    {
     "data": {
      "text/plain": [
       "(array([  21., 2427., 8790., 2288., 1107.,  322.,   37.,    4.,    3.,\n",
       "           1.]),\n",
       " array([0.00235849, 0.12948113, 0.25660377, 0.38372642, 0.51084906,\n",
       "        0.6379717 , 0.76509434, 0.89221698, 1.01933962, 1.14646226,\n",
       "        1.27358491]),\n",
       " <a list of 10 Patch objects>)"
      ]
     },
     "execution_count": 31,
     "metadata": {},
     "output_type": "execute_result"
    },
    {
     "data": {
      "image/png": "[encoded data removed]",
      "text/plain": [
       "<Figure size 432x288 with 1 Axes>"
      ]
     },
     "metadata": {
      "needs_background": "light"
     },
     "output_type": "display_data"
    }
   ],
   "source": [
    "plt.hist(np.reshape(X_train,newshape=(-1,1)))\n",
    "plt.hist(np.reshape(X_test,newshape=(-1,1)))"
   ]
  },
  {
   "cell_type": "code",
   "execution_count": null,
   "metadata": {},
   "outputs": [],
   "source": []
  },
  {
   "cell_type": "code",
   "execution_count": null,
   "metadata": {},
   "outputs": [],
   "source": []
  },
  {
   "cell_type": "code",
   "execution_count": null,
   "metadata": {},
   "outputs": [],
   "source": []
  },
  {
   "cell_type": "code",
   "execution_count": null,
   "metadata": {},
   "outputs": [],
   "source": []
  }
 ],
 "metadata": {
  "kernelspec": {
   "display_name": "Python 3",
   "language": "python",
   "name": "python3"
  },
  "language_info": {
   "codemirror_mode": {
    "name": "ipython",
    "version": 3
   },
   "file_extension": ".py",
   "mimetype": "text/x-python",
   "name": "python",
   "nbconvert_exporter": "python",
   "pygments_lexer": "ipython3",
   "version": "3.6.6"
  }
 },
 "nbformat": 4,
 "nbformat_minor": 2
}
