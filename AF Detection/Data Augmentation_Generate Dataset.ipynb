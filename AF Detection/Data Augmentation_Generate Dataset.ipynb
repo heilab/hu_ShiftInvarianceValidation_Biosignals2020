{
 "cells": [
  {
   "cell_type": "code",
   "execution_count": 1,
   "metadata": {},
   "outputs": [
    {
     "name": "stderr",
     "output_type": "stream",
     "text": [
      "/Users/hu/.pyenv/versions/3.6.6/envs/Biosignals/lib/python3.6/site-packages/pandas/compat/__init__.py:84: UserWarning: Could not import the lzma module. Your installed Python is incomplete. Attempting to use lzma compression will result in a RuntimeError.\n",
      "  warnings.warn(msg)\n",
      "/Users/hu/.pyenv/versions/3.6.6/envs/Biosignals/lib/python3.6/site-packages/pandas/compat/__init__.py:84: UserWarning: Could not import the lzma module. Your installed Python is incomplete. Attempting to use lzma compression will result in a RuntimeError.\n",
      "  warnings.warn(msg)\n",
      "Using TensorFlow backend.\n"
     ]
    }
   ],
   "source": [
    "import os\n",
    "import wfdb\n",
    "import pickle\n",
    "import pandas as pd\n",
    "import numpy as np\n",
    "from itertools import combinations\n",
    "from keras.utils import to_categorical\n",
    "from tqdm import tqdm_notebook\n",
    "from sklearn.preprocessing import MinMaxScaler\n",
    "import matplotlib.pyplot as plt\n",
    "import seaborn as sns\n",
    "np.set_printoptions(suppress=True)\n",
    "%matplotlib inline"
   ]
  },
  {
   "cell_type": "code",
   "execution_count": 2,
   "metadata": {},
   "outputs": [],
   "source": [
    "data_root = \"./data/\"\n",
    "fs = 250\n",
    "win_len = 100 #Each segment contains 100 RR-interval\n",
    "note_list = ['00735','03665','04043','04936','05091','06453','08378','08405','08434','08455']"
   ]
  },
  {
   "cell_type": "code",
   "execution_count": 3,
   "metadata": {},
   "outputs": [
    {
     "name": "stdout",
     "output_type": "stream",
     "text": [
      "There are 23 records\n"
     ]
    }
   ],
   "source": [
    "keys = []\n",
    "for i in os.listdir(data_root):\n",
    "    if not \".dat\" in i:continue\n",
    "    key = i.split(\".\")[0]\n",
    "    #if key not in note_list:\n",
    "    keys.append(key)\n",
    "print(\"There are\",len(keys),\"records\")"
   ]
  },
  {
   "cell_type": "markdown",
   "metadata": {},
   "source": [
    "## Make RRI dataset "
   ]
  },
  {
   "cell_type": "code",
   "execution_count": 4,
   "metadata": {},
   "outputs": [],
   "source": [
    "# ## other useful functions\n",
    "def find_nearest_idx(array, value):\n",
    "    array = np.asarray(array)\n",
    "    idx = (np.abs(array - value)).argmin()\n",
    "    return idx"
   ]
  },
  {
   "cell_type": "code",
   "execution_count": 5,
   "metadata": {},
   "outputs": [],
   "source": [
    "def find_label(rri_start,rri_end,ann_label_idx,ann_labels):\n",
    "    start_label = ann_labels[ find_nearest_idx(ann_label_idx,rri_start) ] \n",
    "    end_label = ann_labels[ find_nearest_idx(ann_label_idx,rri_start) ] \n",
    "    if start_label != end_label:\n",
    "        return None\n",
    "    return start_label[1:]"
   ]
  },
  {
   "cell_type": "code",
   "execution_count": 6,
   "metadata": {},
   "outputs": [],
   "source": [
    "def Generate_RRI_dataset(key,step):\n",
    "    signals,fields = wfdb.rdsamp(os.path.join(data_root,key))\n",
    "    ann_RRI = wfdb.rdann(os.path.join(data_root,key),extension=\"qrs\").sample\n",
    "    ann_label_index = wfdb.rdann(os.path.join(data_root,key),extension=\"atr\").sample\n",
    "    ann_labels = wfdb.rdann(os.path.join(data_root,key),extension=\"atr\").aux_note\n",
    "    \n",
    "    last_rri_idx = ann_RRI[0]\n",
    "    records = []\n",
    "    RRI_list = []\n",
    "    label_list = []\n",
    "    for rri_idx in ann_RRI[1:]:\n",
    "        rri_value = rri_idx-last_rri_idx\n",
    "        last_rri_idx = rri_idx\n",
    "        label = find_label(last_rri_idx,rri_idx,ann_label_index,ann_labels)\n",
    "        RRI_list.append(rri_value)\n",
    "        label_list.append(label)\n",
    "    \n",
    "    start = 0\n",
    "    end = start + win_len\n",
    "    X = []\n",
    "    y = []\n",
    "    start_list=[]\n",
    "    end_list = []\n",
    "    \n",
    "    num_seg = int(len(RRI_list)/win_len)\n",
    "    for i in range(num_seg):\n",
    "        RRI_segment = RRI_list[start:end]\n",
    "        labels = label_list[start:end]\n",
    "        if (np.max(RRI_segment) > 1000):continue\n",
    "        if(len(set(labels))==1 and labels[0]==\"N\"):\n",
    "            global_label = 0\n",
    "        elif (len(set(labels))==1 and labels[0]==\"AFIB\"):\n",
    "            global_label = 1\n",
    "        else:continue\n",
    "        X.append(RRI_segment)\n",
    "        y.append(global_label)\n",
    "        start_list.append(start)\n",
    "        end_list.append(end)\n",
    "        start += step\n",
    "        end += step\n",
    "        \n",
    "    X = np.array(X)\n",
    "    y = np.array(y)\n",
    "    print(key,X.shape,y.shape)\n",
    "    return X,y,start_list,end_list"
   ]
  },
  {
   "cell_type": "code",
   "execution_count": 7,
   "metadata": {},
   "outputs": [],
   "source": [
    "def make_balanced_and_shuffle(X,y,num_calss=2):\n",
    "    one_hot_y = to_categorical(y,4)\n",
    "    \n",
    "    num_each_class = np.sum(one_hot_y,axis=0)\n",
    "    num = int(min(num_each_class[0],num_each_class[1]))\n",
    "    \n",
    "    balanced_X = []\n",
    "    balanced_y = []\n",
    "    for class_idx in range(num_calss):\n",
    "        indices = np.where(y==class_idx)\n",
    "        selected_X = X[indices]\n",
    "        selected_y = y[indices]\n",
    "        balanced_X.append( selected_X[:num] )\n",
    "        balanced_y.append( selected_y[:num])\n",
    "    X = np.concatenate(balanced_X,axis=0)\n",
    "    y = np.concatenate(balanced_y,axis=0)\n",
    "    rand_index = np.random.permutation(len(X))\n",
    "    X = X[rand_index]\n",
    "    y = to_categorical(y[rand_index],num_classes=num_calss)\n",
    "    return X,y"
   ]
  },
  {
   "cell_type": "code",
   "execution_count": 8,
   "metadata": {},
   "outputs": [],
   "source": [
    "def normalizaiton(X_train,X_test):\n",
    "    max_v = np.max(X_train)\n",
    "    min_v = np.min(X_train)\n",
    "    X_train = (X_train - min_v) / (max_v-min_v)\n",
    "    X_test = (X_test - min_v) / (max_v-min_v)\n",
    "    return X_train,X_test"
   ]
  },
  {
   "cell_type": "code",
   "execution_count": 9,
   "metadata": {},
   "outputs": [],
   "source": [
    "cross = 5\n",
    "num_keys_every_cross = int(len(keys)/cross)\n",
    "save_dir = \"./dataset_RRI_augmented\""
   ]
  },
  {
   "cell_type": "code",
   "execution_count": null,
   "metadata": {},
   "outputs": [],
   "source": [
    "if not os.path.exists(save_dir):\n",
    "    os.mkdir(save_dir)\n",
    "for key in tqdm_notebook(keys):\n",
    "    save_path = os.path.join(save_dir,key+\".pickle\")\n",
    "    X,y,start,end = Generate_RRI_dataset(key)\n",
    "    if len(X)==0:continue\n",
    "    dataset = {\"X\":X,\"y\":y,\"start\":start,\"end\":end}\n",
    "    with open(save_path,\"wb\") as f:\n",
    "        pickle.dump(file=f,obj=dataset)"
   ]
  },
  {
   "cell_type": "markdown",
   "metadata": {},
   "source": [
    "## already know test keys"
   ]
  },
  {
   "cell_type": "code",
   "execution_count": 10,
   "metadata": {},
   "outputs": [],
   "source": [
    "cross_valid_keys = {\n",
    "    0:['08434', '04746', '07162'],\n",
    "    1:['08219', '07162', '05091'],\n",
    "    2:['07879', '07162', '08455'],\n",
    "    3:['05261', '06453', '07162'],\n",
    "    4:['07162', '04043', '08405']\n",
    "}"
   ]
  },
  {
   "cell_type": "markdown",
   "metadata": {},
   "source": [
    "## Generate 5-cross dataset"
   ]
  },
  {
   "cell_type": "code",
   "execution_count": 11,
   "metadata": {},
   "outputs": [
    {
     "name": "stdout",
     "output_type": "stream",
     "text": [
      "22\n"
     ]
    }
   ],
   "source": [
    "keys = [i.split(\".\")[0] for i in os.listdir(save_dir) if \".pickle\" in i and \"cross\" not in i]\n",
    "print(len(keys))"
   ]
  },
  {
   "cell_type": "code",
   "execution_count": 12,
   "metadata": {},
   "outputs": [
    {
     "name": "stdout",
     "output_type": "stream",
     "text": [
      "['08434', '04746', '07162']\n",
      "06453 (348, 100) (348,)\n",
      "07879 (84, 100) (84,)\n",
      "08378 (455, 100) (455,)\n",
      "08215 (433, 100) (433,)\n",
      "08219 (592, 100) (592,)\n",
      "07910 (365, 100) (365,)\n",
      "07162 (392, 100) (392,)\n",
      "07859 (602, 100) (602,)\n",
      "06426 (551, 100) (551,)\n",
      "04043 (619, 100) (619,)\n",
      "08405 (588, 100) (588,)\n",
      "08455 (595, 100) (595,)\n",
      "04936 (536, 100) (536,)\n",
      "04048 (399, 100) (399,)\n",
      "05121 (498, 100) (498,)\n",
      "08434 (50, 100) (50,)\n",
      "05091 (367, 100) (367,)\n",
      "04908 (617, 100) (617,)\n",
      "06995 (551, 100) (551,)\n",
      "05261 (455, 100) (455,)\n",
      "04015 (212, 100) (212,)\n",
      "04746 (23, 100) (23,)\n",
      "X_train: (3408, 100, 1)\n",
      "y_train: (3408, 2)\n",
      "X_test: (146, 100, 1)\n",
      "y_test: (146, 2)\n",
      "\n",
      "\n",
      "['08219', '07162', '05091']\n",
      "06453 (348, 100) (348,)\n",
      "07879 (84, 100) (84,)\n",
      "08378 (455, 100) (455,)\n",
      "08215 (433, 100) (433,)\n",
      "08219 (44, 100) (44,)\n",
      "07910 (365, 100) (365,)\n",
      "07162 (392, 100) (392,)\n",
      "07859 (602, 100) (602,)\n",
      "06426 (551, 100) (551,)\n",
      "04043 (619, 100) (619,)\n",
      "08405 (588, 100) (588,)\n",
      "08455 (595, 100) (595,)\n",
      "04936 (536, 100) (536,)\n",
      "04048 (399, 100) (399,)\n",
      "05121 (498, 100) (498,)\n",
      "08434 (398, 100) (398,)\n",
      "05091 (33, 100) (33,)\n",
      "04908 (617, 100) (617,)\n",
      "06995 (551, 100) (551,)\n",
      "05261 (455, 100) (455,)\n",
      "04015 (212, 100) (212,)\n",
      "04746 (478, 100) (478,)\n",
      "X_train: (3408, 100, 1)\n",
      "y_train: (3408, 2)\n",
      "X_test: (154, 100, 1)\n",
      "y_test: (154, 2)\n",
      "\n",
      "\n",
      "['07879', '07162', '08455']\n",
      "06453 (348, 100) (348,)\n",
      "07879 (1, 100) (1,)\n",
      "08378 (455, 100) (455,)\n",
      "08215 (433, 100) (433,)\n",
      "08219 (592, 100) (592,)\n",
      "07910 (365, 100) (365,)\n",
      "07162 (392, 100) (392,)\n",
      "07859 (602, 100) (602,)\n",
      "06426 (551, 100) (551,)\n",
      "04043 (619, 100) (619,)\n",
      "08405 (588, 100) (588,)\n",
      "08455 (72, 100) (72,)\n",
      "04936 (536, 100) (536,)\n",
      "04048 (399, 100) (399,)\n",
      "05121 (498, 100) (498,)\n",
      "08434 (398, 100) (398,)\n",
      "05091 (367, 100) (367,)\n",
      "04908 (617, 100) (617,)\n",
      "06995 (551, 100) (551,)\n",
      "05261 (455, 100) (455,)\n",
      "04015 (212, 100) (212,)\n",
      "04746 (478, 100) (478,)\n",
      "X_train: (3408, 100, 1)\n",
      "y_train: (3408, 2)\n",
      "X_test: (146, 100, 1)\n",
      "y_test: (146, 2)\n",
      "\n",
      "\n",
      "['05261', '06453', '07162']\n",
      "06453 (19, 100) (19,)\n",
      "07879 (84, 100) (84,)\n",
      "08378 (455, 100) (455,)\n",
      "08215 (433, 100) (433,)\n",
      "08219 (592, 100) (592,)\n",
      "07910 (365, 100) (365,)\n",
      "07162 (392, 100) (392,)\n",
      "07859 (602, 100) (602,)\n",
      "06426 (551, 100) (551,)\n",
      "04043 (619, 100) (619,)\n",
      "08405 (588, 100) (588,)\n",
      "08455 (595, 100) (595,)\n",
      "04936 (536, 100) (536,)\n",
      "04048 (399, 100) (399,)\n",
      "05121 (498, 100) (498,)\n",
      "08434 (398, 100) (398,)\n",
      "05091 (367, 100) (367,)\n",
      "04908 (617, 100) (617,)\n",
      "06995 (551, 100) (551,)\n",
      "05261 (55, 100) (55,)\n",
      "04015 (212, 100) (212,)\n",
      "04746 (478, 100) (478,)\n",
      "X_train: (3408, 100, 1)\n",
      "y_train: (3408, 2)\n",
      "X_test: (148, 100, 1)\n",
      "y_test: (148, 2)\n",
      "\n",
      "\n",
      "['07162', '04043', '08405']\n",
      "06453 (348, 100) (348,)\n",
      "07879 (84, 100) (84,)\n",
      "08378 (455, 100) (455,)\n",
      "08215 (433, 100) (433,)\n",
      "08219 (592, 100) (592,)\n",
      "07910 (365, 100) (365,)\n",
      "07162 (392, 100) (392,)\n",
      "07859 (602, 100) (602,)\n",
      "06426 (551, 100) (551,)\n",
      "04043 (9, 100) (9,)\n",
      "08405 (66, 100) (66,)\n",
      "08455 (595, 100) (595,)\n",
      "04936 (536, 100) (536,)\n",
      "04048 (399, 100) (399,)\n",
      "05121 (498, 100) (498,)\n",
      "08434 (398, 100) (398,)\n",
      "05091 (367, 100) (367,)\n",
      "04908 (617, 100) (617,)\n",
      "06995 (551, 100) (551,)\n",
      "05261 (455, 100) (455,)\n",
      "04015 (212, 100) (212,)\n",
      "04746 (478, 100) (478,)\n",
      "X_train: (3408, 100, 1)\n",
      "y_train: (3408, 2)\n",
      "X_test: (150, 100, 1)\n",
      "y_test: (150, 2)\n",
      "\n",
      "\n"
     ]
    }
   ],
   "source": [
    "for cross_idx in range(cross):\n",
    "    test_keys = cross_valid_keys[cross_idx]\n",
    "    save_path = os.path.join(save_dir,\"dataset-cross\"+str(cross_idx)+\".pickle\")\n",
    "    print(test_keys)\n",
    "    X_train = []\n",
    "    X_test = []\n",
    "    y_train = []\n",
    "    y_test = []\n",
    "    for key in keys:\n",
    "        if key in test_keys:\n",
    "            X,y,start,end = Generate_RRI_dataset(key,step=win_len)\n",
    "            if(len(X)==0):continue\n",
    "            X_test.append(X)\n",
    "            y_test.append(y)\n",
    "        else:\n",
    "            X,y,start,end = Generate_RRI_dataset(key,step=1)\n",
    "            if(len(X)==0):continue\n",
    "            X_train.append(X)\n",
    "            y_train.append(y)\n",
    "    \n",
    "    X_train = np.expand_dims(np.concatenate(X_train,axis=0),axis=2)\n",
    "    y_train = np.concatenate(y_train,axis=0)\n",
    "    X_test = np.expand_dims(np.concatenate(X_test,axis=0),axis=2)\n",
    "    y_test = np.concatenate(y_test,axis=0)\n",
    "    \n",
    "    \n",
    "    X_train,y_train = make_balanced_and_shuffle(X_train,y_train)\n",
    "    X_test,y_test = make_balanced_and_shuffle(X_test,y_test)    \n",
    "    X_train,X_test = normalizaiton(X_train,X_test)\n",
    "    \n",
    "    print(\"X_train:\",X_train.shape)\n",
    "    print(\"y_train:\",y_train.shape)\n",
    "    print(\"X_test:\",X_test.shape)\n",
    "    print(\"y_test:\",y_test.shape)\n",
    "    print(\"\\n\")\n",
    "    dataset = {\"test_key\":test_keys,\"X_train\":X_train,\"y_trian\":y_train,\"X_test\":X_test,\"y_test\":y_test}\n",
    "    with open(save_path,\"wb\") as f:\n",
    "        pickle.dump(obj=dataset,file=f)"
   ]
  },
  {
   "cell_type": "code",
   "execution_count": 13,
   "metadata": {},
   "outputs": [
    {
     "data": {
      "text/plain": [
       "(array([  21., 2427., 8790., 2288., 1107.,  322.,   37.,    4.,    3.,\n",
       "           1.]),\n",
       " array([-0.01685393,  0.13455056,  0.28595506,  0.43735955,  0.58876404,\n",
       "         0.74016854,  0.89157303,  1.04297753,  1.19438202,  1.34578652,\n",
       "         1.49719101]),\n",
       " <a list of 10 Patch objects>)"
      ]
     },
     "execution_count": 13,
     "metadata": {},
     "output_type": "execute_result"
    },
    {
     "data": {
      "image/png": "[encoded data removed]",
      "text/plain": [
       "<Figure size 432x288 with 1 Axes>"
      ]
     },
     "metadata": {
      "needs_background": "light"
     },
     "output_type": "display_data"
    }
   ],
   "source": [
    "plt.hist(np.reshape(X_train,newshape=(-1,1)))\n",
    "plt.hist(np.reshape(X_test,newshape=(-1,1)))"
   ]
  },
  {
   "cell_type": "code",
   "execution_count": null,
   "metadata": {},
   "outputs": [],
   "source": []
  },
  {
   "cell_type": "code",
   "execution_count": null,
   "metadata": {},
   "outputs": [],
   "source": []
  },
  {
   "cell_type": "code",
   "execution_count": null,
   "metadata": {},
   "outputs": [],
   "source": []
  },
  {
   "cell_type": "code",
   "execution_count": null,
   "metadata": {},
   "outputs": [],
   "source": []
  }
 ],
 "metadata": {
  "kernelspec": {
   "display_name": "Python 3",
   "language": "python",
   "name": "python3"
  },
  "language_info": {
   "codemirror_mode": {
    "name": "ipython",
    "version": 3
   },
   "file_extension": ".py",
   "mimetype": "text/x-python",
   "name": "python",
   "nbconvert_exporter": "python",
   "pygments_lexer": "ipython3",
   "version": "3.6.6"
  }
 },
 "nbformat": 4,
 "nbformat_minor": 2
}
