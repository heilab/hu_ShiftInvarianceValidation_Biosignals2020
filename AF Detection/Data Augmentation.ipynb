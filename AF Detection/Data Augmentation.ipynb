{
 "cells": [
  {
   "cell_type": "code",
   "execution_count": 1,
   "metadata": {},
   "outputs": [
    {
     "name": "stderr",
     "output_type": "stream",
     "text": [
      "/Users/hu/.pyenv/versions/3.6.2/envs/Biosignals/lib/python3.6/site-packages/pandas/compat/__init__.py:84: UserWarning: Could not import the lzma module. Your installed Python is incomplete. Attempting to use lzma compression will result in a RuntimeError.\n",
      "  warnings.warn(msg)\n",
      "/Users/hu/.pyenv/versions/3.6.2/envs/Biosignals/lib/python3.6/site-packages/pandas/compat/__init__.py:84: UserWarning: Could not import the lzma module. Your installed Python is incomplete. Attempting to use lzma compression will result in a RuntimeError.\n",
      "  warnings.warn(msg)\n",
      "Using TensorFlow backend.\n"
     ]
    }
   ],
   "source": [
    "import os\n",
    "import wfdb\n",
    "import pickle\n",
    "import pandas as pd\n",
    "import numpy as np\n",
    "from keras.utils import to_categorical\n",
    "from tqdm import tqdm_notebook\n",
    "from sklearn.preprocessing import MinMaxScaler\n",
    "import matplotlib.pyplot as plt\n",
    "from keras.models import load_model\n",
    "import matplotlib.animation as animation\n",
    "np.set_printoptions(suppress=True)\n",
    "%matplotlib inline"
   ]
  },
  {
   "cell_type": "code",
   "execution_count": 2,
   "metadata": {},
   "outputs": [],
   "source": [
    "cross_idx = 3\n",
    "win_len = 100\n",
    "dataset_root = \"./dataset_RRI/\"\n",
    "model_root = \"./results/models/\"\n",
    "keys = [i.split(\".\")[0] for i in os.listdir(dataset_root) if \"pickle\" in i and \"cross\" not in i ]\n",
    "model_idx = {\n",
    "    0:8,\n",
    "    1:12,\n",
    "    2:21,\n",
    "    3:33,\n",
    "    4:42\n",
    "}"
   ]
  },
  {
   "cell_type": "code",
   "execution_count": 3,
   "metadata": {},
   "outputs": [],
   "source": [
    "def int2label(label):\n",
    "    if label==0:\n",
    "        return \"Normal\"\n",
    "    elif label==1:\n",
    "        return \"AF\""
   ]
  },
  {
   "cell_type": "code",
   "execution_count": 4,
   "metadata": {},
   "outputs": [],
   "source": [
    "def get_normalization_param(test_keys):\n",
    "    max_norm = 0\n",
    "    min_norm = 10000\n",
    "    for key in keys:\n",
    "        if key in test_keys:continue\n",
    "        with open(os.path.join(dataset_root,key+\".pickle\"),\"rb\") as f:\n",
    "            dataset = pickle.load(f)\n",
    "        X = dataset[\"X\"]\n",
    "        if np.max(X) > max_norm:\n",
    "            max_norm = np.max(X)\n",
    "        if np.min(X) < min_norm:\n",
    "            min_norm = np.min(X)\n",
    "    return min_norm,max_norm"
   ]
  },
  {
   "cell_type": "code",
   "execution_count": 5,
   "metadata": {},
   "outputs": [],
   "source": [
    "def update(i, confidences,segments,labels,offset,ax1,ax2):\n",
    "    if i !=0:\n",
    "        ax1.cla()\n",
    "        ax2.cla()\n",
    "    c = confidences[i]\n",
    "    segment = segments[i]\n",
    "    label = labels[i]\n",
    "    if c<0.5:\n",
    "        color = \"red\"\n",
    "    elif c<0.7:\n",
    "        color = \"yellow\"\n",
    "    else:\n",
    "        color = \"green\"\n",
    "    ax1.plot([i+j+offset for j in range(win_len)],segment,color=\"b\")\n",
    "    ax1.set_ylim(0,1)\n",
    "    ax1.set_xlabel(\"RRI Index\",fontsize=15)\n",
    "    ax1.set_ylabel(\"Normalized RRI value\",fontsize=15)\n",
    "    ax1.set_title(\"Label:\"+int2label(label),fontsize=15)\n",
    "    ax2.bar(range(1, 2), c, color=color, align='center')\n",
    "    ax2.set_title(\"Confidence of predict true label\",fontsize=15)\n",
    "    ax2.set_xticklabels([])\n",
    "    ax2.set_ylim(0,1)"
   ]
  },
  {
   "cell_type": "code",
   "execution_count": 6,
   "metadata": {},
   "outputs": [],
   "source": [
    "def plot_animation(seg_idx,segments,labels,confidences,save_dir):\n",
    "    fig,(ax1,ax2) = plt.subplots(1,2,figsize=(15,5)) #figure objectを取得\n",
    "    ax3 = ax2.twinx()\n",
    "    ax3.boxplot(confidences)\n",
    "    ax3.set_ylim(ax2.get_ylim())\n",
    "    ax3.set_yticklabels([])\n",
    "    ani = animation.FuncAnimation(fig, update, fargs = (confidences,segments,labels,seg_idx,ax1,ax2), interval = 100)\n",
    "    save_path = os.path.join(save_dir,str(seg_idx)+\".mp4\")\n",
    "    ani.save(save_path, writer = 'ffmpeg')\n",
    "    plt.close()"
   ]
  },
  {
   "cell_type": "code",
   "execution_count": 7,
   "metadata": {},
   "outputs": [],
   "source": [
    "def check_shift_invariance_once(X,label,seg_idx,save_dir,confidences,return_confidence=False):\n",
    "    interval = 100\n",
    "    if not os.path.exists(save_dir):\n",
    "        os.mkdir(save_dir)\n",
    "    continue_seg = np.concatenate( [X[seg_idx],X[seg_idx+1]],axis=0)\n",
    "    sliding_win_start = 0\n",
    "    sliding_win_end = 100\n",
    "    step = 1\n",
    "    confidence = []\n",
    "    shifted_segments = []\n",
    "    shifted_labels = []\n",
    "    \n",
    "    consistency_list = [] \n",
    "    \n",
    "    while(sliding_win_end<len(continue_seg)):\n",
    "        data = continue_seg[sliding_win_start:sliding_win_end,:]\n",
    "\n",
    "        logits = model.predict(np.expand_dims(data,axis=0))[0]\n",
    "        confidence.append(logits[label])\n",
    "        shifted_segments.append(data)\n",
    "        shifted_labels.append(label)\n",
    "        if sliding_win_start!=0:\n",
    "            consistency_list.append(np.argmax(logits)==label)\n",
    "        sliding_win_start += step\n",
    "        sliding_win_end += step\n",
    "    \n",
    "    if not return_confidence:\n",
    "        plot_animation(seg_idx,shifted_segments,shifted_labels,confidences,save_dir)\n",
    "    else:\n",
    "        if len(np.where(np.array(confidence) < 0.5)[0])>0:\n",
    "            print(seg_idx)\n",
    "        return confidence,consistency_list"
   ]
  },
  {
   "cell_type": "code",
   "execution_count": 15,
   "metadata": {},
   "outputs": [],
   "source": [
    "def check_shift_invariance(X,y,test_key,save_root = \"./Animations\"):\n",
    "    if not os.path.exists(save_root):\n",
    "        os.mkdir(save_root)\n",
    "    save_dir = os.path.join(save_root,test_key)\n",
    "\n",
    "    start = dataset[\"start\"]\n",
    "    end = dataset[\"end\"]\n",
    "    confidences = []\n",
    "    shifted_segments = []\n",
    "    shifted_labels = []\n",
    "    consistency = []\n",
    "    if len(X)==1:\n",
    "        print(\"cosistency of \",test_key,\"can not calculate cosistency\")\n",
    "        return []\n",
    "        \n",
    "    for seg_idx in tqdm_notebook(range(len(X)-1)):\n",
    "        seg = X[seg_idx]\n",
    "        next_seg = X[seg_idx+1]\n",
    "        seg_end = end[seg_idx]\n",
    "        next_seg_start = start[seg_idx+1]\n",
    "        label = np.argmax(y[seg_idx])\n",
    "        next_label = np.argmax(y[seg_idx+1])\n",
    "        if not (seg_end == next_seg_start and label==next_label):continue\n",
    "        confidence,consistency_list =  check_shift_invariance_once(X,label,seg_idx,save_dir,confidences=None,return_confidence=True)\n",
    "        confidences.append(confidence)\n",
    "        consistency.append(consistency_list)\n",
    "        \n",
    "    confidences = np.concatenate(confidences,axis=0)\n",
    "    consistency = np.concatenate(consistency,axis=0)\n",
    "    consistency = np.mean(consistency)\n",
    "    print(\"cosistency of \",test_key,consistency)\n",
    "    \n",
    "    for seg_idx in tqdm_notebook(range(len(X)-1)):\n",
    "        seg = X[seg_idx]\n",
    "        next_seg = X[seg_idx+1]\n",
    "        seg_end = end[seg_idx]\n",
    "        next_seg_start = start[seg_idx+1]\n",
    "        label = np.argmax(y[seg_idx])\n",
    "        next_label = np.argmax(y[seg_idx+1])\n",
    "        if not (seg_end == next_seg_start and label==next_label):continue\n",
    "        check_shift_invariance_once(X,label,seg_idx,save_dir,confidences,return_confidence=False)\n",
    "    return consistency"
   ]
  },
  {
   "cell_type": "code",
   "execution_count": 16,
   "metadata": {},
   "outputs": [
    {
     "name": "stdout",
     "output_type": "stream",
     "text": [
      "cosistency of  07879 can not calculate cosistency\n"
     ]
    },
    {
     "data": {
      "application/vnd.jupyter.widget-view+json": {
       "model_id": "b1876101a5b448ad9683d5ea04500695",
       "version_major": 2,
       "version_minor": 0
      },
      "text/plain": [
       "HBox(children=(IntProgress(value=0, max=391), HTML(value='')))"
      ]
     },
     "metadata": {},
     "output_type": "display_data"
    },
    {
     "name": "stdout",
     "output_type": "stream",
     "text": [
      "3\n",
      "4\n",
      "107\n",
      "216\n",
      "220\n",
      "224\n",
      "225\n",
      "226\n",
      "227\n",
      "235\n",
      "248\n",
      "256\n",
      "265\n",
      "271\n",
      "283\n",
      "298\n",
      "306\n",
      "308\n",
      "320\n",
      "321\n",
      "326\n",
      "329\n",
      "330\n",
      "331\n",
      "332\n",
      "333\n",
      "335\n",
      "338\n",
      "339\n",
      "342\n",
      "347\n",
      "350\n",
      "351\n",
      "353\n",
      "354\n",
      "355\n",
      "356\n",
      "357\n",
      "359\n",
      "360\n",
      "362\n",
      "366\n",
      "367\n",
      "368\n",
      "369\n",
      "370\n",
      "371\n",
      "373\n",
      "374\n",
      "375\n",
      "376\n",
      "378\n",
      "379\n",
      "380\n",
      "381\n",
      "382\n",
      "\n",
      "cosistency of  07162 0.9923531995143249\n"
     ]
    },
    {
     "data": {
      "application/vnd.jupyter.widget-view+json": {
       "model_id": "62ad104d420c41798550ca8073c9b353",
       "version_major": 2,
       "version_minor": 0
      },
      "text/plain": [
       "HBox(children=(IntProgress(value=0, max=391), HTML(value='')))"
      ]
     },
     "metadata": {},
     "output_type": "display_data"
    },
    {
     "name": "stdout",
     "output_type": "stream",
     "text": [
      "\n"
     ]
    },
    {
     "data": {
      "application/vnd.jupyter.widget-view+json": {
       "model_id": "e664dfcee06040ebbcb52cef17ef1e02",
       "version_major": 2,
       "version_minor": 0
      },
      "text/plain": [
       "HBox(children=(IntProgress(value=0, max=71), HTML(value='')))"
      ]
     },
     "metadata": {},
     "output_type": "display_data"
    },
    {
     "name": "stdout",
     "output_type": "stream",
     "text": [
      "\n",
      "cosistency of  08455 1.0\n"
     ]
    },
    {
     "data": {
      "application/vnd.jupyter.widget-view+json": {
       "model_id": "46363642861344f2beb65f59e62f346f",
       "version_major": 2,
       "version_minor": 0
      },
      "text/plain": [
       "HBox(children=(IntProgress(value=0, max=71), HTML(value='')))"
      ]
     },
     "metadata": {},
     "output_type": "display_data"
    },
    {
     "name": "stdout",
     "output_type": "stream",
     "text": [
      "\n",
      "consistency for cross 2 = []\n"
     ]
    },
    {
     "data": {
      "application/vnd.jupyter.widget-view+json": {
       "model_id": "b6b58b7615234653aeed67fa2e772a01",
       "version_major": 2,
       "version_minor": 0
      },
      "text/plain": [
       "HBox(children=(IntProgress(value=0, max=54), HTML(value='')))"
      ]
     },
     "metadata": {},
     "output_type": "display_data"
    },
    {
     "name": "stdout",
     "output_type": "stream",
     "text": [
      "0\n",
      "1\n",
      "2\n",
      "3\n",
      "21\n",
      "29\n",
      "30\n",
      "31\n",
      "32\n",
      "33\n",
      "34\n",
      "35\n",
      "49\n",
      "53\n",
      "\n",
      "cosistency of  05261 0.8991769547325102\n"
     ]
    },
    {
     "data": {
      "application/vnd.jupyter.widget-view+json": {
       "model_id": "163bed9273e3446c9d8ac02dbf27ab38",
       "version_major": 2,
       "version_minor": 0
      },
      "text/plain": [
       "HBox(children=(IntProgress(value=0, max=54), HTML(value='')))"
      ]
     },
     "metadata": {},
     "output_type": "display_data"
    },
    {
     "name": "stdout",
     "output_type": "stream",
     "text": [
      "\n"
     ]
    },
    {
     "data": {
      "application/vnd.jupyter.widget-view+json": {
       "model_id": "c1b8fcae3a0945d5acbbc269c2f12b2f",
       "version_major": 2,
       "version_minor": 0
      },
      "text/plain": [
       "HBox(children=(IntProgress(value=0, max=18), HTML(value='')))"
      ]
     },
     "metadata": {},
     "output_type": "display_data"
    },
    {
     "name": "stdout",
     "output_type": "stream",
     "text": [
      "14\n",
      "16\n",
      "\n",
      "cosistency of  06453 0.9781144781144782\n"
     ]
    },
    {
     "data": {
      "application/vnd.jupyter.widget-view+json": {
       "model_id": "96dac5be4d184432992cba4b8519e45c",
       "version_major": 2,
       "version_minor": 0
      },
      "text/plain": [
       "HBox(children=(IntProgress(value=0, max=18), HTML(value='')))"
      ]
     },
     "metadata": {},
     "output_type": "display_data"
    },
    {
     "name": "stdout",
     "output_type": "stream",
     "text": [
      "\n"
     ]
    },
    {
     "data": {
      "application/vnd.jupyter.widget-view+json": {
       "model_id": "aa4eae82ff28461d93cc94c39f1ebfb3",
       "version_major": 2,
       "version_minor": 0
      },
      "text/plain": [
       "HBox(children=(IntProgress(value=0, max=391), HTML(value='')))"
      ]
     },
     "metadata": {},
     "output_type": "display_data"
    },
    {
     "name": "stdout",
     "output_type": "stream",
     "text": [
      "4\n",
      "5\n",
      "6\n",
      "11\n",
      "14\n",
      "16\n",
      "17\n",
      "18\n",
      "24\n",
      "30\n",
      "34\n",
      "38\n",
      "67\n",
      "77\n",
      "84\n",
      "85\n",
      "94\n",
      "95\n",
      "96\n",
      "100\n",
      "107\n",
      "112\n",
      "130\n",
      "137\n",
      "152\n",
      "163\n",
      "186\n",
      "189\n",
      "190\n",
      "194\n",
      "195\n",
      "196\n",
      "197\n",
      "200\n",
      "205\n",
      "210\n",
      "215\n",
      "216\n",
      "217\n",
      "218\n",
      "219\n",
      "220\n",
      "221\n",
      "222\n",
      "223\n",
      "224\n",
      "225\n",
      "226\n",
      "227\n",
      "229\n",
      "230\n",
      "231\n",
      "232\n",
      "233\n",
      "234\n",
      "235\n",
      "236\n",
      "253\n",
      "254\n",
      "256\n",
      "262\n",
      "264\n",
      "265\n",
      "266\n",
      "269\n",
      "270\n",
      "271\n",
      "272\n",
      "273\n",
      "274\n",
      "275\n",
      "276\n",
      "283\n",
      "284\n",
      "286\n",
      "301\n",
      "302\n",
      "304\n",
      "305\n",
      "306\n",
      "307\n",
      "308\n",
      "309\n",
      "311\n",
      "313\n",
      "316\n",
      "317\n",
      "318\n",
      "326\n",
      "327\n",
      "328\n",
      "329\n",
      "330\n",
      "331\n",
      "332\n",
      "333\n",
      "334\n",
      "335\n",
      "338\n",
      "339\n",
      "341\n",
      "342\n",
      "343\n",
      "345\n",
      "346\n",
      "347\n",
      "348\n",
      "349\n",
      "350\n",
      "351\n",
      "352\n",
      "353\n",
      "354\n",
      "355\n",
      "356\n",
      "357\n",
      "358\n",
      "359\n",
      "360\n",
      "361\n",
      "362\n",
      "363\n",
      "364\n",
      "365\n",
      "366\n",
      "367\n",
      "368\n",
      "369\n",
      "370\n",
      "371\n",
      "372\n",
      "373\n",
      "374\n",
      "375\n",
      "376\n",
      "377\n",
      "378\n",
      "379\n",
      "380\n",
      "381\n",
      "383\n",
      "384\n",
      "385\n",
      "386\n",
      "387\n",
      "388\n",
      "389\n",
      "390\n",
      "\n",
      "cosistency of  07162 0.9429590017825312\n"
     ]
    },
    {
     "data": {
      "application/vnd.jupyter.widget-view+json": {
       "model_id": "f5bd278f218646e7a347ea690879cd05",
       "version_major": 2,
       "version_minor": 0
      },
      "text/plain": [
       "HBox(children=(IntProgress(value=0, max=391), HTML(value='')))"
      ]
     },
     "metadata": {},
     "output_type": "display_data"
    },
    {
     "name": "stdout",
     "output_type": "stream",
     "text": [
      "\n",
      "consistency for cross 3 = 0.9400834782098398\n"
     ]
    },
    {
     "data": {
      "application/vnd.jupyter.widget-view+json": {
       "model_id": "5a4e18bfb3a84bda8b8a58f636d44c0d",
       "version_major": 2,
       "version_minor": 0
      },
      "text/plain": [
       "HBox(children=(IntProgress(value=0, max=391), HTML(value='')))"
      ]
     },
     "metadata": {},
     "output_type": "display_data"
    },
    {
     "name": "stdout",
     "output_type": "stream",
     "text": [
      "134\n",
      "195\n",
      "224\n",
      "226\n",
      "230\n",
      "232\n",
      "269\n",
      "270\n",
      "273\n",
      "274\n",
      "275\n",
      "276\n",
      "286\n",
      "308\n",
      "329\n",
      "332\n",
      "333\n",
      "335\n",
      "338\n",
      "350\n",
      "351\n",
      "353\n",
      "354\n",
      "356\n",
      "357\n",
      "361\n",
      "362\n",
      "363\n",
      "364\n",
      "365\n",
      "366\n",
      "367\n",
      "368\n",
      "369\n",
      "370\n",
      "371\n",
      "373\n",
      "374\n",
      "376\n",
      "378\n",
      "379\n",
      "380\n",
      "381\n",
      "\n",
      "cosistency of  07162 0.9909323413159731\n"
     ]
    },
    {
     "data": {
      "application/vnd.jupyter.widget-view+json": {
       "model_id": "39e3daa6502341e69238b870e5d0c4d3",
       "version_major": 2,
       "version_minor": 0
      },
      "text/plain": [
       "HBox(children=(IntProgress(value=0, max=391), HTML(value='')))"
      ]
     },
     "metadata": {},
     "output_type": "display_data"
    },
    {
     "name": "stdout",
     "output_type": "stream",
     "text": [
      "\n"
     ]
    },
    {
     "data": {
      "application/vnd.jupyter.widget-view+json": {
       "model_id": "23cda1a814a84cc4ad1cf2f22685a583",
       "version_major": 2,
       "version_minor": 0
      },
      "text/plain": [
       "HBox(children=(IntProgress(value=0, max=8), HTML(value='')))"
      ]
     },
     "metadata": {},
     "output_type": "display_data"
    },
    {
     "name": "stdout",
     "output_type": "stream",
     "text": [
      "\n",
      "cosistency of  04043 1.0\n"
     ]
    },
    {
     "data": {
      "application/vnd.jupyter.widget-view+json": {
       "model_id": "4fb26224025e4abba3aacdb123d4a3ca",
       "version_major": 2,
       "version_minor": 0
      },
      "text/plain": [
       "HBox(children=(IntProgress(value=0, max=8), HTML(value='')))"
      ]
     },
     "metadata": {},
     "output_type": "display_data"
    },
    {
     "name": "stdout",
     "output_type": "stream",
     "text": [
      "\n"
     ]
    },
    {
     "data": {
      "application/vnd.jupyter.widget-view+json": {
       "model_id": "1903cd4f5b9045299e73a50ea28b2d6f",
       "version_major": 2,
       "version_minor": 0
      },
      "text/plain": [
       "HBox(children=(IntProgress(value=0, max=65), HTML(value='')))"
      ]
     },
     "metadata": {},
     "output_type": "display_data"
    },
    {
     "name": "stdout",
     "output_type": "stream",
     "text": [
      "\n",
      "cosistency of  08405 1.0\n"
     ]
    },
    {
     "data": {
      "application/vnd.jupyter.widget-view+json": {
       "model_id": "1cdc18b6a98548a2ac0790a3b2190e1d",
       "version_major": 2,
       "version_minor": 0
      },
      "text/plain": [
       "HBox(children=(IntProgress(value=0, max=65), HTML(value='')))"
      ]
     },
     "metadata": {},
     "output_type": "display_data"
    },
    {
     "name": "stdout",
     "output_type": "stream",
     "text": [
      "\n",
      "consistency for cross 4 = 0.9969774471053244\n"
     ]
    }
   ],
   "source": [
    "for cross_idx in range(5):\n",
    "    if cross_idx < 2:continue\n",
    "    with open(os.path.join(dataset_root,\"dataset-cross\"+str(cross_idx)+\".pickle\"),\"rb\") as f:\n",
    "            dataset = pickle.load(f)\n",
    "            test_keys = dataset[\"test_key\"]\n",
    "            X_test = dataset[\"X_test\"]\n",
    "            y_test = dataset[\"y_test\"]\n",
    "    model = load_model(os.path.join(model_root,str(model_idx[cross_idx])+\"-model.h5\"))\n",
    "    min_norm,max_norm = get_normalization_param(test_keys)\n",
    "    consistencys = []\n",
    "\n",
    "    for test_key in test_keys:\n",
    "        with open(os.path.join(dataset_root,test_key+\".pickle\"),\"rb\") as f:\n",
    "            dataset = pickle.load(f)\n",
    "        X = np.expand_dims( (dataset[\"X\"] - min_norm) / (max_norm - min_norm) ,axis=2)\n",
    "        y = to_categorical (dataset[\"y\"],num_classes=2)\n",
    "\n",
    "        consistency = check_shift_invariance(X,y,test_key,save_root = os.path.join( \"./Animations\",\"cross-\"+str(cross_idx)))\n",
    "        consistencys.append(consistency)\n",
    "\n",
    "    consis = np.mean(consistencys)\n",
    "    print(\"consistency for cross\",cross_idx,\"=\",consis)"
   ]
  },
  {
   "cell_type": "code",
   "execution_count": null,
   "metadata": {},
   "outputs": [],
   "source": []
  },
  {
   "cell_type": "code",
   "execution_count": null,
   "metadata": {},
   "outputs": [],
   "source": []
  },
  {
   "cell_type": "markdown",
   "metadata": {},
   "source": [
    "## Summary of consistency"
   ]
  },
  {
   "cell_type": "markdown",
   "metadata": {},
   "source": [
    "consistency for cross 0 = 0.9759052740751349"
   ]
  },
  {
   "cell_type": "markdown",
   "metadata": {},
   "source": [
    "consistency for cross 1 = 0.9351165329017288"
   ]
  },
  {
   "cell_type": "markdown",
   "metadata": {},
   "source": [
    "consistency for cross 2 = []"
   ]
  },
  {
   "cell_type": "markdown",
   "metadata": {},
   "source": [
    "consistency for cross 3 = 0.9400834782098398"
   ]
  },
  {
   "cell_type": "markdown",
   "metadata": {},
   "source": [
    "consistency for cross 4 = 0.9969774471053244"
   ]
  },
  {
   "cell_type": "code",
   "execution_count": null,
   "metadata": {},
   "outputs": [],
   "source": []
  }
 ],
 "metadata": {
  "kernelspec": {
   "display_name": "Python 3",
   "language": "python",
   "name": "python3"
  },
  "language_info": {
   "codemirror_mode": {
    "name": "ipython",
    "version": 3
   },
   "file_extension": ".py",
   "mimetype": "text/x-python",
   "name": "python",
   "nbconvert_exporter": "python",
   "pygments_lexer": "ipython3",
   "version": "3.6.2"
  }
 },
 "nbformat": 4,
 "nbformat_minor": 2
}
