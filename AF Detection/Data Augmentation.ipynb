{
 "cells": [
  {
   "cell_type": "code",
   "execution_count": 1,
   "metadata": {},
   "outputs": [
    {
     "name": "stderr",
     "output_type": "stream",
     "text": [
      "/Users/hu/.pyenv/versions/3.6.6/envs/Biosignals/lib/python3.6/site-packages/pandas/compat/__init__.py:84: UserWarning: Could not import the lzma module. Your installed Python is incomplete. Attempting to use lzma compression will result in a RuntimeError.\n",
      "  warnings.warn(msg)\n",
      "/Users/hu/.pyenv/versions/3.6.6/envs/Biosignals/lib/python3.6/site-packages/pandas/compat/__init__.py:84: UserWarning: Could not import the lzma module. Your installed Python is incomplete. Attempting to use lzma compression will result in a RuntimeError.\n",
      "  warnings.warn(msg)\n",
      "Using TensorFlow backend.\n"
     ]
    }
   ],
   "source": [
    "import os\n",
    "import wfdb\n",
    "import pickle\n",
    "import pandas as pd\n",
    "import numpy as np\n",
    "from keras.utils import to_categorical\n",
    "from tqdm import tqdm_notebook\n",
    "from sklearn.preprocessing import MinMaxScaler\n",
    "import matplotlib.pyplot as plt\n",
    "from keras.models import load_model\n",
    "import matplotlib.animation as animation\n",
    "np.set_printoptions(suppress=True)\n",
    "%matplotlib inline"
   ]
  },
  {
   "cell_type": "code",
   "execution_count": 2,
   "metadata": {},
   "outputs": [],
   "source": [
    "cross_idx = 3\n",
    "win_len = 100\n",
    "dataset_root = \"./dataset_RRI/\"\n",
    "model_root = \"./results/models/\"\n",
    "keys = [i.split(\".\")[0] for i in os.listdir(dataset_root) if \"pickle\" in i and \"cross\" not in i ]\n",
    "model_idx = {\n",
    "    0:8,\n",
    "    1:12,\n",
    "    2:21,\n",
    "    3:33,\n",
    "    4:42\n",
    "}"
   ]
  },
  {
   "cell_type": "code",
   "execution_count": 3,
   "metadata": {},
   "outputs": [],
   "source": [
    "def int2label(label):\n",
    "    if label==0:\n",
    "        return \"Normal\"\n",
    "    elif label==1:\n",
    "        return \"AF\""
   ]
  },
  {
   "cell_type": "code",
   "execution_count": 4,
   "metadata": {},
   "outputs": [],
   "source": [
    "def get_normalization_param(test_keys):\n",
    "    max_norm = 0\n",
    "    min_norm = 10000\n",
    "    for key in keys:\n",
    "        if key in test_keys:continue\n",
    "        with open(os.path.join(dataset_root,key+\".pickle\"),\"rb\") as f:\n",
    "            dataset = pickle.load(f)\n",
    "        X = dataset[\"X\"]\n",
    "        if np.max(X) > max_norm:\n",
    "            max_norm = np.max(X)\n",
    "        if np.min(X) < min_norm:\n",
    "            min_norm = np.min(X)\n",
    "    return min_norm,max_norm"
   ]
  },
  {
   "cell_type": "code",
   "execution_count": 5,
   "metadata": {},
   "outputs": [],
   "source": [
    "def update(i, confidence,confidences,segments,labels,offset,ax1,ax2):\n",
    "    if i !=0:\n",
    "        ax1.cla()\n",
    "        ax2.cla()\n",
    "    c = confidence[i]\n",
    "    segment = segments[i]\n",
    "    label = labels[i]\n",
    "    if c<0.5:\n",
    "        color = \"red\"\n",
    "    elif c<0.7:\n",
    "        color = \"yellow\"\n",
    "    else:\n",
    "        color = \"green\"\n",
    "        \n",
    "    ax1.plot([i+j+offset for j in range(win_len)],segment,color=\"b\")\n",
    "    ax1.set_ylim(0,1)\n",
    "    ax1.set_xlabel(\"RRI Index\",fontsize=15)\n",
    "    ax1.set_ylabel(\"Normalized RRI value\",fontsize=15)\n",
    "    ax1.set_title(\"Label:\"+int2label(label),fontsize=15)\n",
    "    ax2.bar(range(1, 2), c, color=color, align='center')\n",
    "    ax2.set_title(\"Confidence of predict true label\",fontsize=15)\n",
    "    ax2.set_xticklabels([])\n",
    "    ax2.set_ylim(0,1)"
   ]
  },
  {
   "cell_type": "code",
   "execution_count": 6,
   "metadata": {},
   "outputs": [],
   "source": [
    "def plot_animation(seg_idx,segments,labels,confidence,confidences,save_dir):\n",
    "    fig,(ax1,ax2) = plt.subplots(1,2,figsize=(15,5)) #figure objectを取得\n",
    "    ax3 = ax2.twinx()\n",
    "    ax3.boxplot(confidences)\n",
    "    ax3.set_ylim(ax2.get_ylim())\n",
    "    ax3.set_yticklabels([])\n",
    "    ani = animation.FuncAnimation(fig, update, fargs = (confidence,confidences,segments,labels,seg_idx,ax1,ax2), interval = 100)\n",
    "    save_path = os.path.join(save_dir,str(seg_idx)+\".mp4\")\n",
    "    ani.save(save_path, writer = 'ffmpeg')\n",
    "    plt.close()"
   ]
  },
  {
   "cell_type": "code",
   "execution_count": 7,
   "metadata": {},
   "outputs": [],
   "source": [
    "def check_shift_invariance_once(X,label,seg_idx,save_dir,confidences,return_confidence=False):\n",
    "    interval = 100\n",
    "    if not os.path.exists(save_dir):\n",
    "        os.mkdir(save_dir)\n",
    "    continue_seg = np.concatenate( [X[seg_idx],X[seg_idx+1]],axis=0)\n",
    "    sliding_win_start = 0\n",
    "    sliding_win_end = 100\n",
    "    step = 1\n",
    "    confidence = []\n",
    "    shifted_segments = []\n",
    "    shifted_labels = []\n",
    "    \n",
    "    consistency_list = [] \n",
    "    \n",
    "    while(sliding_win_end<len(continue_seg)):\n",
    "        data = continue_seg[sliding_win_start:sliding_win_end,:]\n",
    "\n",
    "        logits = model.predict(np.expand_dims(data,axis=0))[0]\n",
    "        confidence.append(logits[label])\n",
    "        shifted_segments.append(data)\n",
    "        shifted_labels.append(label)\n",
    "        if sliding_win_start!=0:\n",
    "            consistency_list.append(np.argmax(logits)==label)\n",
    "        sliding_win_start += step\n",
    "        sliding_win_end += step\n",
    "    \n",
    "    if not return_confidence:\n",
    "        plot_animation(seg_idx,shifted_segments,shifted_labels,confidence,confidences,save_dir)\n",
    "    else:\n",
    "        if len(np.where(np.array(confidence) < 0.5)[0])>0:\n",
    "            print(seg_idx,\"contains red predictions:\",len(np.where(np.array(confidence) < 0.5)[0]))\n",
    "        return confidence,consistency_list"
   ]
  },
  {
   "cell_type": "code",
   "execution_count": 8,
   "metadata": {},
   "outputs": [],
   "source": [
    "def check_shift_invariance(X,y,test_key,save_root = \"./Animations\"):\n",
    "    if not os.path.exists(save_root):\n",
    "        os.mkdir(save_root)\n",
    "    save_dir = os.path.join(save_root,test_key)\n",
    "\n",
    "    start = dataset[\"start\"]\n",
    "    end = dataset[\"end\"]\n",
    "    confidences = []\n",
    "    shifted_segments = []\n",
    "    shifted_labels = []\n",
    "    consistency = []\n",
    "    if len(X)==1:\n",
    "        print(\"cosistency of \",test_key,\"can not calculate cosistency\")\n",
    "        return []\n",
    "        \n",
    "    for seg_idx in tqdm_notebook(range(len(X)-1)):\n",
    "        seg = X[seg_idx]\n",
    "        next_seg = X[seg_idx+1]\n",
    "        seg_end = end[seg_idx]\n",
    "        next_seg_start = start[seg_idx+1]\n",
    "        label = np.argmax(y[seg_idx])\n",
    "        next_label = np.argmax(y[seg_idx+1])\n",
    "        if not (seg_end == next_seg_start and label==next_label):continue\n",
    "        confidence,consistency_list =  check_shift_invariance_once(X,label,seg_idx,save_dir,confidences=None,return_confidence=True)\n",
    "        confidences.append(confidence)\n",
    "        consistency.append(consistency_list)\n",
    "        \n",
    "    confidences = np.concatenate(confidences,axis=0)\n",
    "    consistency = np.concatenate(consistency,axis=0)\n",
    "    consistency = np.mean(consistency)\n",
    "    print(\"cosistency of \",test_key,consistency)\n",
    "    \n",
    "    for seg_idx in tqdm_notebook(range(len(X)-1)):\n",
    "        seg = X[seg_idx]\n",
    "        next_seg = X[seg_idx+1]\n",
    "        seg_end = end[seg_idx]\n",
    "        next_seg_start = start[seg_idx+1]\n",
    "        label = np.argmax(y[seg_idx])\n",
    "        next_label = np.argmax(y[seg_idx+1])\n",
    "        if not (seg_end == next_seg_start and label==next_label):continue\n",
    "        check_shift_invariance_once(X,label,seg_idx,save_dir,confidences,return_confidence=False)\n",
    "    return consistency"
   ]
  },
  {
   "cell_type": "code",
   "execution_count": 9,
   "metadata": {
    "scrolled": false
   },
   "outputs": [
    {
     "name": "stdout",
     "output_type": "stream",
     "text": [
      "WARNING:tensorflow:From /Users/hu/.pyenv/versions/3.6.6/envs/Biosignals/lib/python3.6/site-packages/keras/backend/tensorflow_backend.py:4070: The name tf.nn.max_pool is deprecated. Please use tf.nn.max_pool2d instead.\n",
      "\n",
      "WARNING:tensorflow:From /Users/hu/.pyenv/versions/3.6.6/envs/Biosignals/lib/python3.6/site-packages/keras/backend/tensorflow_backend.py:422: The name tf.global_variables is deprecated. Please use tf.compat.v1.global_variables instead.\n",
      "\n"
     ]
    },
    {
     "data": {
      "application/vnd.jupyter.widget-view+json": {
       "model_id": "36b03fcc238a4937b2bb64cb6576069b",
       "version_major": 2,
       "version_minor": 0
      },
      "text/plain": [
       "HBox(children=(IntProgress(value=0, max=49), HTML(value='')))"
      ]
     },
     "metadata": {},
     "output_type": "display_data"
    },
    {
     "name": "stdout",
     "output_type": "stream",
     "text": [
      "4 contains red predictions: 9\n",
      "34 contains red predictions: 2\n",
      "\n",
      "cosistency of  08434 0.9977324263038548\n"
     ]
    },
    {
     "data": {
      "application/vnd.jupyter.widget-view+json": {
       "model_id": "c22ceba57e9c40a184412f113b94ddbf",
       "version_major": 2,
       "version_minor": 0
      },
      "text/plain": [
       "HBox(children=(IntProgress(value=0, max=49), HTML(value='')))"
      ]
     },
     "metadata": {},
     "output_type": "display_data"
    },
    {
     "name": "stdout",
     "output_type": "stream",
     "text": [
      "\n"
     ]
    },
    {
     "data": {
      "application/vnd.jupyter.widget-view+json": {
       "model_id": "c357eaea9a994723a84414af1310170a",
       "version_major": 2,
       "version_minor": 0
      },
      "text/plain": [
       "HBox(children=(IntProgress(value=0, max=22), HTML(value='')))"
      ]
     },
     "metadata": {},
     "output_type": "display_data"
    },
    {
     "name": "stdout",
     "output_type": "stream",
     "text": [
      "11 contains red predictions: 4\n",
      "14 contains red predictions: 17\n",
      "15 contains red predictions: 13\n",
      "\n",
      "cosistency of  04746 0.9843893480257117\n"
     ]
    },
    {
     "data": {
      "application/vnd.jupyter.widget-view+json": {
       "model_id": "82d599facabc4dfa8873a3625a7851e4",
       "version_major": 2,
       "version_minor": 0
      },
      "text/plain": [
       "HBox(children=(IntProgress(value=0, max=22), HTML(value='')))"
      ]
     },
     "metadata": {},
     "output_type": "display_data"
    },
    {
     "name": "stdout",
     "output_type": "stream",
     "text": [
      "\n"
     ]
    },
    {
     "data": {
      "application/vnd.jupyter.widget-view+json": {
       "model_id": "4b89af6dca684b15aa9a9d2ff5d67b9a",
       "version_major": 2,
       "version_minor": 0
      },
      "text/plain": [
       "HBox(children=(IntProgress(value=0, max=391), HTML(value='')))"
      ]
     },
     "metadata": {},
     "output_type": "display_data"
    },
    {
     "name": "stdout",
     "output_type": "stream",
     "text": [
      "3 contains red predictions: 5\n",
      "4 contains red predictions: 16\n",
      "11 contains red predictions: 6\n",
      "12 contains red predictions: 1\n",
      "14 contains red predictions: 3\n",
      "15 contains red predictions: 12\n",
      "16 contains red predictions: 3\n",
      "30 contains red predictions: 7\n",
      "31 contains red predictions: 3\n",
      "34 contains red predictions: 15\n",
      "39 contains red predictions: 1\n",
      "58 contains red predictions: 2\n",
      "59 contains red predictions: 5\n",
      "60 contains red predictions: 1\n",
      "64 contains red predictions: 5\n",
      "67 contains red predictions: 1\n",
      "73 contains red predictions: 2\n",
      "75 contains red predictions: 12\n",
      "76 contains red predictions: 1\n",
      "83 contains red predictions: 1\n",
      "85 contains red predictions: 8\n",
      "86 contains red predictions: 4\n",
      "92 contains red predictions: 5\n",
      "96 contains red predictions: 1\n",
      "103 contains red predictions: 1\n",
      "104 contains red predictions: 2\n",
      "107 contains red predictions: 26\n",
      "108 contains red predictions: 1\n",
      "112 contains red predictions: 1\n",
      "113 contains red predictions: 1\n",
      "144 contains red predictions: 1\n",
      "147 contains red predictions: 1\n",
      "148 contains red predictions: 1\n",
      "186 contains red predictions: 1\n",
      "187 contains red predictions: 4\n",
      "189 contains red predictions: 7\n",
      "192 contains red predictions: 1\n",
      "194 contains red predictions: 9\n",
      "195 contains red predictions: 7\n",
      "196 contains red predictions: 2\n",
      "197 contains red predictions: 7\n",
      "205 contains red predictions: 4\n",
      "216 contains red predictions: 3\n",
      "218 contains red predictions: 5\n",
      "219 contains red predictions: 1\n",
      "220 contains red predictions: 13\n",
      "221 contains red predictions: 10\n",
      "223 contains red predictions: 30\n",
      "224 contains red predictions: 42\n",
      "225 contains red predictions: 27\n",
      "226 contains red predictions: 14\n",
      "227 contains red predictions: 16\n",
      "228 contains red predictions: 1\n",
      "229 contains red predictions: 1\n",
      "230 contains red predictions: 1\n",
      "231 contains red predictions: 12\n",
      "232 contains red predictions: 7\n",
      "233 contains red predictions: 7\n",
      "234 contains red predictions: 1\n",
      "235 contains red predictions: 9\n",
      "236 contains red predictions: 5\n",
      "237 contains red predictions: 4\n",
      "238 contains red predictions: 1\n",
      "239 contains red predictions: 4\n",
      "243 contains red predictions: 1\n",
      "248 contains red predictions: 8\n",
      "253 contains red predictions: 2\n",
      "255 contains red predictions: 1\n",
      "256 contains red predictions: 3\n",
      "258 contains red predictions: 3\n",
      "263 contains red predictions: 2\n",
      "265 contains red predictions: 31\n",
      "266 contains red predictions: 13\n",
      "269 contains red predictions: 9\n",
      "270 contains red predictions: 9\n",
      "271 contains red predictions: 22\n",
      "272 contains red predictions: 11\n",
      "273 contains red predictions: 5\n",
      "274 contains red predictions: 20\n",
      "275 contains red predictions: 7\n",
      "276 contains red predictions: 19\n",
      "278 contains red predictions: 2\n",
      "284 contains red predictions: 1\n",
      "286 contains red predictions: 1\n",
      "287 contains red predictions: 1\n",
      "297 contains red predictions: 2\n",
      "298 contains red predictions: 3\n",
      "299 contains red predictions: 1\n",
      "304 contains red predictions: 2\n",
      "305 contains red predictions: 1\n",
      "306 contains red predictions: 12\n",
      "308 contains red predictions: 7\n",
      "315 contains red predictions: 5\n",
      "316 contains red predictions: 15\n",
      "318 contains red predictions: 17\n",
      "319 contains red predictions: 2\n",
      "320 contains red predictions: 5\n",
      "321 contains red predictions: 20\n",
      "323 contains red predictions: 7\n",
      "326 contains red predictions: 11\n",
      "327 contains red predictions: 1\n",
      "328 contains red predictions: 8\n",
      "329 contains red predictions: 11\n",
      "330 contains red predictions: 4\n",
      "331 contains red predictions: 23\n",
      "332 contains red predictions: 46\n",
      "333 contains red predictions: 1\n",
      "334 contains red predictions: 4\n",
      "335 contains red predictions: 17\n",
      "338 contains red predictions: 6\n",
      "339 contains red predictions: 12\n",
      "341 contains red predictions: 2\n",
      "342 contains red predictions: 3\n",
      "344 contains red predictions: 1\n",
      "345 contains red predictions: 2\n",
      "347 contains red predictions: 17\n",
      "348 contains red predictions: 7\n",
      "349 contains red predictions: 7\n",
      "350 contains red predictions: 20\n",
      "351 contains red predictions: 45\n",
      "352 contains red predictions: 11\n",
      "353 contains red predictions: 48\n",
      "354 contains red predictions: 32\n",
      "356 contains red predictions: 40\n",
      "357 contains red predictions: 58\n",
      "358 contains red predictions: 6\n",
      "359 contains red predictions: 54\n",
      "360 contains red predictions: 17\n",
      "361 contains red predictions: 8\n",
      "362 contains red predictions: 42\n",
      "363 contains red predictions: 53\n",
      "364 contains red predictions: 6\n",
      "365 contains red predictions: 26\n",
      "366 contains red predictions: 47\n",
      "367 contains red predictions: 94\n",
      "368 contains red predictions: 87\n",
      "369 contains red predictions: 73\n",
      "370 contains red predictions: 69\n",
      "371 contains red predictions: 49\n",
      "372 contains red predictions: 3\n",
      "373 contains red predictions: 38\n",
      "374 contains red predictions: 33\n",
      "375 contains red predictions: 5\n",
      "376 contains red predictions: 44\n",
      "377 contains red predictions: 26\n",
      "378 contains red predictions: 50\n",
      "379 contains red predictions: 27\n",
      "380 contains red predictions: 73\n",
      "381 contains red predictions: 41\n",
      "382 contains red predictions: 17\n",
      "383 contains red predictions: 4\n",
      "385 contains red predictions: 3\n",
      "386 contains red predictions: 2\n",
      "387 contains red predictions: 4\n",
      "388 contains red predictions: 4\n",
      "389 contains red predictions: 2\n",
      "390 contains red predictions: 1\n",
      "\n",
      "cosistency of  07162 0.9455940478958382\n"
     ]
    },
    {
     "data": {
      "application/vnd.jupyter.widget-view+json": {
       "model_id": "dc5f243dfb2148a4b337d6898dc8ac41",
       "version_major": 2,
       "version_minor": 0
      },
      "text/plain": [
       "HBox(children=(IntProgress(value=0, max=391), HTML(value='')))"
      ]
     },
     "metadata": {},
     "output_type": "display_data"
    },
    {
     "name": "stdout",
     "output_type": "stream",
     "text": [
      "\n",
      "consistency for cross 0 = 0.9759052740751349\n"
     ]
    },
    {
     "data": {
      "application/vnd.jupyter.widget-view+json": {
       "model_id": "9d8abd41c4b84c409c397d8f4ef6ca7d",
       "version_major": 2,
       "version_minor": 0
      },
      "text/plain": [
       "HBox(children=(IntProgress(value=0, max=43), HTML(value='')))"
      ]
     },
     "metadata": {},
     "output_type": "display_data"
    },
    {
     "name": "stdout",
     "output_type": "stream",
     "text": [
      "1 contains red predictions: 1\n",
      "2 contains red predictions: 35\n",
      "12 contains red predictions: 38\n",
      "32 contains red predictions: 1\n",
      "33 contains red predictions: 20\n",
      "34 contains red predictions: 63\n",
      "35 contains red predictions: 18\n",
      "39 contains red predictions: 52\n",
      "40 contains red predictions: 87\n",
      "41 contains red predictions: 10\n",
      "42 contains red predictions: 60\n",
      "\n",
      "cosistency of  08219 0.9102654451491661\n"
     ]
    },
    {
     "data": {
      "application/vnd.jupyter.widget-view+json": {
       "model_id": "1ec2f10e6a814d5897ce8a4e8b946d50",
       "version_major": 2,
       "version_minor": 0
      },
      "text/plain": [
       "HBox(children=(IntProgress(value=0, max=43), HTML(value='')))"
      ]
     },
     "metadata": {},
     "output_type": "display_data"
    },
    {
     "name": "stdout",
     "output_type": "stream",
     "text": [
      "\n"
     ]
    },
    {
     "data": {
      "application/vnd.jupyter.widget-view+json": {
       "model_id": "41c5bf1f3dfe4023bf6e0d6bd315d60f",
       "version_major": 2,
       "version_minor": 0
      },
      "text/plain": [
       "HBox(children=(IntProgress(value=0, max=391), HTML(value='')))"
      ]
     },
     "metadata": {},
     "output_type": "display_data"
    },
    {
     "name": "stdout",
     "output_type": "stream",
     "text": [
      "0 contains red predictions: 2\n",
      "1 contains red predictions: 1\n",
      "3 contains red predictions: 9\n",
      "4 contains red predictions: 52\n",
      "5 contains red predictions: 3\n",
      "6 contains red predictions: 2\n",
      "10 contains red predictions: 4\n",
      "11 contains red predictions: 6\n",
      "12 contains red predictions: 4\n",
      "14 contains red predictions: 7\n",
      "15 contains red predictions: 38\n",
      "16 contains red predictions: 2\n",
      "17 contains red predictions: 3\n",
      "18 contains red predictions: 3\n",
      "21 contains red predictions: 1\n",
      "24 contains red predictions: 6\n",
      "25 contains red predictions: 2\n",
      "26 contains red predictions: 1\n",
      "30 contains red predictions: 15\n",
      "31 contains red predictions: 18\n",
      "32 contains red predictions: 5\n",
      "33 contains red predictions: 4\n",
      "34 contains red predictions: 18\n",
      "35 contains red predictions: 1\n",
      "36 contains red predictions: 1\n",
      "37 contains red predictions: 2\n",
      "46 contains red predictions: 3\n",
      "47 contains red predictions: 2\n",
      "48 contains red predictions: 2\n",
      "55 contains red predictions: 1\n",
      "58 contains red predictions: 8\n",
      "59 contains red predictions: 20\n",
      "60 contains red predictions: 7\n",
      "61 contains red predictions: 3\n",
      "63 contains red predictions: 2\n",
      "64 contains red predictions: 1\n",
      "71 contains red predictions: 5\n",
      "72 contains red predictions: 3\n",
      "73 contains red predictions: 1\n",
      "74 contains red predictions: 2\n",
      "75 contains red predictions: 29\n",
      "76 contains red predictions: 1\n",
      "77 contains red predictions: 6\n",
      "80 contains red predictions: 1\n",
      "81 contains red predictions: 1\n",
      "83 contains red predictions: 16\n",
      "84 contains red predictions: 4\n",
      "85 contains red predictions: 12\n",
      "86 contains red predictions: 6\n",
      "87 contains red predictions: 1\n",
      "89 contains red predictions: 4\n",
      "90 contains red predictions: 3\n",
      "91 contains red predictions: 11\n",
      "92 contains red predictions: 29\n",
      "93 contains red predictions: 1\n",
      "94 contains red predictions: 3\n",
      "95 contains red predictions: 13\n",
      "96 contains red predictions: 5\n",
      "97 contains red predictions: 7\n",
      "98 contains red predictions: 11\n",
      "100 contains red predictions: 12\n",
      "102 contains red predictions: 2\n",
      "103 contains red predictions: 12\n",
      "104 contains red predictions: 5\n",
      "107 contains red predictions: 25\n",
      "108 contains red predictions: 1\n",
      "112 contains red predictions: 4\n",
      "114 contains red predictions: 1\n",
      "119 contains red predictions: 1\n",
      "121 contains red predictions: 6\n",
      "124 contains red predictions: 1\n",
      "128 contains red predictions: 1\n",
      "129 contains red predictions: 4\n",
      "131 contains red predictions: 10\n",
      "134 contains red predictions: 2\n",
      "137 contains red predictions: 5\n",
      "139 contains red predictions: 1\n",
      "142 contains red predictions: 4\n",
      "143 contains red predictions: 1\n",
      "144 contains red predictions: 11\n",
      "145 contains red predictions: 1\n",
      "147 contains red predictions: 6\n",
      "148 contains red predictions: 6\n",
      "150 contains red predictions: 1\n",
      "152 contains red predictions: 5\n",
      "154 contains red predictions: 7\n",
      "157 contains red predictions: 1\n",
      "164 contains red predictions: 2\n",
      "165 contains red predictions: 4\n",
      "166 contains red predictions: 10\n",
      "167 contains red predictions: 7\n",
      "168 contains red predictions: 6\n",
      "169 contains red predictions: 4\n",
      "170 contains red predictions: 2\n",
      "171 contains red predictions: 5\n",
      "175 contains red predictions: 3\n",
      "180 contains red predictions: 4\n",
      "181 contains red predictions: 2\n",
      "182 contains red predictions: 3\n",
      "183 contains red predictions: 3\n",
      "185 contains red predictions: 4\n",
      "186 contains red predictions: 7\n",
      "187 contains red predictions: 15\n",
      "189 contains red predictions: 1\n",
      "190 contains red predictions: 6\n",
      "191 contains red predictions: 1\n",
      "192 contains red predictions: 13\n",
      "193 contains red predictions: 8\n",
      "194 contains red predictions: 18\n",
      "195 contains red predictions: 6\n",
      "196 contains red predictions: 6\n",
      "197 contains red predictions: 14\n",
      "198 contains red predictions: 3\n",
      "200 contains red predictions: 9\n",
      "201 contains red predictions: 2\n",
      "203 contains red predictions: 6\n",
      "205 contains red predictions: 12\n",
      "206 contains red predictions: 1\n",
      "207 contains red predictions: 8\n",
      "209 contains red predictions: 7\n",
      "210 contains red predictions: 1\n",
      "212 contains red predictions: 4\n",
      "215 contains red predictions: 12\n",
      "216 contains red predictions: 11\n",
      "217 contains red predictions: 2\n",
      "218 contains red predictions: 10\n",
      "219 contains red predictions: 8\n",
      "220 contains red predictions: 22\n",
      "221 contains red predictions: 11\n",
      "222 contains red predictions: 6\n",
      "223 contains red predictions: 42\n",
      "224 contains red predictions: 42\n",
      "225 contains red predictions: 16\n",
      "226 contains red predictions: 30\n",
      "227 contains red predictions: 9\n",
      "228 contains red predictions: 3\n",
      "229 contains red predictions: 7\n",
      "230 contains red predictions: 30\n",
      "231 contains red predictions: 8\n",
      "232 contains red predictions: 11\n",
      "233 contains red predictions: 24\n",
      "234 contains red predictions: 1\n",
      "235 contains red predictions: 11\n",
      "236 contains red predictions: 6\n",
      "237 contains red predictions: 15\n",
      "238 contains red predictions: 7\n",
      "239 contains red predictions: 3\n",
      "243 contains red predictions: 3\n",
      "247 contains red predictions: 5\n",
      "248 contains red predictions: 12\n",
      "252 contains red predictions: 4\n",
      "253 contains red predictions: 12\n",
      "254 contains red predictions: 8\n",
      "255 contains red predictions: 26\n",
      "256 contains red predictions: 4\n",
      "258 contains red predictions: 4\n",
      "259 contains red predictions: 8\n",
      "262 contains red predictions: 4\n",
      "263 contains red predictions: 7\n",
      "264 contains red predictions: 7\n",
      "265 contains red predictions: 24\n",
      "266 contains red predictions: 11\n",
      "268 contains red predictions: 3\n",
      "269 contains red predictions: 14\n",
      "270 contains red predictions: 8\n",
      "271 contains red predictions: 18\n",
      "272 contains red predictions: 28\n",
      "273 contains red predictions: 10\n",
      "274 contains red predictions: 34\n",
      "275 contains red predictions: 15\n",
      "276 contains red predictions: 23\n",
      "278 contains red predictions: 23\n",
      "279 contains red predictions: 15\n",
      "281 contains red predictions: 2\n",
      "283 contains red predictions: 7\n",
      "284 contains red predictions: 2\n",
      "286 contains red predictions: 2\n",
      "287 contains red predictions: 1\n",
      "290 contains red predictions: 2\n",
      "292 contains red predictions: 8\n",
      "293 contains red predictions: 6\n",
      "294 contains red predictions: 1\n",
      "295 contains red predictions: 3\n",
      "296 contains red predictions: 2\n",
      "297 contains red predictions: 7\n",
      "298 contains red predictions: 11\n",
      "299 contains red predictions: 9\n",
      "300 contains red predictions: 5\n",
      "301 contains red predictions: 4\n",
      "302 contains red predictions: 7\n",
      "304 contains red predictions: 1\n",
      "305 contains red predictions: 11\n",
      "306 contains red predictions: 26\n",
      "307 contains red predictions: 14\n",
      "308 contains red predictions: 29\n",
      "309 contains red predictions: 3\n",
      "311 contains red predictions: 3\n",
      "312 contains red predictions: 7\n",
      "313 contains red predictions: 1\n",
      "314 contains red predictions: 1\n",
      "315 contains red predictions: 13\n",
      "316 contains red predictions: 9\n",
      "317 contains red predictions: 9\n",
      "318 contains red predictions: 45\n",
      "319 contains red predictions: 4\n",
      "320 contains red predictions: 11\n",
      "321 contains red predictions: 14\n",
      "322 contains red predictions: 3\n",
      "323 contains red predictions: 14\n",
      "324 contains red predictions: 1\n",
      "325 contains red predictions: 6\n",
      "326 contains red predictions: 23\n",
      "327 contains red predictions: 8\n",
      "328 contains red predictions: 16\n",
      "329 contains red predictions: 22\n",
      "330 contains red predictions: 9\n",
      "331 contains red predictions: 10\n",
      "332 contains red predictions: 18\n",
      "333 contains red predictions: 12\n",
      "334 contains red predictions: 10\n",
      "335 contains red predictions: 15\n",
      "337 contains red predictions: 2\n",
      "338 contains red predictions: 10\n",
      "339 contains red predictions: 6\n",
      "341 contains red predictions: 5\n",
      "342 contains red predictions: 4\n",
      "343 contains red predictions: 5\n",
      "345 contains red predictions: 9\n",
      "346 contains red predictions: 5\n",
      "347 contains red predictions: 6\n",
      "348 contains red predictions: 3\n",
      "349 contains red predictions: 17\n",
      "350 contains red predictions: 27\n",
      "351 contains red predictions: 38\n",
      "352 contains red predictions: 10\n",
      "353 contains red predictions: 41\n",
      "354 contains red predictions: 34\n",
      "355 contains red predictions: 1\n",
      "356 contains red predictions: 56\n",
      "357 contains red predictions: 32\n",
      "358 contains red predictions: 8\n",
      "359 contains red predictions: 53\n",
      "360 contains red predictions: 15\n",
      "361 contains red predictions: 9\n",
      "362 contains red predictions: 24\n",
      "363 contains red predictions: 26\n",
      "364 contains red predictions: 3\n",
      "365 contains red predictions: 20\n",
      "366 contains red predictions: 39\n",
      "367 contains red predictions: 72\n",
      "368 contains red predictions: 70\n",
      "369 contains red predictions: 73\n",
      "370 contains red predictions: 73\n",
      "371 contains red predictions: 40\n",
      "372 contains red predictions: 7\n",
      "373 contains red predictions: 39\n",
      "374 contains red predictions: 44\n"
     ]
    },
    {
     "name": "stdout",
     "output_type": "stream",
     "text": [
      "375 contains red predictions: 9\n",
      "376 contains red predictions: 53\n",
      "377 contains red predictions: 37\n",
      "378 contains red predictions: 45\n",
      "379 contains red predictions: 24\n",
      "380 contains red predictions: 49\n",
      "381 contains red predictions: 23\n",
      "382 contains red predictions: 10\n",
      "383 contains red predictions: 5\n",
      "384 contains red predictions: 24\n",
      "385 contains red predictions: 25\n",
      "386 contains red predictions: 20\n",
      "387 contains red predictions: 1\n",
      "388 contains red predictions: 20\n",
      "389 contains red predictions: 1\n",
      "390 contains red predictions: 13\n",
      "\n",
      "cosistency of  07162 0.9184427394146064\n"
     ]
    },
    {
     "data": {
      "application/vnd.jupyter.widget-view+json": {
       "model_id": "ba02c7a76a2749969acd7c5b79618d33",
       "version_major": 2,
       "version_minor": 0
      },
      "text/plain": [
       "HBox(children=(IntProgress(value=0, max=391), HTML(value='')))"
      ]
     },
     "metadata": {},
     "output_type": "display_data"
    },
    {
     "name": "stdout",
     "output_type": "stream",
     "text": [
      "\n"
     ]
    },
    {
     "data": {
      "application/vnd.jupyter.widget-view+json": {
       "model_id": "529e135076564d8aa87f9a9341c58641",
       "version_major": 2,
       "version_minor": 0
      },
      "text/plain": [
       "HBox(children=(IntProgress(value=0, max=32), HTML(value='')))"
      ]
     },
     "metadata": {},
     "output_type": "display_data"
    },
    {
     "name": "stdout",
     "output_type": "stream",
     "text": [
      "26 contains red predictions: 21\n",
      "27 contains red predictions: 38\n",
      "31 contains red predictions: 15\n",
      "\n",
      "cosistency of  05091 0.9766414141414141\n"
     ]
    },
    {
     "data": {
      "application/vnd.jupyter.widget-view+json": {
       "model_id": "989e7e5dbc9a4493a7aa6a6b71b05d9d",
       "version_major": 2,
       "version_minor": 0
      },
      "text/plain": [
       "HBox(children=(IntProgress(value=0, max=32), HTML(value='')))"
      ]
     },
     "metadata": {},
     "output_type": "display_data"
    },
    {
     "name": "stdout",
     "output_type": "stream",
     "text": [
      "\n",
      "consistency for cross 1 = 0.9351165329017288\n",
      "cosistency of  07879 can not calculate cosistency\n"
     ]
    },
    {
     "data": {
      "application/vnd.jupyter.widget-view+json": {
       "model_id": "da17a039906e43608338bf024ae95ed7",
       "version_major": 2,
       "version_minor": 0
      },
      "text/plain": [
       "HBox(children=(IntProgress(value=0, max=391), HTML(value='')))"
      ]
     },
     "metadata": {},
     "output_type": "display_data"
    },
    {
     "name": "stdout",
     "output_type": "stream",
     "text": [
      "3 contains red predictions: 1\n",
      "4 contains red predictions: 9\n",
      "107 contains red predictions: 2\n",
      "216 contains red predictions: 1\n",
      "220 contains red predictions: 2\n",
      "224 contains red predictions: 4\n",
      "225 contains red predictions: 4\n",
      "226 contains red predictions: 4\n",
      "227 contains red predictions: 1\n",
      "235 contains red predictions: 2\n",
      "248 contains red predictions: 1\n",
      "256 contains red predictions: 1\n",
      "265 contains red predictions: 1\n",
      "271 contains red predictions: 3\n",
      "283 contains red predictions: 1\n",
      "298 contains red predictions: 1\n",
      "306 contains red predictions: 2\n",
      "308 contains red predictions: 3\n",
      "320 contains red predictions: 6\n",
      "321 contains red predictions: 14\n",
      "326 contains red predictions: 2\n",
      "329 contains red predictions: 2\n",
      "330 contains red predictions: 1\n",
      "331 contains red predictions: 2\n",
      "332 contains red predictions: 8\n",
      "333 contains red predictions: 1\n",
      "335 contains red predictions: 1\n",
      "338 contains red predictions: 2\n",
      "339 contains red predictions: 3\n",
      "342 contains red predictions: 1\n",
      "347 contains red predictions: 5\n",
      "350 contains red predictions: 2\n",
      "351 contains red predictions: 1\n",
      "353 contains red predictions: 8\n",
      "354 contains red predictions: 3\n",
      "355 contains red predictions: 2\n",
      "356 contains red predictions: 3\n",
      "357 contains red predictions: 18\n",
      "359 contains red predictions: 10\n",
      "360 contains red predictions: 2\n",
      "362 contains red predictions: 1\n",
      "366 contains red predictions: 3\n",
      "367 contains red predictions: 29\n",
      "368 contains red predictions: 19\n",
      "369 contains red predictions: 26\n",
      "370 contains red predictions: 19\n",
      "371 contains red predictions: 5\n",
      "373 contains red predictions: 4\n",
      "374 contains red predictions: 8\n",
      "375 contains red predictions: 3\n",
      "376 contains red predictions: 6\n",
      "378 contains red predictions: 3\n",
      "379 contains red predictions: 3\n",
      "380 contains red predictions: 20\n",
      "381 contains red predictions: 8\n",
      "382 contains red predictions: 1\n",
      "\n",
      "cosistency of  07162 0.9923531995143249\n"
     ]
    },
    {
     "data": {
      "application/vnd.jupyter.widget-view+json": {
       "model_id": "f2a75cdb095741a59d446f0bbda7f540",
       "version_major": 2,
       "version_minor": 0
      },
      "text/plain": [
       "HBox(children=(IntProgress(value=0, max=391), HTML(value='')))"
      ]
     },
     "metadata": {},
     "output_type": "display_data"
    },
    {
     "name": "stdout",
     "output_type": "stream",
     "text": [
      "\n"
     ]
    },
    {
     "data": {
      "application/vnd.jupyter.widget-view+json": {
       "model_id": "431dd65d46e147f8af4088d13aa19e49",
       "version_major": 2,
       "version_minor": 0
      },
      "text/plain": [
       "HBox(children=(IntProgress(value=0, max=71), HTML(value='')))"
      ]
     },
     "metadata": {},
     "output_type": "display_data"
    },
    {
     "name": "stdout",
     "output_type": "stream",
     "text": [
      "\n",
      "cosistency of  08455 1.0\n"
     ]
    },
    {
     "data": {
      "application/vnd.jupyter.widget-view+json": {
       "model_id": "34b8754ff1984ec3b84cc07d1d0be5e0",
       "version_major": 2,
       "version_minor": 0
      },
      "text/plain": [
       "HBox(children=(IntProgress(value=0, max=71), HTML(value='')))"
      ]
     },
     "metadata": {},
     "output_type": "display_data"
    },
    {
     "name": "stdout",
     "output_type": "stream",
     "text": [
      "\n",
      "consistency for cross 2 = []\n"
     ]
    },
    {
     "data": {
      "application/vnd.jupyter.widget-view+json": {
       "model_id": "6b752baeb3b84af2831448e862fd84a6",
       "version_major": 2,
       "version_minor": 0
      },
      "text/plain": [
       "HBox(children=(IntProgress(value=0, max=54), HTML(value='')))"
      ]
     },
     "metadata": {},
     "output_type": "display_data"
    },
    {
     "name": "stdout",
     "output_type": "stream",
     "text": [
      "0 contains red predictions: 19\n",
      "1 contains red predictions: 15\n",
      "2 contains red predictions: 12\n",
      "3 contains red predictions: 2\n",
      "21 contains red predictions: 6\n",
      "29 contains red predictions: 21\n",
      "30 contains red predictions: 97\n",
      "31 contains red predictions: 100\n",
      "32 contains red predictions: 100\n",
      "33 contains red predictions: 100\n",
      "34 contains red predictions: 44\n",
      "35 contains red predictions: 4\n",
      "49 contains red predictions: 2\n",
      "53 contains red predictions: 24\n",
      "\n",
      "cosistency of  05261 0.8991769547325102\n"
     ]
    },
    {
     "data": {
      "application/vnd.jupyter.widget-view+json": {
       "model_id": "28a75333d4af426dbb94cb99427e6acc",
       "version_major": 2,
       "version_minor": 0
      },
      "text/plain": [
       "HBox(children=(IntProgress(value=0, max=54), HTML(value='')))"
      ]
     },
     "metadata": {},
     "output_type": "display_data"
    },
    {
     "name": "stdout",
     "output_type": "stream",
     "text": [
      "\n"
     ]
    },
    {
     "data": {
      "application/vnd.jupyter.widget-view+json": {
       "model_id": "4146f92c09fe40f786a4655cfdf3d20e",
       "version_major": 2,
       "version_minor": 0
      },
      "text/plain": [
       "HBox(children=(IntProgress(value=0, max=18), HTML(value='')))"
      ]
     },
     "metadata": {},
     "output_type": "display_data"
    },
    {
     "name": "stdout",
     "output_type": "stream",
     "text": [
      "14 contains red predictions: 1\n",
      "16 contains red predictions: 38\n",
      "\n",
      "cosistency of  06453 0.9781144781144782\n"
     ]
    },
    {
     "data": {
      "application/vnd.jupyter.widget-view+json": {
       "model_id": "f7120f68940f4a2d98d1bbdf6ed3ff4a",
       "version_major": 2,
       "version_minor": 0
      },
      "text/plain": [
       "HBox(children=(IntProgress(value=0, max=18), HTML(value='')))"
      ]
     },
     "metadata": {},
     "output_type": "display_data"
    },
    {
     "name": "stdout",
     "output_type": "stream",
     "text": [
      "\n"
     ]
    },
    {
     "data": {
      "application/vnd.jupyter.widget-view+json": {
       "model_id": "9b576af9077445909c962da7594083bc",
       "version_major": 2,
       "version_minor": 0
      },
      "text/plain": [
       "HBox(children=(IntProgress(value=0, max=391), HTML(value='')))"
      ]
     },
     "metadata": {},
     "output_type": "display_data"
    },
    {
     "name": "stdout",
     "output_type": "stream",
     "text": [
      "4 contains red predictions: 9\n",
      "5 contains red predictions: 2\n",
      "6 contains red predictions: 1\n",
      "11 contains red predictions: 4\n",
      "14 contains red predictions: 1\n",
      "16 contains red predictions: 5\n",
      "17 contains red predictions: 1\n",
      "18 contains red predictions: 5\n",
      "24 contains red predictions: 1\n",
      "30 contains red predictions: 2\n",
      "34 contains red predictions: 1\n",
      "38 contains red predictions: 1\n",
      "67 contains red predictions: 1\n",
      "77 contains red predictions: 2\n",
      "84 contains red predictions: 1\n",
      "85 contains red predictions: 7\n",
      "94 contains red predictions: 1\n",
      "95 contains red predictions: 1\n",
      "96 contains red predictions: 5\n",
      "100 contains red predictions: 3\n",
      "107 contains red predictions: 8\n",
      "112 contains red predictions: 1\n",
      "130 contains red predictions: 1\n",
      "137 contains red predictions: 1\n",
      "152 contains red predictions: 1\n",
      "163 contains red predictions: 1\n",
      "186 contains red predictions: 1\n",
      "189 contains red predictions: 3\n",
      "190 contains red predictions: 1\n",
      "194 contains red predictions: 1\n",
      "195 contains red predictions: 3\n",
      "196 contains red predictions: 1\n",
      "197 contains red predictions: 2\n",
      "200 contains red predictions: 2\n",
      "205 contains red predictions: 2\n",
      "210 contains red predictions: 1\n",
      "215 contains red predictions: 3\n",
      "216 contains red predictions: 9\n",
      "217 contains red predictions: 6\n",
      "218 contains red predictions: 1\n",
      "219 contains red predictions: 8\n",
      "220 contains red predictions: 19\n",
      "221 contains red predictions: 18\n",
      "222 contains red predictions: 3\n",
      "223 contains red predictions: 15\n",
      "224 contains red predictions: 32\n",
      "225 contains red predictions: 18\n",
      "226 contains red predictions: 24\n",
      "227 contains red predictions: 15\n",
      "229 contains red predictions: 7\n",
      "230 contains red predictions: 19\n",
      "231 contains red predictions: 10\n",
      "232 contains red predictions: 15\n",
      "233 contains red predictions: 9\n",
      "234 contains red predictions: 1\n",
      "235 contains red predictions: 13\n",
      "236 contains red predictions: 9\n",
      "253 contains red predictions: 1\n",
      "254 contains red predictions: 1\n",
      "256 contains red predictions: 11\n",
      "262 contains red predictions: 1\n",
      "264 contains red predictions: 1\n",
      "265 contains red predictions: 57\n",
      "266 contains red predictions: 15\n",
      "269 contains red predictions: 15\n",
      "270 contains red predictions: 9\n",
      "271 contains red predictions: 5\n",
      "272 contains red predictions: 10\n",
      "273 contains red predictions: 6\n",
      "274 contains red predictions: 18\n",
      "275 contains red predictions: 13\n",
      "276 contains red predictions: 10\n",
      "283 contains red predictions: 3\n",
      "284 contains red predictions: 4\n",
      "286 contains red predictions: 1\n",
      "301 contains red predictions: 1\n",
      "302 contains red predictions: 4\n",
      "304 contains red predictions: 3\n",
      "305 contains red predictions: 12\n",
      "306 contains red predictions: 30\n",
      "307 contains red predictions: 3\n",
      "308 contains red predictions: 11\n",
      "309 contains red predictions: 3\n",
      "311 contains red predictions: 1\n",
      "313 contains red predictions: 1\n",
      "316 contains red predictions: 5\n",
      "317 contains red predictions: 9\n",
      "318 contains red predictions: 1\n",
      "326 contains red predictions: 30\n",
      "327 contains red predictions: 2\n",
      "328 contains red predictions: 4\n",
      "329 contains red predictions: 42\n",
      "330 contains red predictions: 13\n",
      "331 contains red predictions: 16\n",
      "332 contains red predictions: 24\n",
      "333 contains red predictions: 3\n",
      "334 contains red predictions: 1\n",
      "335 contains red predictions: 3\n",
      "338 contains red predictions: 2\n",
      "339 contains red predictions: 10\n",
      "341 contains red predictions: 5\n",
      "342 contains red predictions: 1\n",
      "343 contains red predictions: 2\n",
      "345 contains red predictions: 7\n",
      "346 contains red predictions: 4\n",
      "347 contains red predictions: 34\n",
      "348 contains red predictions: 3\n",
      "349 contains red predictions: 28\n",
      "350 contains red predictions: 7\n",
      "351 contains red predictions: 32\n",
      "352 contains red predictions: 48\n",
      "353 contains red predictions: 70\n",
      "354 contains red predictions: 43\n",
      "355 contains red predictions: 1\n",
      "356 contains red predictions: 59\n",
      "357 contains red predictions: 92\n",
      "358 contains red predictions: 12\n",
      "359 contains red predictions: 49\n",
      "360 contains red predictions: 29\n",
      "361 contains red predictions: 10\n",
      "362 contains red predictions: 32\n",
      "363 contains red predictions: 33\n",
      "364 contains red predictions: 21\n",
      "365 contains red predictions: 38\n",
      "366 contains red predictions: 35\n",
      "367 contains red predictions: 85\n",
      "368 contains red predictions: 73\n",
      "369 contains red predictions: 86\n",
      "370 contains red predictions: 87\n",
      "371 contains red predictions: 41\n",
      "372 contains red predictions: 5\n",
      "373 contains red predictions: 31\n",
      "374 contains red predictions: 50\n",
      "375 contains red predictions: 5\n",
      "376 contains red predictions: 59\n",
      "377 contains red predictions: 52\n",
      "378 contains red predictions: 49\n",
      "379 contains red predictions: 18\n",
      "380 contains red predictions: 69\n",
      "381 contains red predictions: 26\n",
      "383 contains red predictions: 4\n",
      "384 contains red predictions: 3\n",
      "385 contains red predictions: 2\n",
      "386 contains red predictions: 4\n",
      "387 contains red predictions: 13\n",
      "388 contains red predictions: 5\n",
      "389 contains red predictions: 9\n",
      "390 contains red predictions: 5\n",
      "\n",
      "cosistency of  07162 0.9429590017825312\n"
     ]
    },
    {
     "data": {
      "application/vnd.jupyter.widget-view+json": {
       "model_id": "d3c1df01ac804f95ab04e31e65bb8efc",
       "version_major": 2,
       "version_minor": 0
      },
      "text/plain": [
       "HBox(children=(IntProgress(value=0, max=391), HTML(value='')))"
      ]
     },
     "metadata": {},
     "output_type": "display_data"
    },
    {
     "name": "stdout",
     "output_type": "stream",
     "text": [
      "\n",
      "consistency for cross 3 = 0.9400834782098398\n"
     ]
    },
    {
     "data": {
      "application/vnd.jupyter.widget-view+json": {
       "model_id": "66c957f0b5c34272802853f2a8f04529",
       "version_major": 2,
       "version_minor": 0
      },
      "text/plain": [
       "HBox(children=(IntProgress(value=0, max=391), HTML(value='')))"
      ]
     },
     "metadata": {},
     "output_type": "display_data"
    },
    {
     "name": "stdout",
     "output_type": "stream",
     "text": [
      "134 contains red predictions: 1\n",
      "195 contains red predictions: 2\n",
      "224 contains red predictions: 1\n",
      "226 contains red predictions: 4\n",
      "230 contains red predictions: 1\n",
      "232 contains red predictions: 2\n",
      "269 contains red predictions: 2\n",
      "270 contains red predictions: 1\n",
      "273 contains red predictions: 1\n",
      "274 contains red predictions: 1\n",
      "275 contains red predictions: 7\n",
      "276 contains red predictions: 1\n",
      "286 contains red predictions: 1\n",
      "308 contains red predictions: 1\n",
      "329 contains red predictions: 1\n",
      "332 contains red predictions: 4\n",
      "333 contains red predictions: 1\n",
      "335 contains red predictions: 2\n",
      "338 contains red predictions: 1\n",
      "350 contains red predictions: 19\n",
      "351 contains red predictions: 13\n",
      "353 contains red predictions: 7\n",
      "354 contains red predictions: 1\n",
      "356 contains red predictions: 1\n",
      "357 contains red predictions: 7\n",
      "361 contains red predictions: 4\n",
      "362 contains red predictions: 13\n",
      "363 contains red predictions: 13\n",
      "364 contains red predictions: 1\n",
      "365 contains red predictions: 7\n",
      "366 contains red predictions: 1\n",
      "367 contains red predictions: 30\n",
      "368 contains red predictions: 25\n",
      "369 contains red predictions: 60\n",
      "370 contains red predictions: 52\n",
      "371 contains red predictions: 20\n",
      "373 contains red predictions: 1\n",
      "374 contains red predictions: 10\n",
      "376 contains red predictions: 16\n",
      "378 contains red predictions: 3\n",
      "379 contains red predictions: 2\n",
      "380 contains red predictions: 9\n",
      "381 contains red predictions: 3\n",
      "\n",
      "cosistency of  07162 0.9909323413159731\n"
     ]
    },
    {
     "data": {
      "application/vnd.jupyter.widget-view+json": {
       "model_id": "e8f5bf9bdaae4bc1830b8b2fc5413cd0",
       "version_major": 2,
       "version_minor": 0
      },
      "text/plain": [
       "HBox(children=(IntProgress(value=0, max=391), HTML(value='')))"
      ]
     },
     "metadata": {},
     "output_type": "display_data"
    },
    {
     "name": "stdout",
     "output_type": "stream",
     "text": [
      "\n"
     ]
    },
    {
     "data": {
      "application/vnd.jupyter.widget-view+json": {
       "model_id": "88a0d6416d584699ba3b08300a748e83",
       "version_major": 2,
       "version_minor": 0
      },
      "text/plain": [
       "HBox(children=(IntProgress(value=0, max=8), HTML(value='')))"
      ]
     },
     "metadata": {},
     "output_type": "display_data"
    },
    {
     "name": "stdout",
     "output_type": "stream",
     "text": [
      "\n",
      "cosistency of  04043 1.0\n"
     ]
    },
    {
     "data": {
      "application/vnd.jupyter.widget-view+json": {
       "model_id": "673ca77e46024f29a3e62a070d161836",
       "version_major": 2,
       "version_minor": 0
      },
      "text/plain": [
       "HBox(children=(IntProgress(value=0, max=8), HTML(value='')))"
      ]
     },
     "metadata": {},
     "output_type": "display_data"
    },
    {
     "name": "stdout",
     "output_type": "stream",
     "text": [
      "\n"
     ]
    },
    {
     "data": {
      "application/vnd.jupyter.widget-view+json": {
       "model_id": "279d1ae47f2a4b429fd28c9111f2948e",
       "version_major": 2,
       "version_minor": 0
      },
      "text/plain": [
       "HBox(children=(IntProgress(value=0, max=65), HTML(value='')))"
      ]
     },
     "metadata": {},
     "output_type": "display_data"
    },
    {
     "name": "stdout",
     "output_type": "stream",
     "text": [
      "\n",
      "cosistency of  08405 1.0\n"
     ]
    },
    {
     "data": {
      "application/vnd.jupyter.widget-view+json": {
       "model_id": "58eb60c925fe48018fd6bec6fda5cbdb",
       "version_major": 2,
       "version_minor": 0
      },
      "text/plain": [
       "HBox(children=(IntProgress(value=0, max=65), HTML(value='')))"
      ]
     },
     "metadata": {},
     "output_type": "display_data"
    },
    {
     "name": "stdout",
     "output_type": "stream",
     "text": [
      "\n",
      "consistency for cross 4 = 0.9969774471053244\n"
     ]
    }
   ],
   "source": [
    "for cross_idx in range(5):\n",
    "    with open(os.path.join(dataset_root,\"dataset-cross\"+str(cross_idx)+\".pickle\"),\"rb\") as f:\n",
    "            dataset = pickle.load(f)\n",
    "            test_keys = dataset[\"test_key\"]\n",
    "            X_test = dataset[\"X_test\"]\n",
    "            y_test = dataset[\"y_test\"]\n",
    "    model = load_model(os.path.join(model_root,str(model_idx[cross_idx])+\"-model.h5\"))\n",
    "    min_norm,max_norm = get_normalization_param(test_keys)\n",
    "    consistencys = []\n",
    "\n",
    "    for test_key in test_keys:\n",
    "        with open(os.path.join(dataset_root,test_key+\".pickle\"),\"rb\") as f:\n",
    "            dataset = pickle.load(f)\n",
    "        X = np.expand_dims( (dataset[\"X\"] - min_norm) / (max_norm - min_norm) ,axis=2)\n",
    "        y = to_categorical (dataset[\"y\"],num_classes=2)\n",
    "\n",
    "        consistency = check_shift_invariance(X,y,test_key,save_root = os.path.join( \"./Animations\",\"cross-\"+str(cross_idx)))\n",
    "        consistencys.append(consistency)\n",
    "\n",
    "    consis = np.mean(consistencys)\n",
    "    print(\"consistency for cross\",cross_idx,\"=\",consis)"
   ]
  },
  {
   "cell_type": "code",
   "execution_count": null,
   "metadata": {},
   "outputs": [],
   "source": []
  },
  {
   "cell_type": "code",
   "execution_count": null,
   "metadata": {},
   "outputs": [],
   "source": []
  },
  {
   "cell_type": "code",
   "execution_count": null,
   "metadata": {},
   "outputs": [],
   "source": []
  },
  {
   "cell_type": "code",
   "execution_count": null,
   "metadata": {},
   "outputs": [],
   "source": []
  },
  {
   "cell_type": "code",
   "execution_count": null,
   "metadata": {},
   "outputs": [],
   "source": []
  },
  {
   "cell_type": "code",
   "execution_count": null,
   "metadata": {},
   "outputs": [],
   "source": []
  }
 ],
 "metadata": {
  "kernelspec": {
   "display_name": "Python 3",
   "language": "python",
   "name": "python3"
  },
  "language_info": {
   "codemirror_mode": {
    "name": "ipython",
    "version": 3
   },
   "file_extension": ".py",
   "mimetype": "text/x-python",
   "name": "python",
   "nbconvert_exporter": "python",
   "pygments_lexer": "ipython3",
   "version": "3.6.6"
  }
 },
 "nbformat": 4,
 "nbformat_minor": 2
}
