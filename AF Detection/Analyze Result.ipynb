{
 "cells": [
  {
   "cell_type": "code",
   "execution_count": 4,
   "metadata": {},
   "outputs": [
    {
     "name": "stderr",
     "output_type": "stream",
     "text": [
      "/Users/hu/.pyenv/versions/3.6.6/envs/Biosignals/lib/python3.6/site-packages/pandas/compat/__init__.py:84: UserWarning: Could not import the lzma module. Your installed Python is incomplete. Attempting to use lzma compression will result in a RuntimeError.\n",
      "  warnings.warn(msg)\n",
      "/Users/hu/.pyenv/versions/3.6.6/envs/Biosignals/lib/python3.6/site-packages/pandas/compat/__init__.py:84: UserWarning: Could not import the lzma module. Your installed Python is incomplete. Attempting to use lzma compression will result in a RuntimeError.\n",
      "  warnings.warn(msg)\n",
      "Using TensorFlow backend.\n"
     ]
    }
   ],
   "source": [
    "import os\n",
    "import wfdb\n",
    "import pickle\n",
    "import pandas as pd\n",
    "import numpy as np\n",
    "from keras.utils import to_categorical\n",
    "from tqdm import tqdm_notebook\n",
    "from sklearn.preprocessing import MinMaxScaler\n",
    "import matplotlib.pyplot as plt\n",
    "from keras.models import load_model\n",
    "import seaborn as sns\n",
    "from utils import drop_repeat,cal_cross_validated,generate_marker,BlurPooling1D\n",
    "np.set_printoptions(suppress=True)\n",
    "from keras.utils import CustomObjectScope\n",
    "%matplotlib inline"
   ]
  },
  {
   "cell_type": "code",
   "execution_count": 5,
   "metadata": {},
   "outputs": [],
   "source": [
    "def plot_scatter(df_crossed,pool_factor,x=\"accuracy\",y=\"consis_b\"):\n",
    "    plt.title(str(pool_factor) + \" Layer CNN\",fontsize=20)\n",
    "    for row in df_crossed[df_crossed.pool_factor==pool_factor].iterrows():\n",
    "        marker = row[1][\"marker\"]\n",
    "        label = row[1][\"pool_type\"]\n",
    "        _x = row[1][x]\n",
    "        _y = row[1][y]\n",
    "        pool_factor = row[1][\"pool_factor\"]\n",
    "        if pool_factor == 1:\n",
    "            edge_color = \"b\"\n",
    "        elif pool_factor == 2:\n",
    "            edge_color = \"r\"\n",
    "        elif pool_factor == 3:\n",
    "            edge_color = \"purple\"\n",
    "        c = 'w'\n",
    "        if marker == \"|\":\n",
    "            c = edge_color\n",
    "        plt.scatter(x=_x,y=_y,marker=marker,c=c,edgecolors=edge_color,s=100,label=label)"
   ]
  },
  {
   "cell_type": "code",
   "execution_count": 6,
   "metadata": {},
   "outputs": [],
   "source": [
    "def cal_blur_size(pool_type):\n",
    "    if \"maxblur\" in pool_type:\n",
    "        return int(pool_type[-1])\n",
    "    if pool_type==\"max\":\n",
    "        return 0\n",
    "    if pool_type==\"avg\":\n",
    "        return -1"
   ]
  },
  {
   "cell_type": "markdown",
   "metadata": {},
   "source": [
    "## Read result dataframe (CNN)"
   ]
  },
  {
   "cell_type": "code",
   "execution_count": 7,
   "metadata": {},
   "outputs": [],
   "source": [
    "result_roots = [\"./Result_CNN_pool1/\",\"./Result_CNN_pool2/\",\"./Result_CNN_pool3/\"]"
   ]
  },
  {
   "cell_type": "code",
   "execution_count": 8,
   "metadata": {},
   "outputs": [],
   "source": [
    "result_files = []\n",
    "for result_root in result_roots:\n",
    "    result_dirs = [os.path.join(result_root,i) for i in os.listdir(result_root) if \"results\" in i]\n",
    "    for result_dir in result_dirs:\n",
    "        result_file = os.path.join(result_dir,\"new_result.csv\")\n",
    "        if os.path.exists(result_file):\n",
    "            result_files.append(result_file)\n",
    "result_files.sort()"
   ]
  },
  {
   "cell_type": "code",
   "execution_count": 9,
   "metadata": {},
   "outputs": [],
   "source": [
    "dfs = []\n",
    "for file in result_files:\n",
    "    df = pd.read_csv(file)\n",
    "    df = df.drop(['_'],axis=1)\n",
    "    pool_type = list(df[\"pool_type\"])[0]\n",
    "    if pool_type == \"maxblur-\":\n",
    "        df[\"pool_type\"] = [\"avg\" for i in range(len(df))]\n",
    "        pool_type = \"avg\"\n",
    "    df[\"marker\"] = [generate_marker(pool_type) for i in range(len(df))]\n",
    "    df[\"blur_size\"] = [cal_blur_size(pool_type) for i in range(len(df))]\n",
    "    dfs.append(df)\n",
    "result_df = pd.concat(dfs)"
   ]
  },
  {
   "cell_type": "code",
   "execution_count": 10,
   "metadata": {
    "scrolled": false
   },
   "outputs": [
    {
     "data": {
      "text/html": [
       "<div>\n",
       "<style scoped>\n",
       "    .dataframe tbody tr th:only-of-type {\n",
       "        vertical-align: middle;\n",
       "    }\n",
       "\n",
       "    .dataframe tbody tr th {\n",
       "        vertical-align: top;\n",
       "    }\n",
       "\n",
       "    .dataframe thead th {\n",
       "        text-align: right;\n",
       "    }\n",
       "</style>\n",
       "<table border=\"1\" class=\"dataframe\">\n",
       "  <thead>\n",
       "    <tr style=\"text-align: right;\">\n",
       "      <th></th>\n",
       "      <th>idx</th>\n",
       "      <th>pool_factor</th>\n",
       "      <th>pool_type</th>\n",
       "      <th>cross_idx</th>\n",
       "      <th>repeat_idx</th>\n",
       "      <th>loss</th>\n",
       "      <th>accuracy</th>\n",
       "      <th>consis_b</th>\n",
       "      <th>consis_ub</th>\n",
       "      <th>consis_n</th>\n",
       "      <th>consis_a</th>\n",
       "      <th>consis_a_s</th>\n",
       "      <th>marker</th>\n",
       "      <th>blur_size</th>\n",
       "    </tr>\n",
       "  </thead>\n",
       "  <tbody>\n",
       "    <tr>\n",
       "      <td>0</td>\n",
       "      <td>2</td>\n",
       "      <td>1</td>\n",
       "      <td>max</td>\n",
       "      <td>0</td>\n",
       "      <td>1</td>\n",
       "      <td>1.267224</td>\n",
       "      <td>0.831081</td>\n",
       "      <td>0.797629</td>\n",
       "      <td>0.772520</td>\n",
       "      <td>0.772447</td>\n",
       "      <td>0.772534</td>\n",
       "      <td>0.822811</td>\n",
       "      <td>$M$</td>\n",
       "      <td>0</td>\n",
       "    </tr>\n",
       "    <tr>\n",
       "      <td>1</td>\n",
       "      <td>14</td>\n",
       "      <td>1</td>\n",
       "      <td>max</td>\n",
       "      <td>1</td>\n",
       "      <td>3</td>\n",
       "      <td>1.258857</td>\n",
       "      <td>0.772727</td>\n",
       "      <td>0.740067</td>\n",
       "      <td>0.845580</td>\n",
       "      <td>0.535488</td>\n",
       "      <td>0.905061</td>\n",
       "      <td>0.944646</td>\n",
       "      <td>$M$</td>\n",
       "      <td>0</td>\n",
       "    </tr>\n",
       "    <tr>\n",
       "      <td>2</td>\n",
       "      <td>24</td>\n",
       "      <td>1</td>\n",
       "      <td>max</td>\n",
       "      <td>2</td>\n",
       "      <td>3</td>\n",
       "      <td>0.452523</td>\n",
       "      <td>0.893333</td>\n",
       "      <td>0.861284</td>\n",
       "      <td>0.737744</td>\n",
       "      <td>0.988930</td>\n",
       "      <td>0.690847</td>\n",
       "      <td>0.733638</td>\n",
       "      <td>$M$</td>\n",
       "      <td>0</td>\n",
       "    </tr>\n",
       "    <tr>\n",
       "      <td>3</td>\n",
       "      <td>32</td>\n",
       "      <td>1</td>\n",
       "      <td>max</td>\n",
       "      <td>3</td>\n",
       "      <td>1</td>\n",
       "      <td>0.100253</td>\n",
       "      <td>0.952055</td>\n",
       "      <td>0.943946</td>\n",
       "      <td>0.914907</td>\n",
       "      <td>0.979087</td>\n",
       "      <td>0.903252</td>\n",
       "      <td>0.908806</td>\n",
       "      <td>$M$</td>\n",
       "      <td>0</td>\n",
       "    </tr>\n",
       "    <tr>\n",
       "      <td>4</td>\n",
       "      <td>42</td>\n",
       "      <td>1</td>\n",
       "      <td>max</td>\n",
       "      <td>4</td>\n",
       "      <td>1</td>\n",
       "      <td>0.490812</td>\n",
       "      <td>0.856164</td>\n",
       "      <td>0.830203</td>\n",
       "      <td>0.701976</td>\n",
       "      <td>0.890881</td>\n",
       "      <td>0.667674</td>\n",
       "      <td>0.769526</td>\n",
       "      <td>$M$</td>\n",
       "      <td>0</td>\n",
       "    </tr>\n",
       "  </tbody>\n",
       "</table>\n",
       "</div>"
      ],
      "text/plain": [
       "   idx  pool_factor pool_type  cross_idx  repeat_idx      loss  accuracy  \\\n",
       "0    2            1       max          0           1  1.267224  0.831081   \n",
       "1   14            1       max          1           3  1.258857  0.772727   \n",
       "2   24            1       max          2           3  0.452523  0.893333   \n",
       "3   32            1       max          3           1  0.100253  0.952055   \n",
       "4   42            1       max          4           1  0.490812  0.856164   \n",
       "\n",
       "   consis_b  consis_ub  consis_n  consis_a  consis_a_s marker  blur_size  \n",
       "0  0.797629   0.772520  0.772447  0.772534    0.822811    $M$          0  \n",
       "1  0.740067   0.845580  0.535488  0.905061    0.944646    $M$          0  \n",
       "2  0.861284   0.737744  0.988930  0.690847    0.733638    $M$          0  \n",
       "3  0.943946   0.914907  0.979087  0.903252    0.908806    $M$          0  \n",
       "4  0.830203   0.701976  0.890881  0.667674    0.769526    $M$          0  "
      ]
     },
     "execution_count": 10,
     "metadata": {},
     "output_type": "execute_result"
    }
   ],
   "source": [
    "result_df.head()"
   ]
  },
  {
   "cell_type": "code",
   "execution_count": 11,
   "metadata": {},
   "outputs": [],
   "source": [
    "result_df.to_csv(\"final_result.csv\",header=True)"
   ]
  },
  {
   "cell_type": "code",
   "execution_count": 12,
   "metadata": {},
   "outputs": [],
   "source": [
    "result_df_crossed = cal_cross_validated(result_df,cross=5)"
   ]
  },
  {
   "cell_type": "code",
   "execution_count": 14,
   "metadata": {},
   "outputs": [],
   "source": [
    "result_df_crossed.to_csv(\"final_result_crossed.csv\",header=True)"
   ]
  },
  {
   "cell_type": "markdown",
   "metadata": {},
   "source": [
    "## Find out how pooling factor influence results"
   ]
  },
  {
   "cell_type": "code",
   "execution_count": 15,
   "metadata": {},
   "outputs": [],
   "source": [
    "def plot_scatter_factor(df_crossed,pool_type,x=\"accuracy\",y=\"consis_b\"):\n",
    "    for row in df_crossed[df_crossed.pool_type==pool_type].iterrows():\n",
    "        marker = row[1][\"marker\"]\n",
    "        pool_factor = row[1][\"pool_factor\"]\n",
    "        label = pool_type + str(pool_factor)\n",
    "        _x = row[1][x]\n",
    "        _y = row[1][y]\n",
    "        if pool_factor == 1:\n",
    "            edge_color = \"b\"\n",
    "        elif pool_factor == 2:\n",
    "            edge_color = \"r\"\n",
    "        elif pool_factor == 3:\n",
    "            edge_color = \"purple\"\n",
    "        if pool_type==\"avg\":\n",
    "            c=\"w\"\n",
    "        else:\n",
    "            c=edge_color\n",
    "        plt.scatter(x=_x,y=_y,marker=\"o\",c=c,edgecolors=edge_color,s=100,label=label)\n",
    "    plt.legend()"
   ]
  },
  {
   "cell_type": "code",
   "execution_count": 16,
   "metadata": {},
   "outputs": [
    {
     "data": {
      "image/png": "[encoded data removed]",
      "text/plain": [
       "<Figure size 432x288 with 1 Axes>"
      ]
     },
     "metadata": {
      "needs_background": "light"
     },
     "output_type": "display_data"
    }
   ],
   "source": [
    "plt.title(\"\",fontsize=20)\n",
    "plot_scatter_factor(result_df_crossed,pool_type=\"max\",x=\"accuracy\",y=\"consis_b\")\n",
    "plot_scatter_factor(result_df_crossed,pool_type=\"avg\",x=\"accuracy\",y=\"consis_b\")"
   ]
  },
  {
   "cell_type": "code",
   "execution_count": 17,
   "metadata": {},
   "outputs": [
    {
     "data": {
      "text/plain": [
       "<matplotlib.axes._subplots.AxesSubplot at 0x145cba470>"
      ]
     },
     "execution_count": 17,
     "metadata": {},
     "output_type": "execute_result"
    },
    {
     "data": {
      "image/png": "[encoded data removed]",
      "text/plain": [
       "<Figure size 432x288 with 1 Axes>"
      ]
     },
     "metadata": {
      "needs_background": "light"
     },
     "output_type": "display_data"
    }
   ],
   "source": [
    "sns.barplot(data=result_df[(result_df.pool_type==\"max\")],x=\"pool_factor\",y=\"accuracy\")"
   ]
  },
  {
   "cell_type": "code",
   "execution_count": 18,
   "metadata": {},
   "outputs": [
    {
     "data": {
      "text/plain": [
       "<matplotlib.legend.Legend at 0x14639cf28>"
      ]
     },
     "execution_count": 18,
     "metadata": {},
     "output_type": "execute_result"
    },
    {
     "data": {
      "image/png": "[encoded data removed]",
      "text/plain": [
       "<Figure size 648x504 with 1 Axes>"
      ]
     },
     "metadata": {
      "needs_background": "light"
     },
     "output_type": "display_data"
    }
   ],
   "source": [
    "plt.figure(figsize=(9,7))\n",
    "#plt.plot([0.861072,0.865392],[0.834626,0.857947],c=\"g\")\n",
    "#plt.plot([0.803283,0.875873],[0.793278,0.867690],c=\"g\")\n",
    "#plt.plot([0.861072,0.875873],[0.794545,0.867690],c=\"orange\")\n",
    "plot_scatter(result_df_crossed[(result_df_crossed.pool_type!=\"maxblur-1\")&\n",
    "                              (result_df_crossed.pool_type!=\"maxblur-2\")],pool_factor=1,x=\"accuracy\",y=\"consis_ub\")\n",
    "plt.xlabel(\"Accuracy\",fontsize=20)\n",
    "plt.ylabel(\"Consistency\",fontsize=20)\n",
    "plt.xticks(fontsize=20)\n",
    "plt.yticks(fontsize=20)\n",
    "plt.legend(loc=\"lower right\")"
   ]
  },
  {
   "cell_type": "code",
   "execution_count": 19,
   "metadata": {},
   "outputs": [
    {
     "data": {
      "text/plain": [
       "<matplotlib.legend.Legend at 0x145e467b8>"
      ]
     },
     "execution_count": 19,
     "metadata": {},
     "output_type": "execute_result"
    },
    {
     "data": {
      "image/png": "[encoded data removed]",
      "text/plain": [
       "<Figure size 648x504 with 1 Axes>"
      ]
     },
     "metadata": {
      "needs_background": "light"
     },
     "output_type": "display_data"
    }
   ],
   "source": [
    "plt.figure(figsize=(9,7))\n",
    "#plt.plot([0.861072,0.865392],[0.834626,0.857947],c=\"g\")\n",
    "#plt.plot([0.803283,0.875873],[0.793278,0.867690],c=\"g\")\n",
    "#plt.plot([0.861072,0.875873],[0.794545,0.867690],c=\"orange\")\n",
    "plot_scatter(result_df_crossed[(result_df_crossed.pool_type!=\"maxblur-1\")&\n",
    "                              (result_df_crossed.pool_type!=\"maxblur-2\")],pool_factor=2,x=\"accuracy\",y=\"consis_ub\")\n",
    "plt.xlabel(\"Accuracy\",fontsize=20)\n",
    "plt.ylabel(\"Consistency\",fontsize=20)\n",
    "plt.xticks(fontsize=20)\n",
    "plt.yticks(fontsize=20)\n",
    "plt.legend(loc=\"lower right\")"
   ]
  },
  {
   "cell_type": "code",
   "execution_count": 20,
   "metadata": {},
   "outputs": [
    {
     "data": {
      "text/plain": [
       "<matplotlib.legend.Legend at 0x14643ee80>"
      ]
     },
     "execution_count": 20,
     "metadata": {},
     "output_type": "execute_result"
    },
    {
     "data": {
      "image/png": "[encoded data removed]",
      "text/plain": [
       "<Figure size 648x504 with 1 Axes>"
      ]
     },
     "metadata": {
      "needs_background": "light"
     },
     "output_type": "display_data"
    }
   ],
   "source": [
    "plt.figure(figsize=(9,7))\n",
    "#plt.plot([0.861072,0.865392],[0.834626,0.857947],c=\"g\")\n",
    "#plt.plot([0.803283,0.875873],[0.793278,0.867690],c=\"g\")\n",
    "#plt.plot([0.861072,0.875873],[0.794545,0.867690],c=\"orange\")\n",
    "plot_scatter(result_df_crossed[(result_df_crossed.pool_type!=\"maxblur-1\")&\n",
    "                              (result_df_crossed.pool_type!=\"maxblur-2\")],pool_factor=3,x=\"accuracy\",y=\"consis_ub\")\n",
    "plt.xlabel(\"Accuracy\",fontsize=20)\n",
    "plt.ylabel(\"Consistency\",fontsize=20)\n",
    "plt.xticks(fontsize=20)\n",
    "plt.yticks(fontsize=20)\n",
    "plt.legend(loc=\"lower right\")"
   ]
  },
  {
   "cell_type": "code",
   "execution_count": null,
   "metadata": {},
   "outputs": [],
   "source": []
  },
  {
   "cell_type": "code",
   "execution_count": null,
   "metadata": {},
   "outputs": [],
   "source": []
  },
  {
   "cell_type": "code",
   "execution_count": null,
   "metadata": {},
   "outputs": [],
   "source": []
  },
  {
   "cell_type": "markdown",
   "metadata": {},
   "source": [
    "## Compare consistency"
   ]
  },
  {
   "cell_type": "code",
   "execution_count": 21,
   "metadata": {},
   "outputs": [],
   "source": [
    "def compare_consistency(result_df,pool_type):\n",
    "    plt.subplot(131)\n",
    "    sns.barplot(data=result_df[result_df.pool_type==pool_type],x=\"pool_type\",y=\"consis_a\",capsize=0.15\n",
    "               ,linewidth=2.5, facecolor=\"w\",errcolor=\".2\", edgecolor=\"g\")\n",
    "    plt.ylim(0,1)\n",
    "    plt.xticks([])\n",
    "    plt.ylabel(\"Consistency\",fontsize=15)\n",
    "    plt.xlabel(\"AF\",fontsize=15)\n",
    "\n",
    "    plt.subplot(132)\n",
    "    plt.title(pool_type,fontsize=15)\n",
    "    sns.barplot(data=result_df[result_df.pool_type==pool_type],x=\"pool_type\",y=\"consis_b\",capsize=0.15,color=\"g\")\n",
    "    plt.ylim(0,1)\n",
    "    plt.yticks([])\n",
    "    plt.xticks([])\n",
    "    plt.ylabel(\"\")\n",
    "    \n",
    "    plt.xlabel(\"Total\",fontsize=15)\n",
    "\n",
    "    plt.subplot(133)\n",
    "    sns.barplot(data=result_df[result_df.pool_type==pool_type],x=\"pool_type\",y=\"consis_n\",capsize=0.15\n",
    "               ,linewidth=2.5, facecolor=\"w\",\n",
    "                errcolor=\".2\", edgecolor=\"g\")\n",
    "    plt.ylim(0,1)\n",
    "    plt.yticks([])\n",
    "    plt.xticks([])\n",
    "    plt.ylabel(\"\")\n",
    "    plt.xlabel(\"Normal\",fontsize=15)\n",
    "    plt.show()"
   ]
  },
  {
   "cell_type": "code",
   "execution_count": 22,
   "metadata": {},
   "outputs": [
    {
     "data": {
      "image/png": "[encoded data removed]",
      "text/plain": [
       "<Figure size 432x288 with 3 Axes>"
      ]
     },
     "metadata": {
      "needs_background": "light"
     },
     "output_type": "display_data"
    }
   ],
   "source": [
    "compare_consistency(result_df[result_df.pool_factor==1],pool_type=\"max\")"
   ]
  },
  {
   "cell_type": "code",
   "execution_count": 23,
   "metadata": {},
   "outputs": [
    {
     "data": {
      "image/png": "[encoded data removed]",
      "text/plain": [
       "<Figure size 432x288 with 3 Axes>"
      ]
     },
     "metadata": {
      "needs_background": "light"
     },
     "output_type": "display_data"
    }
   ],
   "source": [
    "compare_consistency(result_df[result_df.pool_factor==2],pool_type=\"max\")"
   ]
  },
  {
   "cell_type": "code",
   "execution_count": 24,
   "metadata": {},
   "outputs": [
    {
     "data": {
      "image/png": "[encoded data removed]",
      "text/plain": [
       "<Figure size 432x288 with 3 Axes>"
      ]
     },
     "metadata": {
      "needs_background": "light"
     },
     "output_type": "display_data"
    }
   ],
   "source": [
    "compare_consistency(result_df[result_df.pool_factor==3],pool_type=\"max\")"
   ]
  },
  {
   "cell_type": "code",
   "execution_count": null,
   "metadata": {},
   "outputs": [],
   "source": []
  },
  {
   "cell_type": "code",
   "execution_count": null,
   "metadata": {},
   "outputs": [],
   "source": []
  },
  {
   "cell_type": "code",
   "execution_count": null,
   "metadata": {},
   "outputs": [],
   "source": []
  },
  {
   "cell_type": "code",
   "execution_count": null,
   "metadata": {},
   "outputs": [],
   "source": []
  },
  {
   "cell_type": "code",
   "execution_count": null,
   "metadata": {},
   "outputs": [],
   "source": []
  },
  {
   "cell_type": "code",
   "execution_count": null,
   "metadata": {},
   "outputs": [],
   "source": []
  },
  {
   "cell_type": "code",
   "execution_count": null,
   "metadata": {},
   "outputs": [],
   "source": []
  },
  {
   "cell_type": "code",
   "execution_count": null,
   "metadata": {},
   "outputs": [],
   "source": []
  },
  {
   "cell_type": "markdown",
   "metadata": {},
   "source": [
    "## Plot Blur Filter"
   ]
  },
  {
   "cell_type": "code",
   "execution_count": 25,
   "metadata": {},
   "outputs": [],
   "source": [
    "def Get_BlurFilter(filt_size):\n",
    "    if(filt_size==1):\n",
    "        return np.array([1.,])\n",
    "    elif(filt_size==2):\n",
    "        return np.array([1., 1.])\n",
    "    elif(filt_size==3):\n",
    "        return np.array([1., 2., 1.])\n",
    "    elif(filt_size==4):    \n",
    "        return np.array([1., 3., 3., 1.])\n",
    "    elif(filt_size==5):    \n",
    "        return np.array([1., 4., 6., 4., 1.])\n",
    "    elif(filt_size==6):    \n",
    "        return np.array([1., 5., 10., 10., 5., 1.])\n",
    "    elif(filt_size==7):    \n",
    "        return np.array([1., 6., 15., 20., 15., 6., 1.])"
   ]
  },
  {
   "cell_type": "code",
   "execution_count": 26,
   "metadata": {},
   "outputs": [
    {
     "name": "stdout",
     "output_type": "stream",
     "text": [
      "2\n",
      "3\n",
      "4\n",
      "5\n",
      "6\n",
      "7\n"
     ]
    },
    {
     "data": {
      "image/png": "[encoded data removed]",
      "text/plain": [
       "<Figure size 72x360 with 1 Axes>"
      ]
     },
     "metadata": {},
     "output_type": "display_data"
    },
    {
     "data": {
      "image/png": "[encoded data removed]",
      "text/plain": [
       "<Figure size 72x360 with 1 Axes>"
      ]
     },
     "metadata": {},
     "output_type": "display_data"
    },
    {
     "data": {
      "image/png": "[encoded data removed]",
      "text/plain": [
       "<Figure size 72x360 with 1 Axes>"
      ]
     },
     "metadata": {},
     "output_type": "display_data"
    },
    {
     "data": {
      "image/png": "[encoded data removed]",
      "text/plain": [
       "<Figure size 72x360 with 1 Axes>"
      ]
     },
     "metadata": {},
     "output_type": "display_data"
    },
    {
     "data": {
      "image/png": "[encoded data removed]",
      "text/plain": [
       "<Figure size 72x360 with 1 Axes>"
      ]
     },
     "metadata": {},
     "output_type": "display_data"
    },
    {
     "data": {
      "image/png": "[encoded data removed]",
      "text/plain": [
       "<Figure size 72x360 with 1 Axes>"
      ]
     },
     "metadata": {},
     "output_type": "display_data"
    }
   ],
   "source": [
    "blur_size = 5\n",
    "for blur_size in [i+2 for i in range(6)]:\n",
    "    print(blur_size)\n",
    "    plt.figure(figsize=(1,5))\n",
    "    _filter = np.expand_dims(Get_BlurFilter(blur_size),axis=0)\n",
    "\n",
    "    plt.xticks([])\n",
    "    plt.yticks([])\n",
    "    plt.imshow(_filter,cmap=\"Greys\")"
   ]
  },
  {
   "cell_type": "code",
   "execution_count": 27,
   "metadata": {},
   "outputs": [
    {
     "data": {
      "text/plain": [
       "([], <a list of 0 Text yticklabel objects>)"
      ]
     },
     "execution_count": 27,
     "metadata": {},
     "output_type": "execute_result"
    },
    {
     "data": {
      "image/png": "[encoded data removed]",
      "text/plain": [
       "<Figure size 72x72 with 1 Axes>"
      ]
     },
     "metadata": {},
     "output_type": "display_data"
    }
   ],
   "source": [
    "import matplotlib\n",
    "plt.figure(figsize=(1,1))\n",
    "cmap = matplotlib.cm.Greys\n",
    "norm = matplotlib.colors.Normalize(vmin=0, vmax=1)\n",
    "plt.imshow(np.expand_dims(np.array([.5,.5,.5,.5]),axis=0),cmap=cmap,norm=norm)\n",
    "#plt.colorbar()\n",
    "plt.xticks([])\n",
    "plt.yticks([])"
   ]
  },
  {
   "cell_type": "code",
   "execution_count": null,
   "metadata": {},
   "outputs": [],
   "source": []
  },
  {
   "cell_type": "code",
   "execution_count": null,
   "metadata": {},
   "outputs": [],
   "source": []
  },
  {
   "cell_type": "code",
   "execution_count": null,
   "metadata": {},
   "outputs": [],
   "source": []
  },
  {
   "cell_type": "code",
   "execution_count": null,
   "metadata": {},
   "outputs": [],
   "source": []
  },
  {
   "cell_type": "code",
   "execution_count": null,
   "metadata": {},
   "outputs": [],
   "source": []
  },
  {
   "cell_type": "code",
   "execution_count": null,
   "metadata": {},
   "outputs": [],
   "source": []
  },
  {
   "cell_type": "code",
   "execution_count": null,
   "metadata": {},
   "outputs": [],
   "source": []
  }
 ],
 "metadata": {
  "kernelspec": {
   "display_name": "Python 3",
   "language": "python",
   "name": "python3"
  },
  "language_info": {
   "codemirror_mode": {
    "name": "ipython",
    "version": 3
   },
   "file_extension": ".py",
   "mimetype": "text/x-python",
   "name": "python",
   "nbconvert_exporter": "python",
   "pygments_lexer": "ipython3",
   "version": "3.6.6"
  }
 },
 "nbformat": 4,
 "nbformat_minor": 2
}
