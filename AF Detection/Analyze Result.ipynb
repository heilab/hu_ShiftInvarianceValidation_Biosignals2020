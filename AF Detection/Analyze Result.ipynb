{
 "cells": [
  {
   "cell_type": "code",
   "execution_count": 159,
   "metadata": {},
   "outputs": [],
   "source": [
    "import os\n",
    "import wfdb\n",
    "import pickle\n",
    "import pandas as pd\n",
    "import numpy as np\n",
    "from keras.utils import to_categorical\n",
    "from tqdm import tqdm_notebook\n",
    "from sklearn.preprocessing import MinMaxScaler\n",
    "import matplotlib.pyplot as plt\n",
    "from keras.models import load_model\n",
    "import seaborn as sns\n",
    "np.set_printoptions(suppress=True)\n",
    "%matplotlib inline"
   ]
  },
  {
   "cell_type": "markdown",
   "metadata": {},
   "source": [
    "## Read result dataframe ( use Maxpooling )"
   ]
  },
  {
   "cell_type": "code",
   "execution_count": 160,
   "metadata": {},
   "outputs": [],
   "source": [
    "def drop_repeat(df,axis=\"RMSE\",repeat=5):\n",
    "    if \"accuracy\" in axis:\n",
    "        func = max\n",
    "    else:\n",
    "        func = min\n",
    "    num = int(len(df)/repeat)\n",
    "    result_df = []\n",
    "    for i in range(num):\n",
    "        part_df = df[i*repeat:(i+1)*repeat]\n",
    "        max_row = part_df[part_df[axis]==func(part_df[axis])]\n",
    "        index = np.array(max_row[\"idx\"])[0]\n",
    "        result_df.append(max_row[max_row.idx==index])\n",
    "    tmp = pd.concat(result_df,axis=0)\n",
    "    return tmp"
   ]
  },
  {
   "cell_type": "code",
   "execution_count": 161,
   "metadata": {},
   "outputs": [],
   "source": [
    "#result_df_max = drop_repeat(pd.read_csv(\"./results_max/result.csv\"),axis=\"accuracy\",repeat=10)\n",
    "result_df_max = pd.read_csv(\"./results_max/result.csv\")\n",
    "result_df_max = result_df_max.drop(['Unnamed: 0'],axis=1)\n",
    "#result_df_avg = drop_repeat(pd.read_csv(\"./results_avg/result.csv\"),axis=\"accuracy\",repeat=10)\n",
    "result_df_avg = pd.read_csv(\"./results_avg/result.csv\")\n",
    "result_df_avg = result_df_avg.drop(['Unnamed: 0'],axis=1)\n",
    "result_df = pd.concat([result_df_max,result_df_avg],axis=0)"
   ]
  },
  {
   "cell_type": "code",
   "execution_count": 162,
   "metadata": {},
   "outputs": [
    {
     "data": {
      "text/html": [
       "<div>\n",
       "<style scoped>\n",
       "    .dataframe tbody tr th:only-of-type {\n",
       "        vertical-align: middle;\n",
       "    }\n",
       "\n",
       "    .dataframe tbody tr th {\n",
       "        vertical-align: top;\n",
       "    }\n",
       "\n",
       "    .dataframe thead th {\n",
       "        text-align: right;\n",
       "    }\n",
       "</style>\n",
       "<table border=\"1\" class=\"dataframe\">\n",
       "  <thead>\n",
       "    <tr style=\"text-align: right;\">\n",
       "      <th></th>\n",
       "      <th>idx</th>\n",
       "      <th>cross_idx</th>\n",
       "      <th>repeat_idx</th>\n",
       "      <th>loss</th>\n",
       "      <th>accuracy</th>\n",
       "      <th>consistency</th>\n",
       "      <th>consistency_af</th>\n",
       "      <th>consistency_normal</th>\n",
       "      <th>pooling_type</th>\n",
       "    </tr>\n",
       "  </thead>\n",
       "  <tbody>\n",
       "    <tr>\n",
       "      <td>0</td>\n",
       "      <td>1</td>\n",
       "      <td>0</td>\n",
       "      <td>0</td>\n",
       "      <td>0.270494</td>\n",
       "      <td>0.917808</td>\n",
       "      <td>0.840680</td>\n",
       "      <td>0.841251</td>\n",
       "      <td>0.837530</td>\n",
       "      <td>MaxPooling</td>\n",
       "    </tr>\n",
       "    <tr>\n",
       "      <td>1</td>\n",
       "      <td>2</td>\n",
       "      <td>0</td>\n",
       "      <td>1</td>\n",
       "      <td>0.315981</td>\n",
       "      <td>0.938356</td>\n",
       "      <td>0.842844</td>\n",
       "      <td>0.830763</td>\n",
       "      <td>0.909375</td>\n",
       "      <td>MaxPooling</td>\n",
       "    </tr>\n",
       "    <tr>\n",
       "      <td>2</td>\n",
       "      <td>3</td>\n",
       "      <td>0</td>\n",
       "      <td>2</td>\n",
       "      <td>0.302306</td>\n",
       "      <td>0.924658</td>\n",
       "      <td>0.795159</td>\n",
       "      <td>0.765481</td>\n",
       "      <td>0.958600</td>\n",
       "      <td>MaxPooling</td>\n",
       "    </tr>\n",
       "    <tr>\n",
       "      <td>3</td>\n",
       "      <td>4</td>\n",
       "      <td>0</td>\n",
       "      <td>3</td>\n",
       "      <td>0.116997</td>\n",
       "      <td>0.965753</td>\n",
       "      <td>0.924658</td>\n",
       "      <td>0.914619</td>\n",
       "      <td>0.979940</td>\n",
       "      <td>MaxPooling</td>\n",
       "    </tr>\n",
       "    <tr>\n",
       "      <td>4</td>\n",
       "      <td>5</td>\n",
       "      <td>0</td>\n",
       "      <td>4</td>\n",
       "      <td>0.329616</td>\n",
       "      <td>0.952055</td>\n",
       "      <td>0.943067</td>\n",
       "      <td>0.952828</td>\n",
       "      <td>0.889316</td>\n",
       "      <td>MaxPooling</td>\n",
       "    </tr>\n",
       "    <tr>\n",
       "      <td>...</td>\n",
       "      <td>...</td>\n",
       "      <td>...</td>\n",
       "      <td>...</td>\n",
       "      <td>...</td>\n",
       "      <td>...</td>\n",
       "      <td>...</td>\n",
       "      <td>...</td>\n",
       "      <td>...</td>\n",
       "      <td>...</td>\n",
       "    </tr>\n",
       "    <tr>\n",
       "      <td>45</td>\n",
       "      <td>46</td>\n",
       "      <td>4</td>\n",
       "      <td>5</td>\n",
       "      <td>0.171820</td>\n",
       "      <td>0.960000</td>\n",
       "      <td>0.864420</td>\n",
       "      <td>0.839107</td>\n",
       "      <td>1.000000</td>\n",
       "      <td>AveragePooling</td>\n",
       "    </tr>\n",
       "    <tr>\n",
       "      <td>46</td>\n",
       "      <td>47</td>\n",
       "      <td>4</td>\n",
       "      <td>6</td>\n",
       "      <td>0.534027</td>\n",
       "      <td>0.566667</td>\n",
       "      <td>0.381618</td>\n",
       "      <td>0.266165</td>\n",
       "      <td>1.000000</td>\n",
       "      <td>AveragePooling</td>\n",
       "    </tr>\n",
       "    <tr>\n",
       "      <td>47</td>\n",
       "      <td>48</td>\n",
       "      <td>4</td>\n",
       "      <td>7</td>\n",
       "      <td>0.224378</td>\n",
       "      <td>0.893333</td>\n",
       "      <td>0.774142</td>\n",
       "      <td>0.731974</td>\n",
       "      <td>1.000000</td>\n",
       "      <td>AveragePooling</td>\n",
       "    </tr>\n",
       "    <tr>\n",
       "      <td>48</td>\n",
       "      <td>49</td>\n",
       "      <td>4</td>\n",
       "      <td>8</td>\n",
       "      <td>0.210914</td>\n",
       "      <td>0.933333</td>\n",
       "      <td>0.951911</td>\n",
       "      <td>0.942933</td>\n",
       "      <td>1.000000</td>\n",
       "      <td>AveragePooling</td>\n",
       "    </tr>\n",
       "    <tr>\n",
       "      <td>49</td>\n",
       "      <td>50</td>\n",
       "      <td>4</td>\n",
       "      <td>9</td>\n",
       "      <td>0.036546</td>\n",
       "      <td>0.993333</td>\n",
       "      <td>0.999913</td>\n",
       "      <td>0.999897</td>\n",
       "      <td>1.000000</td>\n",
       "      <td>AveragePooling</td>\n",
       "    </tr>\n",
       "  </tbody>\n",
       "</table>\n",
       "<p>100 rows × 9 columns</p>\n",
       "</div>"
      ],
      "text/plain": [
       "    idx  cross_idx  repeat_idx      loss  accuracy  consistency  \\\n",
       "0     1          0           0  0.270494  0.917808     0.840680   \n",
       "1     2          0           1  0.315981  0.938356     0.842844   \n",
       "2     3          0           2  0.302306  0.924658     0.795159   \n",
       "3     4          0           3  0.116997  0.965753     0.924658   \n",
       "4     5          0           4  0.329616  0.952055     0.943067   \n",
       "..  ...        ...         ...       ...       ...          ...   \n",
       "45   46          4           5  0.171820  0.960000     0.864420   \n",
       "46   47          4           6  0.534027  0.566667     0.381618   \n",
       "47   48          4           7  0.224378  0.893333     0.774142   \n",
       "48   49          4           8  0.210914  0.933333     0.951911   \n",
       "49   50          4           9  0.036546  0.993333     0.999913   \n",
       "\n",
       "    consistency_af  consistency_normal    pooling_type  \n",
       "0         0.841251            0.837530      MaxPooling  \n",
       "1         0.830763            0.909375      MaxPooling  \n",
       "2         0.765481            0.958600      MaxPooling  \n",
       "3         0.914619            0.979940      MaxPooling  \n",
       "4         0.952828            0.889316      MaxPooling  \n",
       "..             ...                 ...             ...  \n",
       "45        0.839107            1.000000  AveragePooling  \n",
       "46        0.266165            1.000000  AveragePooling  \n",
       "47        0.731974            1.000000  AveragePooling  \n",
       "48        0.942933            1.000000  AveragePooling  \n",
       "49        0.999897            1.000000  AveragePooling  \n",
       "\n",
       "[100 rows x 9 columns]"
      ]
     },
     "execution_count": 162,
     "metadata": {},
     "output_type": "execute_result"
    }
   ],
   "source": [
    "result_df"
   ]
  },
  {
   "cell_type": "code",
   "execution_count": 163,
   "metadata": {},
   "outputs": [
    {
     "data": {
      "text/plain": [
       "<matplotlib.axes._subplots.AxesSubplot at 0x145aa26a0>"
      ]
     },
     "execution_count": 163,
     "metadata": {},
     "output_type": "execute_result"
    },
    {
     "data": {
      "image/png": "[encoded data removed]",
      "text/plain": [
       "<Figure size 432x288 with 1 Axes>"
      ]
     },
     "metadata": {
      "needs_background": "light"
     },
     "output_type": "display_data"
    }
   ],
   "source": [
    "sns.scatterplot(data=result_df,x=\"accuracy\",y=\"consistency\",hue=\"pooling_type\")"
   ]
  },
  {
   "cell_type": "code",
   "execution_count": 164,
   "metadata": {},
   "outputs": [
    {
     "data": {
      "text/plain": [
       "(0.5, 1.0)"
      ]
     },
     "execution_count": 164,
     "metadata": {},
     "output_type": "execute_result"
    },
    {
     "data": {
      "image/png": "[encoded data removed]",
      "text/plain": [
       "<Figure size 432x288 with 1 Axes>"
      ]
     },
     "metadata": {
      "needs_background": "light"
     },
     "output_type": "display_data"
    }
   ],
   "source": [
    "sns.boxplot(data=result_df,x=\"pooling_type\",y=\"accuracy\")\n",
    "plt.ylim(0.5,1.0)"
   ]
  },
  {
   "cell_type": "code",
   "execution_count": 180,
   "metadata": {},
   "outputs": [
    {
     "data": {
      "image/png": "[encoded data removed]",
      "text/plain": [
       "<Figure size 432x288 with 1 Axes>"
      ]
     },
     "metadata": {
      "needs_background": "light"
     },
     "output_type": "display_data"
    },
    {
     "data": {
      "image/png": "[encoded data removed]",
      "text/plain": [
       "<Figure size 432x288 with 1 Axes>"
      ]
     },
     "metadata": {
      "needs_background": "light"
     },
     "output_type": "display_data"
    },
    {
     "data": {
      "image/png": "[encoded data removed]",
      "text/plain": [
       "<Figure size 432x288 with 1 Axes>"
      ]
     },
     "metadata": {
      "needs_background": "light"
     },
     "output_type": "display_data"
    }
   ],
   "source": [
    "#plt.figure(figsize=(12,4))\n",
    "sns.barplot(data=result_df,x=\"pooling_type\",y=\"consistency\",capsize=0.15)\n",
    "plt.ylabel(\"Consistency\",fontsize=20)\n",
    "plt.xlabel(\"Pooling Type\",fontsize=20)\n",
    "plt.xticks(range(2),[\"Max\",\"Average\"],fontsize=20)\n",
    "plt.ylim(0.3,1.0)\n",
    "plt.show()\n",
    "\n",
    "#plt.subplot(132)\n",
    "sns.barplot(data=result_df,x=\"pooling_type\",y=\"consistency_normal\",capsize=0.15)\n",
    "plt.ylabel(\"Consistency Normal\",fontsize=20)\n",
    "plt.xlabel(\"Pooling Type\",fontsize=20)\n",
    "plt.xticks(range(2),[\"Max\",\"Average\"],fontsize=20)\n",
    "plt.ylim(0.3,1.0)\n",
    "plt.show()\n",
    "\n",
    "\n",
    "#plt.subplot(133)\n",
    "sns.barplot(data=result_df,x=\"pooling_type\",y=\"consistency_af\",capsize=0.15)\n",
    "plt.ylabel(\"Consistency AF\",fontsize=20)\n",
    "plt.xlabel(\"Pooling Type\",fontsize=20)\n",
    "plt.xticks(range(2),[\"Max\",\"Average\"],fontsize=20)\n",
    "plt.ylim(0.3,1.0)\n",
    "plt.show()\n"
   ]
  },
  {
   "cell_type": "code",
   "execution_count": 187,
   "metadata": {},
   "outputs": [],
   "source": [
    "avg_point = [0,0]\n",
    "max_point = [0,0]\n",
    "\n",
    "avg_point_n = [0,0]\n",
    "max_point_n = [0,0]\n",
    "\n",
    "avg_point_a = [0,0]\n",
    "max_point_a = [0,0]\n",
    "\n",
    "avg_point[0] = np.mean(result_df[result_df.pooling_type==\"AveragePooling\"].accuracy)\n",
    "avg_point[1] = np.mean(result_df[result_df.pooling_type==\"AveragePooling\"].consistency)\n",
    "avg_point_n[0] = np.mean(result_df[result_df.pooling_type==\"AveragePooling\"].accuracy)\n",
    "avg_point_n[1] = np.mean(result_df[result_df.pooling_type==\"AveragePooling\"].consistency_normal)\n",
    "avg_point_a[0] = np.mean(result_df[result_df.pooling_type==\"AveragePooling\"].accuracy)\n",
    "avg_point_a[1] = np.mean(result_df[result_df.pooling_type==\"AveragePooling\"].consistency_af)\n",
    "\n",
    "\n",
    "max_point[0] = np.mean(result_df[result_df.pooling_type==\"MaxPooling\"].accuracy)\n",
    "max_point[1] = np.mean(result_df[result_df.pooling_type==\"MaxPooling\"].consistency)\n",
    "max_point_n[0] = np.mean(result_df[result_df.pooling_type==\"MaxPooling\"].accuracy)\n",
    "max_point_n[1] = np.mean(result_df[result_df.pooling_type==\"MaxPooling\"].consistency_normal)\n",
    "max_point_a[0] = np.mean(result_df[result_df.pooling_type==\"MaxPooling\"].accuracy)\n",
    "max_point_a[1] = np.mean(result_df[result_df.pooling_type==\"MaxPooling\"].consistency_af)"
   ]
  },
  {
   "cell_type": "code",
   "execution_count": 189,
   "metadata": {},
   "outputs": [
    {
     "data": {
      "text/plain": [
       "<matplotlib.legend.Legend at 0x1448b2240>"
      ]
     },
     "execution_count": 189,
     "metadata": {},
     "output_type": "execute_result"
    },
    {
     "data": {
      "image/png": "[encoded data removed]",
      "text/plain": [
       "<Figure size 432x360 with 1 Axes>"
      ]
     },
     "metadata": {
      "needs_background": "light"
     },
     "output_type": "display_data"
    }
   ],
   "source": [
    "plt.figure(figsize=(6,5))\n",
    "plt.scatter(x=avg_point[0],y=avg_point[1],marker=\"*\",c='',edgecolors='b',s=100,label=\"AvgPooling\")\n",
    "plt.scatter(x=max_point[0],y=max_point[1],marker=\"D\",c='',edgecolors='b',s=100,label=\"MaxPooling\")\n",
    "\n",
    "plt.scatter(x=avg_point_a[0],y=avg_point_a[1],marker=\"*\",c='',edgecolors='r',s=100,label=\"AvgPooling_af\")\n",
    "plt.scatter(x=max_point_a[0],y=max_point_a[1],marker=\"D\",c='',edgecolors='r',s=100,label=\"MaxPooling_af\")\n",
    "\n",
    "plt.scatter(x=avg_point_n[0],y=avg_point_n[1],marker=\"*\",c='',edgecolors='g',s=100,label=\"AvgPooling_normal\")\n",
    "plt.scatter(x=max_point_n[0],y=max_point_n[1],marker=\"D\",c='',edgecolors='g',s=100,label=\"MaxPooling_normal\")\n",
    "\n",
    "plt.xlabel(\"accuracy\")\n",
    "plt.ylabel(\"consistency\")\n",
    "plt.xlim(0.7,1.0)\n",
    "plt.ylim(0.7,1.0)\n",
    "plt.legend()"
   ]
  },
  {
   "cell_type": "code",
   "execution_count": null,
   "metadata": {},
   "outputs": [],
   "source": []
  },
  {
   "cell_type": "code",
   "execution_count": 148,
   "metadata": {},
   "outputs": [],
   "source": [
    "def Get_BlurFilter(filt_size):\n",
    "    if(filt_size==1):\n",
    "        return np.array([1.,])\n",
    "    elif(filt_size==2):\n",
    "        return np.array([1., 1.])\n",
    "    elif(filt_size==3):\n",
    "        return np.array([1., 2., 1.])\n",
    "    elif(filt_size==4):    \n",
    "        return np.array([1., 3., 3., 1.])\n",
    "    elif(filt_size==5):    \n",
    "        return np.array([1., 4., 6., 4., 1.])\n",
    "    elif(filt_size==6):    \n",
    "        return np.array([1., 5., 10., 10., 5., 1.])\n",
    "    elif(filt_size==7):    \n",
    "        return np.array([1., 6., 15., 20., 15., 6., 1.])"
   ]
  },
  {
   "cell_type": "code",
   "execution_count": 186,
   "metadata": {},
   "outputs": [
    {
     "data": {
      "image/png": "[encoded data removed]",
      "text/plain": [
       "<Figure size 72x360 with 1 Axes>"
      ]
     },
     "metadata": {},
     "output_type": "display_data"
    },
    {
     "data": {
      "image/png": "[encoded data removed]",
      "text/plain": [
       "<Figure size 72x360 with 1 Axes>"
      ]
     },
     "metadata": {},
     "output_type": "display_data"
    },
    {
     "data": {
      "image/png": "[encoded data removed]",
      "text/plain": [
       "<Figure size 72x360 with 1 Axes>"
      ]
     },
     "metadata": {},
     "output_type": "display_data"
    },
    {
     "data": {
      "image/png": "[encoded data removed]",
      "text/plain": [
       "<Figure size 72x360 with 1 Axes>"
      ]
     },
     "metadata": {},
     "output_type": "display_data"
    },
    {
     "data": {
      "image/png": "[encoded data removed]",
      "text/plain": [
       "<Figure size 72x360 with 1 Axes>"
      ]
     },
     "metadata": {},
     "output_type": "display_data"
    },
    {
     "data": {
      "image/png": "[encoded data removed]",
      "text/plain": [
       "<Figure size 72x360 with 1 Axes>"
      ]
     },
     "metadata": {},
     "output_type": "display_data"
    },
    {
     "data": {
      "image/png": "[encoded data removed]",
      "text/plain": [
       "<Figure size 72x360 with 1 Axes>"
      ]
     },
     "metadata": {},
     "output_type": "display_data"
    },
    {
     "data": {
      "image/png": "[encoded data removed]",
      "text/plain": [
       "<Figure size 72x360 with 1 Axes>"
      ]
     },
     "metadata": {},
     "output_type": "display_data"
    },
    {
     "data": {
      "image/png": "[encoded data removed]",
      "text/plain": [
       "<Figure size 72x360 with 1 Axes>"
      ]
     },
     "metadata": {},
     "output_type": "display_data"
    },
    {
     "data": {
      "image/png": "[encoded data removed]",
      "text/plain": [
       "<Figure size 72x360 with 1 Axes>"
      ]
     },
     "metadata": {},
     "output_type": "display_data"
    },
    {
     "data": {
      "image/png": "[encoded data removed]",
      "text/plain": [
       "<Figure size 72x360 with 1 Axes>"
      ]
     },
     "metadata": {},
     "output_type": "display_data"
    },
    {
     "data": {
      "image/png": "[encoded data removed]",
      "text/plain": [
       "<Figure size 72x360 with 1 Axes>"
      ]
     },
     "metadata": {},
     "output_type": "display_data"
    },
    {
     "data": {
      "image/png": "[encoded data removed]",
      "text/plain": [
       "<Figure size 72x360 with 1 Axes>"
      ]
     },
     "metadata": {},
     "output_type": "display_data"
    },
    {
     "data": {
      "image/png": "[encoded data removed]",
      "text/plain": [
       "<Figure size 72x360 with 1 Axes>"
      ]
     },
     "metadata": {},
     "output_type": "display_data"
    },
    {
     "data": {
      "image/png": "[encoded data removed]",
      "text/plain": [
       "<Figure size 72x360 with 1 Axes>"
      ]
     },
     "metadata": {},
     "output_type": "display_data"
    },
    {
     "data": {
      "image/png": "[encoded data removed]",
      "text/plain": [
       "<Figure size 72x360 with 1 Axes>"
      ]
     },
     "metadata": {},
     "output_type": "display_data"
    },
    {
     "data": {
      "image/png": "[encoded data removed]",
      "text/plain": [
       "<Figure size 72x360 with 1 Axes>"
      ]
     },
     "metadata": {},
     "output_type": "display_data"
    },
    {
     "data": {
      "image/png": "[encoded data removed]",
      "text/plain": [
       "<Figure size 72x360 with 1 Axes>"
      ]
     },
     "metadata": {},
     "output_type": "display_data"
    },
    {
     "data": {
      "image/png": "[encoded data removed]",
      "text/plain": [
       "<Figure size 72x360 with 1 Axes>"
      ]
     },
     "metadata": {},
     "output_type": "display_data"
    },
    {
     "data": {
      "image/png": "[encoded data removed]",
      "text/plain": [
       "<Figure size 72x360 with 1 Axes>"
      ]
     },
     "metadata": {},
     "output_type": "display_data"
    },
    {
     "data": {
      "image/png": "[encoded data removed]",
      "text/plain": [
       "<Figure size 72x360 with 1 Axes>"
      ]
     },
     "metadata": {},
     "output_type": "display_data"
    },
    {
     "data": {
      "image/png": "[encoded data removed]",
      "text/plain": [
       "<Figure size 72x360 with 1 Axes>"
      ]
     },
     "metadata": {},
     "output_type": "display_data"
    },
    {
     "data": {
      "image/png": "[encoded data removed]",
      "text/plain": [
       "<Figure size 72x360 with 1 Axes>"
      ]
     },
     "metadata": {},
     "output_type": "display_data"
    },
    {
     "data": {
      "image/png": "[encoded data removed]",
      "text/plain": [
       "<Figure size 72x360 with 1 Axes>"
      ]
     },
     "metadata": {},
     "output_type": "display_data"
    },
    {
     "data": {
      "image/png": "[encoded data removed]",
      "text/plain": [
       "<Figure size 72x360 with 1 Axes>"
      ]
     },
     "metadata": {},
     "output_type": "display_data"
    },
    {
     "data": {
      "image/png": "[encoded data removed]",
      "text/plain": [
       "<Figure size 72x360 with 1 Axes>"
      ]
     },
     "metadata": {},
     "output_type": "display_data"
    },
    {
     "data": {
      "image/png": "[encoded data removed]",
      "text/plain": [
       "<Figure size 72x360 with 1 Axes>"
      ]
     },
     "metadata": {},
     "output_type": "display_data"
    }
   ],
   "source": [
    "blur_size = 5\n",
    "for blur_size in [i+2 for i in range(6)]:\n",
    "    plt.figure(figsize=(1,5))\n",
    "    _filter = np.expand_dims(Get_BlurFilter(blur_size),axis=0)\n",
    "    plt.imshow(_filter,cmap=\"Greys\")\n",
    "    plt.xticks([])\n",
    "    plt.yticks([])\n",
    "    plt.show(())"
   ]
  },
  {
   "cell_type": "code",
   "execution_count": null,
   "metadata": {},
   "outputs": [],
   "source": []
  },
  {
   "cell_type": "code",
   "execution_count": null,
   "metadata": {},
   "outputs": [],
   "source": []
  },
  {
   "cell_type": "code",
   "execution_count": null,
   "metadata": {},
   "outputs": [],
   "source": []
  },
  {
   "cell_type": "code",
   "execution_count": null,
   "metadata": {},
   "outputs": [],
   "source": []
  },
  {
   "cell_type": "code",
   "execution_count": null,
   "metadata": {},
   "outputs": [],
   "source": []
  },
  {
   "cell_type": "code",
   "execution_count": null,
   "metadata": {},
   "outputs": [],
   "source": []
  },
  {
   "cell_type": "code",
   "execution_count": null,
   "metadata": {},
   "outputs": [],
   "source": []
  },
  {
   "cell_type": "code",
   "execution_count": null,
   "metadata": {},
   "outputs": [],
   "source": []
  }
 ],
 "metadata": {
  "kernelspec": {
   "display_name": "Python 3",
   "language": "python",
   "name": "python3"
  },
  "language_info": {
   "codemirror_mode": {
    "name": "ipython",
    "version": 3
   },
   "file_extension": ".py",
   "mimetype": "text/x-python",
   "name": "python",
   "nbconvert_exporter": "python",
   "pygments_lexer": "ipython3",
   "version": "3.6.6"
  }
 },
 "nbformat": 4,
 "nbformat_minor": 2
}
