{
 "cells": [
  {
   "cell_type": "code",
   "execution_count": 43,
   "metadata": {},
   "outputs": [],
   "source": [
    "import os\n",
    "import wfdb\n",
    "import pickle\n",
    "import pandas as pd\n",
    "import numpy as np\n",
    "from keras.utils import to_categorical\n",
    "from tqdm import tqdm_notebook\n",
    "from sklearn.preprocessing import MinMaxScaler\n",
    "import matplotlib.pyplot as plt\n",
    "from keras.models import load_model\n",
    "import seaborn as sns\n",
    "np.set_printoptions(suppress=True)\n",
    "%matplotlib inline"
   ]
  },
  {
   "cell_type": "markdown",
   "metadata": {},
   "source": [
    "## Read result dataframe"
   ]
  },
  {
   "cell_type": "code",
   "execution_count": 44,
   "metadata": {},
   "outputs": [],
   "source": [
    "def drop_repeat(df,axis=\"RMSE\",repeat=5):\n",
    "    if \"accuracy\" in axis:\n",
    "        func = max\n",
    "    else:\n",
    "        func = min\n",
    "    num = int(len(df)/repeat)\n",
    "    result_df = []\n",
    "    for i in range(num):\n",
    "        part_df = df[i*repeat:(i+1)*repeat]\n",
    "        max_row = part_df[part_df[axis]==func(part_df[axis])]\n",
    "        index = np.array(max_row[\"idx\"])[0]\n",
    "        result_df.append(max_row[max_row.idx==index])\n",
    "    tmp = pd.concat(result_df,axis=0)\n",
    "    return tmp"
   ]
  },
  {
   "cell_type": "code",
   "execution_count": 45,
   "metadata": {},
   "outputs": [],
   "source": [
    "result_df = drop_repeat(pd.read_csv(\"./results/result.csv\"),axis=\"accuracy\",repeat=10)"
   ]
  },
  {
   "cell_type": "code",
   "execution_count": 46,
   "metadata": {},
   "outputs": [
    {
     "data": {
      "text/html": [
       "<div>\n",
       "<style scoped>\n",
       "    .dataframe tbody tr th:only-of-type {\n",
       "        vertical-align: middle;\n",
       "    }\n",
       "\n",
       "    .dataframe tbody tr th {\n",
       "        vertical-align: top;\n",
       "    }\n",
       "\n",
       "    .dataframe thead th {\n",
       "        text-align: right;\n",
       "    }\n",
       "</style>\n",
       "<table border=\"1\" class=\"dataframe\">\n",
       "  <thead>\n",
       "    <tr style=\"text-align: right;\">\n",
       "      <th></th>\n",
       "      <th>accuracy</th>\n",
       "      <th>cross_idx</th>\n",
       "      <th>idx</th>\n",
       "      <th>loss</th>\n",
       "      <th>repeat_idx</th>\n",
       "    </tr>\n",
       "  </thead>\n",
       "  <tbody>\n",
       "    <tr>\n",
       "      <td>7</td>\n",
       "      <td>0.993151</td>\n",
       "      <td>0</td>\n",
       "      <td>8</td>\n",
       "      <td>0.152202</td>\n",
       "      <td>7</td>\n",
       "    </tr>\n",
       "    <tr>\n",
       "      <td>11</td>\n",
       "      <td>0.948052</td>\n",
       "      <td>1</td>\n",
       "      <td>12</td>\n",
       "      <td>0.162022</td>\n",
       "      <td>1</td>\n",
       "    </tr>\n",
       "    <tr>\n",
       "      <td>20</td>\n",
       "      <td>1.000000</td>\n",
       "      <td>2</td>\n",
       "      <td>21</td>\n",
       "      <td>0.028639</td>\n",
       "      <td>0</td>\n",
       "    </tr>\n",
       "    <tr>\n",
       "      <td>32</td>\n",
       "      <td>0.939189</td>\n",
       "      <td>3</td>\n",
       "      <td>33</td>\n",
       "      <td>0.294735</td>\n",
       "      <td>2</td>\n",
       "    </tr>\n",
       "    <tr>\n",
       "      <td>41</td>\n",
       "      <td>1.000000</td>\n",
       "      <td>4</td>\n",
       "      <td>42</td>\n",
       "      <td>0.007571</td>\n",
       "      <td>1</td>\n",
       "    </tr>\n",
       "  </tbody>\n",
       "</table>\n",
       "</div>"
      ],
      "text/plain": [
       "    accuracy  cross_idx  idx      loss  repeat_idx\n",
       "7   0.993151          0    8  0.152202           7\n",
       "11  0.948052          1   12  0.162022           1\n",
       "20  1.000000          2   21  0.028639           0\n",
       "32  0.939189          3   33  0.294735           2\n",
       "41  1.000000          4   42  0.007571           1"
      ]
     },
     "execution_count": 46,
     "metadata": {},
     "output_type": "execute_result"
    }
   ],
   "source": [
    "result_df"
   ]
  },
  {
   "cell_type": "code",
   "execution_count": 47,
   "metadata": {},
   "outputs": [
    {
     "data": {
      "text/plain": [
       "0.9760783639449716"
      ]
     },
     "execution_count": 47,
     "metadata": {},
     "output_type": "execute_result"
    }
   ],
   "source": [
    "np.mean(result_df.accuracy)"
   ]
  },
  {
   "cell_type": "code",
   "execution_count": 56,
   "metadata": {},
   "outputs": [
    {
     "data": {
      "text/plain": [
       "(0.8, 1.0)"
      ]
     },
     "execution_count": 56,
     "metadata": {},
     "output_type": "execute_result"
    },
    {
     "data": {
      "image/png": "[encoded data removed]",
      "text/plain": [
       "<Figure size 432x288 with 1 Axes>"
      ]
     },
     "metadata": {
      "needs_background": "light"
     },
     "output_type": "display_data"
    }
   ],
   "source": [
    "sns.boxplot(data=result_df,y=\"accuracy\")\n",
    "plt.ylim(0.8,1.0)"
   ]
  },
  {
   "cell_type": "markdown",
   "metadata": {},
   "source": [
    "## check model accuracy"
   ]
  },
  {
   "cell_type": "code",
   "execution_count": 24,
   "metadata": {},
   "outputs": [],
   "source": [
    "def load_dataset(key,save_dir=\"./dataset_RRI/\"):\n",
    "    load_path = os.path.join(save_dir,key+\".pickle\")\n",
    "    with open(load_path,\"rb\") as f:\n",
    "        dataset=pickle.load(f)\n",
    "    return dataset[\"X\"],dataset[\"y\"]"
   ]
  },
  {
   "cell_type": "code",
   "execution_count": 25,
   "metadata": {},
   "outputs": [],
   "source": [
    "def load_cross_dataset(cross_idx,save_dir=\"./dataset_RRI/\"):\n",
    "    load_path = os.path.join(save_dir,\"dataset-cross\"+str(cross_idx)+\".pickle\")\n",
    "    with open(load_path,\"rb\") as f:\n",
    "        dataset=pickle.load(f)\n",
    "    X_train = dataset[\"X_train\"]\n",
    "    y_train = dataset[\"y_trian\"]\n",
    "    X_test = dataset[\"X_test\"]\n",
    "    y_test = dataset[\"y_test\"]\n",
    "    return X_train,y_train,X_test,y_test"
   ]
  },
  {
   "cell_type": "code",
   "execution_count": 40,
   "metadata": {},
   "outputs": [],
   "source": [
    "idx = 42\n",
    "cross_idx = 4\n",
    "model = load_model(\"./results/models/\"+str(idx)+\"-model.h5\")\n",
    "X_train,y_train,X_test,y_test = load_cross_dataset(cross_idx)"
   ]
  },
  {
   "cell_type": "code",
   "execution_count": 41,
   "metadata": {},
   "outputs": [
    {
     "name": "stdout",
     "output_type": "stream",
     "text": [
      "150/150 [==============================] - 0s 3ms/step\n"
     ]
    },
    {
     "data": {
      "text/plain": [
       "[0.007570722152789434, 1.0]"
      ]
     },
     "execution_count": 41,
     "metadata": {},
     "output_type": "execute_result"
    }
   ],
   "source": [
    "model.evaluate(X_test,y_test)"
   ]
  },
  {
   "cell_type": "code",
   "execution_count": 42,
   "metadata": {},
   "outputs": [
    {
     "name": "stdout",
     "output_type": "stream",
     "text": [
      "1406/1406 [==============================] - 0s 121us/step\n"
     ]
    },
    {
     "data": {
      "text/plain": [
       "[0.25052181405583623, 0.8933143615722656]"
      ]
     },
     "execution_count": 42,
     "metadata": {},
     "output_type": "execute_result"
    }
   ],
   "source": [
    "model.evaluate(X_train,y_train)"
   ]
  },
  {
   "cell_type": "code",
   "execution_count": null,
   "metadata": {},
   "outputs": [],
   "source": []
  }
 ],
 "metadata": {
  "kernelspec": {
   "display_name": "Python 3",
   "language": "python",
   "name": "python3"
  },
  "language_info": {
   "codemirror_mode": {
    "name": "ipython",
    "version": 3
   },
   "file_extension": ".py",
   "mimetype": "text/x-python",
   "name": "python",
   "nbconvert_exporter": "python",
   "pygments_lexer": "ipython3",
   "version": "3.6.6"
  }
 },
 "nbformat": 4,
 "nbformat_minor": 2
}
