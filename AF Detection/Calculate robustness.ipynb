{
 "cells": [
  {
   "cell_type": "code",
   "execution_count": 1,
   "metadata": {},
   "outputs": [
    {
     "name": "stderr",
     "output_type": "stream",
     "text": [
      "Using TensorFlow backend.\n",
      "/Users/hu/.pyenv/versions/3.6.6/envs/Biosignals/lib/python3.6/site-packages/pandas/compat/__init__.py:84: UserWarning: Could not import the lzma module. Your installed Python is incomplete. Attempting to use lzma compression will result in a RuntimeError.\n",
      "  warnings.warn(msg)\n",
      "/Users/hu/.pyenv/versions/3.6.6/envs/Biosignals/lib/python3.6/site-packages/pandas/compat/__init__.py:84: UserWarning: Could not import the lzma module. Your installed Python is incomplete. Attempting to use lzma compression will result in a RuntimeError.\n",
      "  warnings.warn(msg)\n"
     ]
    }
   ],
   "source": [
    "import os\n",
    "from tqdm import tqdm_notebook\n",
    "from utils import *\n",
    "from utils import BlurPooling1D,excute_command"
   ]
  },
  {
   "cell_type": "code",
   "execution_count": 9,
   "metadata": {},
   "outputs": [],
   "source": [
    "new_file_name = \"new_rseult_2.csv\""
   ]
  },
  {
   "cell_type": "markdown",
   "metadata": {},
   "source": [
    "## pool1"
   ]
  },
  {
   "cell_type": "code",
   "execution_count": 11,
   "metadata": {},
   "outputs": [],
   "source": [
    "result_root_roots = [i for i in os.listdir(\".\") if \"Result_\" in i]\n",
    "result_roots = []\n",
    "for result_root_root in result_root_roots:\n",
    "    result_root_list = [os.path.join(result_root_root,i) for i in os.listdir(result_root_root) if \"result\" in i]\n",
    "    for result_root in result_root_list:\n",
    "        if (\"maxblur-1\" in result_root) or (\"maxblur-2\" in result_root):continue\n",
    "        if os.path.exists(os.path.join(result_root,new_file_name)):continue\n",
    "        result_roots.append(result_root)\n",
    "result_roots.sort()"
   ]
  },
  {
   "cell_type": "code",
   "execution_count": 12,
   "metadata": {},
   "outputs": [
    {
     "data": {
      "text/plain": [
       "['Result_CNN_pool1/results_maxblur-3',\n",
       " 'Result_CNN_pool1/results_maxblur-4',\n",
       " 'Result_CNN_pool1/results_maxblur-5',\n",
       " 'Result_CNN_pool1/results_maxblur-6',\n",
       " 'Result_CNN_pool1/results_maxblur-7',\n",
       " 'Result_CNN_pool2/results_max',\n",
       " 'Result_CNN_pool2/results_maxblur-',\n",
       " 'Result_CNN_pool2/results_maxblur-3',\n",
       " 'Result_CNN_pool2/results_maxblur-4',\n",
       " 'Result_CNN_pool2/results_maxblur-5',\n",
       " 'Result_CNN_pool2/results_maxblur-6',\n",
       " 'Result_CNN_pool2/results_maxblur-7',\n",
       " 'Result_CNN_pool3/results_max',\n",
       " 'Result_CNN_pool3/results_maxblur-',\n",
       " 'Result_CNN_pool3/results_maxblur-3',\n",
       " 'Result_CNN_pool3/results_maxblur-4',\n",
       " 'Result_CNN_pool3/results_maxblur-5',\n",
       " 'Result_CNN_pool3/results_maxblur-6',\n",
       " 'Result_CNN_pool3/results_maxblur-7']"
      ]
     },
     "execution_count": 12,
     "metadata": {},
     "output_type": "execute_result"
    }
   ],
   "source": [
    "result_roots"
   ]
  },
  {
   "cell_type": "code",
   "execution_count": 13,
   "metadata": {},
   "outputs": [
    {
     "data": {
      "application/vnd.jupyter.widget-view+json": {
       "model_id": "8a0823c2924a418990243f90ad2b34cf",
       "version_major": 2,
       "version_minor": 0
      },
      "text/plain": [
       "HBox(children=(IntProgress(value=0, max=19), HTML(value='')))"
      ]
     },
     "metadata": {},
     "output_type": "display_data"
    },
    {
     "name": "stdout",
     "output_type": "stream",
     "text": [
      "\n"
     ]
    }
   ],
   "source": [
    "for result_root in tqdm_notebook(result_roots):\n",
    "    if \"results_maxblur-1\" in result_root or \"results_maxblur-2\" in result_root :continue\n",
    "    if os.path.exists(os.path.join(result_root,new_file_name)):continue\n",
    "    excute_command(\"calc_robustness.py\",[result_root])"
   ]
  },
  {
   "cell_type": "code",
   "execution_count": null,
   "metadata": {},
   "outputs": [],
   "source": []
  },
  {
   "cell_type": "code",
   "execution_count": null,
   "metadata": {},
   "outputs": [],
   "source": []
  },
  {
   "cell_type": "code",
   "execution_count": null,
   "metadata": {},
   "outputs": [],
   "source": []
  }
 ],
 "metadata": {
  "kernelspec": {
   "display_name": "Python 3",
   "language": "python",
   "name": "python3"
  },
  "language_info": {
   "codemirror_mode": {
    "name": "ipython",
    "version": 3
   },
   "file_extension": ".py",
   "mimetype": "text/x-python",
   "name": "python",
   "nbconvert_exporter": "python",
   "pygments_lexer": "ipython3",
   "version": "3.6.6"
  }
 },
 "nbformat": 4,
 "nbformat_minor": 2
}
