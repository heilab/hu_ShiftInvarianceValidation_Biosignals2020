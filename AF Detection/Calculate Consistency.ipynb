{
 "cells": [
  {
   "cell_type": "code",
   "execution_count": 2,
   "metadata": {},
   "outputs": [
    {
     "name": "stderr",
     "output_type": "stream",
     "text": [
      "Using TensorFlow backend.\n",
      "/Users/hu/.pyenv/versions/3.6.6/envs/Biosignals/lib/python3.6/site-packages/pandas/compat/__init__.py:84: UserWarning: Could not import the lzma module. Your installed Python is incomplete. Attempting to use lzma compression will result in a RuntimeError.\n",
      "  warnings.warn(msg)\n",
      "/Users/hu/.pyenv/versions/3.6.6/envs/Biosignals/lib/python3.6/site-packages/pandas/compat/__init__.py:84: UserWarning: Could not import the lzma module. Your installed Python is incomplete. Attempting to use lzma compression will result in a RuntimeError.\n",
      "  warnings.warn(msg)\n"
     ]
    }
   ],
   "source": [
    "import os\n",
    "from tqdm import tqdm_notebook\n",
    "from utils import *\n",
    "from calc_consistency import *\n",
    "from utils import BlurPooling1D,excute_command\n",
    "from keras.utils import CustomObjectScope"
   ]
  },
  {
   "cell_type": "code",
   "execution_count": 3,
   "metadata": {},
   "outputs": [],
   "source": [
    "new_file_name = \"new_result.csv\""
   ]
  },
  {
   "cell_type": "markdown",
   "metadata": {},
   "source": [
    "## Pool1"
   ]
  },
  {
   "cell_type": "code",
   "execution_count": 3,
   "metadata": {},
   "outputs": [
    {
     "data": {
      "application/vnd.jupyter.widget-view+json": {
       "model_id": "1f791c050f164505942aa0286430b238",
       "version_major": 2,
       "version_minor": 0
      },
      "text/plain": [
       "HBox(children=(IntProgress(value=0, max=9), HTML(value='')))"
      ]
     },
     "metadata": {},
     "output_type": "display_data"
    },
    {
     "name": "stdout",
     "output_type": "stream",
     "text": [
      "\n"
     ]
    }
   ],
   "source": [
    "result_roots = [\"./Result_CNN_pool1/results_max/\",\n",
    "               \"./Result_CNN_pool1/results_maxblur-/\",\n",
    "               \"./Result_CNN_pool1/results_maxblur-1/\",\n",
    "               \"./Result_CNN_pool1/results_maxblur-2/\",\n",
    "               \"./Result_CNN_pool1/results_maxblur-3/\",\n",
    "               \"./Result_CNN_pool1/results_maxblur-4/\",\n",
    "               \"./Result_CNN_pool1/results_maxblur-5/\",\n",
    "               \"./Result_CNN_pool1/results_maxblur-6/\",\n",
    "               \"./Result_CNN_pool1/results_maxblur-7/\"]\n",
    "\n",
    "for result_root in tqdm_notebook(result_roots):\n",
    "    for cross_idx in range(5):\n",
    "        excute_command(\"calc_consistency.py\",[cross_idx,result_root])\n",
    "\n",
    "#new_result_file = os.path.join(result_root,\"new_result.csv\")\n",
    "#result_df = pd.read_csv(new_result_file)\n",
    "#result_df = result_df.drop(\"_\",axis=1)\n",
    "#result_df"
   ]
  },
  {
   "cell_type": "markdown",
   "metadata": {},
   "source": [
    "## Pool2"
   ]
  },
  {
   "cell_type": "code",
   "execution_count": 4,
   "metadata": {},
   "outputs": [
    {
     "data": {
      "application/vnd.jupyter.widget-view+json": {
       "model_id": "d1f8f24ddc1e4a9086fd30bc0a65b4f1",
       "version_major": 2,
       "version_minor": 0
      },
      "text/plain": [
       "HBox(children=(IntProgress(value=0, max=9), HTML(value='')))"
      ]
     },
     "metadata": {},
     "output_type": "display_data"
    },
    {
     "name": "stdout",
     "output_type": "stream",
     "text": [
      "\n"
     ]
    }
   ],
   "source": [
    "result_roots = [\"./Result_CNN_pool2/results_max/\",\n",
    "               \"./Result_CNN_pool2/results_maxblur-/\",\n",
    "               \"./Result_CNN_pool2/results_maxblur-1/\",\n",
    "               \"./Result_CNN_pool2/results_maxblur-2/\",\n",
    "               \"./Result_CNN_pool2/results_maxblur-3/\",\n",
    "               \"./Result_CNN_pool2/results_maxblur-4/\",\n",
    "               \"./Result_CNN_pool2/results_maxblur-5/\",\n",
    "               \"./Result_CNN_pool2/results_maxblur-6/\",\n",
    "               \"./Result_CNN_pool2/results_maxblur-7/\"]\n",
    "\n",
    "for result_root in tqdm_notebook(result_roots):\n",
    "    for cross_idx in range(5):\n",
    "        excute_command(\"calc_consistency.py\",[cross_idx,result_root])\n",
    "\n",
    "#new_result_file = os.path.join(result_root,\"new_result.csv\")\n",
    "#result_df = pd.read_csv(new_result_file)\n",
    "#result_df = result_df.drop(\"_\",axis=1)\n",
    "#result_df"
   ]
  },
  {
   "cell_type": "markdown",
   "metadata": {},
   "source": [
    "## Pool3 "
   ]
  },
  {
   "cell_type": "code",
   "execution_count": 5,
   "metadata": {},
   "outputs": [
    {
     "data": {
      "application/vnd.jupyter.widget-view+json": {
       "model_id": "3c2ac7be75da4a9aa627983f21a23eab",
       "version_major": 2,
       "version_minor": 0
      },
      "text/plain": [
       "HBox(children=(IntProgress(value=0, max=9), HTML(value='')))"
      ]
     },
     "metadata": {},
     "output_type": "display_data"
    },
    {
     "name": "stdout",
     "output_type": "stream",
     "text": [
      "\n"
     ]
    }
   ],
   "source": [
    "result_roots = [\"./Result_CNN_pool3/results_max/\",\n",
    "               \"./Result_CNN_pool3/results_maxblur-/\",\n",
    "               \"./Result_CNN_pool3/results_maxblur-1/\",\n",
    "               \"./Result_CNN_pool3/results_maxblur-2/\",\n",
    "               \"./Result_CNN_pool3/results_maxblur-3/\",\n",
    "               \"./Result_CNN_pool3/results_maxblur-4/\",\n",
    "               \"./Result_CNN_pool3/results_maxblur-5/\",\n",
    "               \"./Result_CNN_pool3/results_maxblur-6/\",\n",
    "               \"./Result_CNN_pool3/results_maxblur-7/\"]\n",
    "\n",
    "for result_root in tqdm_notebook(result_roots):\n",
    "    for cross_idx in range(5):\n",
    "        excute_command(\"calc_consistency.py\",[cross_idx,result_root])\n",
    "\n",
    "#new_result_file = os.path.join(result_root,\"new_result.csv\")\n",
    "#result_df = pd.read_csv(new_result_file)\n",
    "#result_df = result_df.drop(\"_\",axis=1)\n",
    "#result_df"
   ]
  },
  {
   "cell_type": "markdown",
   "metadata": {},
   "source": [
    "## For augment"
   ]
  },
  {
   "cell_type": "code",
   "execution_count": 6,
   "metadata": {},
   "outputs": [
    {
     "data": {
      "application/vnd.jupyter.widget-view+json": {
       "model_id": "e95e6b85e50e4b56856fb1e9b7c017a8",
       "version_major": 2,
       "version_minor": 0
      },
      "text/plain": [
       "HBox(children=(IntProgress(value=0, max=7), HTML(value='')))"
      ]
     },
     "metadata": {},
     "output_type": "display_data"
    },
    {
     "name": "stdout",
     "output_type": "stream",
     "text": [
      "\n"
     ]
    }
   ],
   "source": [
    "result_roots = [\"./Result_CNN_aug_pool1/results_max/\",\n",
    "               \"./Result_CNN_aug_pool1/results_maxblur-/\",\n",
    "               \"./Result_CNN_aug_pool1/results_maxblur-3/\",\n",
    "               \"./Result_CNN_aug_pool1/results_maxblur-4/\",\n",
    "               \"./Result_CNN_aug_pool1/results_maxblur-5/\",\n",
    "               \"./Result_CNN_aug_pool1/results_maxblur-6/\",\n",
    "               \"./Result_CNN_aug_pool1/results_maxblur-7/\"]\n",
    "\n",
    "for result_root in tqdm_notebook(result_roots):\n",
    "    for cross_idx in range(5):\n",
    "        excute_command(\"calc_consistency.py\",[cross_idx,result_root])\n"
   ]
  },
  {
   "cell_type": "code",
   "execution_count": 7,
   "metadata": {},
   "outputs": [
    {
     "data": {
      "application/vnd.jupyter.widget-view+json": {
       "model_id": "9d7196e4d7e5410d896d8627c9af5590",
       "version_major": 2,
       "version_minor": 0
      },
      "text/plain": [
       "HBox(children=(IntProgress(value=0, max=7), HTML(value='')))"
      ]
     },
     "metadata": {},
     "output_type": "display_data"
    },
    {
     "name": "stdout",
     "output_type": "stream",
     "text": [
      "\n"
     ]
    }
   ],
   "source": [
    "result_roots = [\"./Result_CNN_aug_pool2/results_max/\",\n",
    "               \"./Result_CNN_aug_pool2/results_maxblur-/\",\n",
    "               \"./Result_CNN_aug_pool2/results_maxblur-3/\",\n",
    "               \"./Result_CNN_aug_pool2/results_maxblur-4/\",\n",
    "               \"./Result_CNN_aug_pool2/results_maxblur-5/\",\n",
    "               \"./Result_CNN_aug_pool2/results_maxblur-6/\",\n",
    "               \"./Result_CNN_aug_pool2/results_maxblur-7/\"]\n",
    "\n",
    "for result_root in tqdm_notebook(result_roots):\n",
    "    for cross_idx in range(5):\n",
    "        excute_command(\"calc_consistency.py\",[cross_idx,result_root])\n"
   ]
  },
  {
   "cell_type": "code",
   "execution_count": 8,
   "metadata": {},
   "outputs": [
    {
     "data": {
      "application/vnd.jupyter.widget-view+json": {
       "model_id": "dbe3462cf19d4adab0960e24effedb9f",
       "version_major": 2,
       "version_minor": 0
      },
      "text/plain": [
       "HBox(children=(IntProgress(value=0, max=7), HTML(value='')))"
      ]
     },
     "metadata": {},
     "output_type": "display_data"
    },
    {
     "name": "stdout",
     "output_type": "stream",
     "text": [
      "\n"
     ]
    }
   ],
   "source": [
    "result_roots = [\"./Result_CNN_aug_pool3/results_max/\",\n",
    "               \"./Result_CNN_aug_pool3/results_maxblur-/\",\n",
    "               \"./Result_CNN_aug_pool3/results_maxblur-3/\",\n",
    "               \"./Result_CNN_aug_pool3/results_maxblur-4/\",\n",
    "               \"./Result_CNN_aug_pool3/results_maxblur-5/\",\n",
    "               \"./Result_CNN_aug_pool3/results_maxblur-6/\",\n",
    "               \"./Result_CNN_aug_pool3/results_maxblur-7/\"]\n",
    "\n",
    "for result_root in tqdm_notebook(result_roots):\n",
    "    for cross_idx in range(5):\n",
    "        excute_command(\"calc_consistency.py\",[cross_idx,result_root])\n"
   ]
  },
  {
   "cell_type": "code",
   "execution_count": null,
   "metadata": {},
   "outputs": [],
   "source": []
  },
  {
   "cell_type": "code",
   "execution_count": null,
   "metadata": {},
   "outputs": [],
   "source": []
  },
  {
   "cell_type": "code",
   "execution_count": null,
   "metadata": {},
   "outputs": [],
   "source": []
  }
 ],
 "metadata": {
  "kernelspec": {
   "display_name": "Python 3",
   "language": "python",
   "name": "python3"
  },
  "language_info": {
   "codemirror_mode": {
    "name": "ipython",
    "version": 3
   },
   "file_extension": ".py",
   "mimetype": "text/x-python",
   "name": "python",
   "nbconvert_exporter": "python",
   "pygments_lexer": "ipython3",
   "version": "3.6.6"
  }
 },
 "nbformat": 4,
 "nbformat_minor": 2
}
